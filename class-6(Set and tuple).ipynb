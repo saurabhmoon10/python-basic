{
 "cells": [
  {
   "cell_type": "markdown",
   "id": "6205c126",
   "metadata": {},
   "source": [
    "# Set"
   ]
  },
  {
   "cell_type": "markdown",
   "id": "aa89eef6",
   "metadata": {},
   "source": [
    "set is mutable in nature.\n",
    "\n",
    "Set is an unordered collection of unique elements.\n",
    "\n",
    "\n",
    "set doesn't support indexing and slicing.\n",
    "\n",
    "\n",
    "set is defined inside the {} (curly-braces).\n",
    "\n",
    "follows the FIFO concept to pop the data\n"
   ]
  },
  {
   "cell_type": "code",
   "execution_count": 2,
   "id": "2aebb479",
   "metadata": {},
   "outputs": [
    {
     "name": "stdout",
     "output_type": "stream",
     "text": [
      "{}\n"
     ]
    }
   ],
   "source": [
    "empty_set={}\n",
    "print(empty_set)"
   ]
  },
  {
   "cell_type": "code",
   "execution_count": 6,
   "id": "661e822e",
   "metadata": {},
   "outputs": [
    {
     "data": {
      "text/plain": [
       "{'a', 'b', 'c'}"
      ]
     },
     "execution_count": 6,
     "metadata": {},
     "output_type": "execute_result"
    }
   ],
   "source": [
    "#assigning element or an object in a set.\n",
    "my_set={'a','b','c'}\n",
    "my_set"
   ]
  },
  {
   "cell_type": "code",
   "execution_count": 7,
   "id": "f8cc2557",
   "metadata": {},
   "outputs": [],
   "source": [
    "#my_set={1}"
   ]
  },
  {
   "cell_type": "code",
   "execution_count": 8,
   "id": "9e128d7c",
   "metadata": {},
   "outputs": [
    {
     "data": {
      "text/plain": [
       "{'a', 'b', 'c', 'd', 'e'}"
      ]
     },
     "execution_count": 8,
     "metadata": {},
     "output_type": "execute_result"
    }
   ],
   "source": [
    "# Set doesn't allow or supports the duplicate values in it .\n",
    "# It only takes unique values , element in it.\n",
    "\n",
    "my_set1={'a','b','b','c','d','e','d','e'}\n",
    "my_set1"
   ]
  },
  {
   "cell_type": "code",
   "execution_count": 9,
   "id": "5dc0560b",
   "metadata": {},
   "outputs": [
    {
     "ename": "SyntaxError",
     "evalue": "invalid syntax. Perhaps you forgot a comma? (1789287435.py, line 3)",
     "output_type": "error",
     "traceback": [
      "\u001b[1;36m  Cell \u001b[1;32mIn[9], line 3\u001b[1;36m\u001b[0m\n\u001b[1;33m    mixed_set={'as',1,2.3,(4,5,6),[4,5,6]True}\u001b[0m\n\u001b[1;37m                                  ^\u001b[0m\n\u001b[1;31mSyntaxError\u001b[0m\u001b[1;31m:\u001b[0m invalid syntax. Perhaps you forgot a comma?\n"
     ]
    }
   ],
   "source": [
    "# A set can have a mixed values in it .\n",
    "\n",
    "mixed_set={'as',1,2.3,(4,5,6),[4,5,6]True}\n",
    "# set not allow list element in it becaz list is mutable and supports indexing and slicing where as set does not.\n",
    "\n",
    "mixed_set"
   ]
  },
  {
   "cell_type": "code",
   "execution_count": 10,
   "id": "1a946d4d",
   "metadata": {},
   "outputs": [
    {
     "name": "stdout",
     "output_type": "stream",
     "text": [
      "{1, 2.3, 'as', (4, 5, 6)}\n",
      "4\n",
      "<class 'set'>\n"
     ]
    }
   ],
   "source": [
    "#  set is unordered in nature by which the indexing of values or object or element is not possible.\n",
    "mixed_set1={'as',1,2.3,(4,5,6),True}\n",
    "print(mixed_set1)\n",
    "print(len(mixed_set1))\n",
    "print(type(mixed_set1))\n"
   ]
  },
  {
   "cell_type": "code",
   "execution_count": 11,
   "id": "426fbd07",
   "metadata": {},
   "outputs": [
    {
     "name": "stdout",
     "output_type": "stream",
     "text": [
      "1\n",
      "2.3\n",
      "as\n",
      "(4, 5, 6)\n"
     ]
    }
   ],
   "source": [
    "# Set is also itterable \n",
    "for i in mixed_set1:\n",
    "    print(i)"
   ]
  },
  {
   "cell_type": "code",
   "execution_count": 12,
   "id": "675ecbc1",
   "metadata": {},
   "outputs": [
    {
     "ename": "TypeError",
     "evalue": "'set' object is not subscriptable",
     "output_type": "error",
     "traceback": [
      "\u001b[1;31m---------------------------------------------------------------------------\u001b[0m",
      "\u001b[1;31mTypeError\u001b[0m                                 Traceback (most recent call last)",
      "Cell \u001b[1;32mIn[12], line 3\u001b[0m\n\u001b[0;32m      1\u001b[0m \u001b[38;5;66;03m# Does not support indexing \u001b[39;00m\n\u001b[0;32m      2\u001b[0m \u001b[38;5;28;01mfor\u001b[39;00m i \u001b[38;5;129;01min\u001b[39;00m \u001b[38;5;28mrange\u001b[39m(\u001b[38;5;28mlen\u001b[39m(mixed_set1)):\n\u001b[1;32m----> 3\u001b[0m     \u001b[38;5;28mprint\u001b[39m(\u001b[38;5;124m\"\u001b[39m\u001b[38;5;124m(\u001b[39m\u001b[38;5;124m\"\u001b[39m,i,\u001b[38;5;124m\"\u001b[39m\u001b[38;5;124m)\u001b[39m\u001b[38;5;124m\"\u001b[39m, \u001b[38;5;124m\"\u001b[39m\u001b[38;5;124mmixed set values \u001b[39m\u001b[38;5;124m\"\u001b[39m,\u001b[43mmixed_set1\u001b[49m\u001b[43m[\u001b[49m\u001b[43mi\u001b[49m\u001b[43m]\u001b[49m)\n",
      "\u001b[1;31mTypeError\u001b[0m: 'set' object is not subscriptable"
     ]
    }
   ],
   "source": [
    "# Does not support indexing \n",
    "for i in range(len(mixed_set1)):\n",
    "    print(\"(\",i,\")\", \"mixed set values \",mixed_set1[i])"
   ]
  },
  {
   "cell_type": "markdown",
   "id": "3c094ca5",
   "metadata": {},
   "source": [
    "# Type-Casting"
   ]
  },
  {
   "cell_type": "code",
   "execution_count": null,
   "id": "08196374",
   "metadata": {},
   "outputs": [],
   "source": [
    "my_list=[1, '1', 2, '2', 3, 3, 3, '3', '4', 4]\n",
    "my_list"
   ]
  },
  {
   "cell_type": "code",
   "execution_count": null,
   "id": "06f359ad",
   "metadata": {},
   "outputs": [],
   "source": [
    "#converting list into set \n",
    "# By using set() built-in funuction.\n",
    "# The result we get here with the unique values ,no duplicate elements are present.\n",
    "new_set=set(my_list)\n",
    "\n",
    "#printing the new_set \n",
    "print(new_set)\n"
   ]
  },
  {
   "cell_type": "code",
   "execution_count": null,
   "id": "098b8b39",
   "metadata": {},
   "outputs": [],
   "source": [
    "# creating a set of cities\n",
    "my_cities={\"Nagpur\",\"Mumbai\",\"Nashik\",\"Pune\"}\n",
    "print(my_cities)\n",
    "print(\"Type of data --\",type(my_cities))\n",
    "print(\"Lenght of element present =\",len(my_cities))"
   ]
  },
  {
   "cell_type": "code",
   "execution_count": null,
   "id": "312eb8c7",
   "metadata": {},
   "outputs": [],
   "source": [
    "#Using list() function to convert the set\n",
    "my_new_list=list(my_cities)\n",
    "\n",
    "print(my_new_list)\n",
    "print(type(my_new_list))"
   ]
  },
  {
   "cell_type": "code",
   "execution_count": 13,
   "id": "53eac63b",
   "metadata": {},
   "outputs": [
    {
     "name": "stdout",
     "output_type": "stream",
     "text": [
      "{'India', 'US'}\n"
     ]
    }
   ],
   "source": [
    "# Here we are having countries with its duplicates values\n",
    "\n",
    "country_set={\"India\",\"US\",\"US\",\"India\"}\n",
    "\n",
    "# So, it prints only the unique values .\n",
    "print(country_set)"
   ]
  },
  {
   "cell_type": "markdown",
   "id": "2638df75",
   "metadata": {},
   "source": [
    "# Function of Set"
   ]
  },
  {
   "cell_type": "markdown",
   "id": "d8f30c85",
   "metadata": {},
   "source": [
    " 'add',--   used to add a object or element in the set.\n",
    " 'clear'--- used to clear the set data ,by which it gives us the empty set.\n",
    " 'copy'---- used to copy the entire set \n",
    " 'difference (-) '--- gives us the uncommon values of data from a two or more sets.\n",
    "\n",
    " 'difference_update',\n",
    " 'discard',\n",
    " 'intersection'- Gives the common values from a two set of data.\n",
    " 'intersection_update',\n",
    " 'isdisjoint',\n",
    " 'issubset',\n",
    " 'issuperset',\n",
    " 'pop'--    used to remove the object in FIFO manner (first in first out) where as list supports LIFO(last in first out)\n",
    " 'remove'-- used to remove the object from the set\n",
    " 'symmetric_difference',\n",
    " 'symmetric_difference_update',\n",
    " 'union(|)'---- used to merge the data of one set with the other set of data. OR combines the two set data together. \n",
    " 'update------It is used to update the particular set.\n",
    "  &--- it is used to print the common values from a two sets of data. "
   ]
  },
  {
   "cell_type": "code",
   "execution_count": 14,
   "id": "8638810b",
   "metadata": {},
   "outputs": [],
   "source": [
    "# (1) Using the add ()function\n",
    "# support only 1 args\n",
    "country_set.add(\"UK\")"
   ]
  },
  {
   "cell_type": "code",
   "execution_count": 15,
   "id": "7b064d5b",
   "metadata": {},
   "outputs": [
    {
     "data": {
      "text/plain": [
       "{'India', 'UK', 'US'}"
      ]
     },
     "execution_count": 15,
     "metadata": {},
     "output_type": "execute_result"
    }
   ],
   "source": [
    "country_set"
   ]
  },
  {
   "cell_type": "code",
   "execution_count": 16,
   "id": "33319858",
   "metadata": {},
   "outputs": [],
   "source": [
    "# (2) Using the remove() function\n",
    "country_set.remove(\"UK\")"
   ]
  },
  {
   "cell_type": "code",
   "execution_count": 17,
   "id": "0771cdff",
   "metadata": {},
   "outputs": [
    {
     "ename": "KeyError",
     "evalue": "'China'",
     "output_type": "error",
     "traceback": [
      "\u001b[1;31m---------------------------------------------------------------------------\u001b[0m",
      "\u001b[1;31mKeyError\u001b[0m                                  Traceback (most recent call last)",
      "Cell \u001b[1;32mIn[17], line 3\u001b[0m\n\u001b[0;32m      1\u001b[0m \u001b[38;5;66;03m# Error occurs here becaz the element \"China\" is not present in the set and when we use remove in such case it gives error.\u001b[39;00m\n\u001b[0;32m      2\u001b[0m \u001b[38;5;66;03m# Instead of this we can use discard() in such scenarios not to get errors.as done below :-\u001b[39;00m\n\u001b[1;32m----> 3\u001b[0m \u001b[43mcountry_set\u001b[49m\u001b[38;5;241;43m.\u001b[39;49m\u001b[43mremove\u001b[49m\u001b[43m(\u001b[49m\u001b[38;5;124;43m\"\u001b[39;49m\u001b[38;5;124;43mChina\u001b[39;49m\u001b[38;5;124;43m\"\u001b[39;49m\u001b[43m)\u001b[49m\n\u001b[0;32m      4\u001b[0m \u001b[38;5;28mprint\u001b[39m(country_set)\n",
      "\u001b[1;31mKeyError\u001b[0m: 'China'"
     ]
    }
   ],
   "source": [
    "# Error occurs here becaz the element \"China\" is not present in the set and when we use remove in such case it gives error.\n",
    "# Instead of this we can use discard() in such scenarios not to get errors.as done below :-\n",
    "country_set.remove(\"China\")\n",
    "print(country_set)"
   ]
  },
  {
   "cell_type": "code",
   "execution_count": 18,
   "id": "c2c5c6e4",
   "metadata": {},
   "outputs": [
    {
     "data": {
      "text/plain": [
       "{'India', 'US'}"
      ]
     },
     "execution_count": 18,
     "metadata": {},
     "output_type": "execute_result"
    }
   ],
   "source": [
    "# (3) using discard() function\n",
    "\n",
    "country_set.discard(\"China\")\n",
    "country_set"
   ]
  },
  {
   "cell_type": "code",
   "execution_count": 19,
   "id": "20c50c49",
   "metadata": {},
   "outputs": [
    {
     "name": "stdout",
     "output_type": "stream",
     "text": [
      "{1, 2, 3, 4, 8, 9}\n",
      "Length is  6\n",
      "\n",
      "Set after using pop () function\n",
      "{2, 3, 4, 8, 9}\n"
     ]
    }
   ],
   "source": [
    "#(4) using pop() function to remove the element froma set . So its follow FIFO\n",
    "\n",
    "test_set={1,2,2,3,4,8,9}\n",
    "print(test_set)\n",
    "print(\"Length is \",len(test_set))\n",
    "\n",
    "print()\n",
    "\n",
    "test_set.pop()\n",
    "print(\"Set after using pop () function\")\n",
    "print(test_set)"
   ]
  },
  {
   "cell_type": "code",
   "execution_count": 20,
   "id": "9ca97e98",
   "metadata": {},
   "outputs": [
    {
     "ename": "TypeError",
     "evalue": "set.pop() takes no arguments (1 given)",
     "output_type": "error",
     "traceback": [
      "\u001b[1;31m---------------------------------------------------------------------------\u001b[0m",
      "\u001b[1;31mTypeError\u001b[0m                                 Traceback (most recent call last)",
      "Cell \u001b[1;32mIn[20], line 2\u001b[0m\n\u001b[0;32m      1\u001b[0m \u001b[38;5;66;03m# shows error becaz of unsupported indexing ,while in list we can pop() the element by providing index value as a argument in pop().\u001b[39;00m\n\u001b[1;32m----> 2\u001b[0m \u001b[43mtest_set\u001b[49m\u001b[38;5;241;43m.\u001b[39;49m\u001b[43mpop\u001b[49m\u001b[43m(\u001b[49m\u001b[38;5;241;43m3\u001b[39;49m\u001b[43m)\u001b[49m\n",
      "\u001b[1;31mTypeError\u001b[0m: set.pop() takes no arguments (1 given)"
     ]
    }
   ],
   "source": [
    "# shows error becaz of unsupported indexing ,while in list we can pop() the element by providing index value as a argument in pop().\n",
    "test_set.pop(3)"
   ]
  },
  {
   "cell_type": "code",
   "execution_count": 21,
   "id": "d2af37b7",
   "metadata": {},
   "outputs": [
    {
     "name": "stdout",
     "output_type": "stream",
     "text": [
      "set()\n"
     ]
    }
   ],
   "source": [
    "#(5) using clear()\n",
    " \n",
    "test_set.clear() # it removes all the element from a set and gives us a blank set.\n",
    "\n",
    "print(test_set)"
   ]
  },
  {
   "cell_type": "code",
   "execution_count": 22,
   "id": "4e63de0d",
   "metadata": {},
   "outputs": [
    {
     "data": {
      "text/plain": [
       "True"
      ]
     },
     "execution_count": 22,
     "metadata": {},
     "output_type": "execute_result"
    }
   ],
   "source": [
    "\"India\" in country_set"
   ]
  },
  {
   "cell_type": "code",
   "execution_count": 23,
   "id": "ce731825",
   "metadata": {},
   "outputs": [
    {
     "data": {
      "text/plain": [
       "False"
      ]
     },
     "execution_count": 23,
     "metadata": {},
     "output_type": "execute_result"
    }
   ],
   "source": [
    "\"India\" not in country_set"
   ]
  },
  {
   "cell_type": "code",
   "execution_count": 24,
   "id": "ee6cd0de",
   "metadata": {},
   "outputs": [
    {
     "data": {
      "text/plain": [
       "True"
      ]
     },
     "execution_count": 24,
     "metadata": {},
     "output_type": "execute_result"
    }
   ],
   "source": [
    "\"UK\" not in country_set"
   ]
  },
  {
   "cell_type": "code",
   "execution_count": 25,
   "id": "85bb9118",
   "metadata": {},
   "outputs": [
    {
     "data": {
      "text/plain": [
       "{'Mumbai', 'Nagpur'}"
      ]
     },
     "execution_count": 25,
     "metadata": {},
     "output_type": "execute_result"
    }
   ],
   "source": [
    "# here we have 3 sets of data.\n",
    "\n",
    "MH_cities={\"Nagpur\",\"Mumbai\",\"Nashik\"}\n",
    "Goa_cities={\"Panjim\", \"Vasco\", \"Madgaon\"}\n",
    "western_region_cities = {\"Panjim\", \"Vasco\", \"Pune\", \"Mumbai\", \"Nagpur\"}\n",
    "\n",
    "\n",
    "MH_cities & western_region_cities\n",
    "# & operator gives us the common elements or objects from the 2 set.\n"
   ]
  },
  {
   "cell_type": "code",
   "execution_count": 26,
   "id": "74ef21d7",
   "metadata": {},
   "outputs": [
    {
     "data": {
      "text/plain": [
       "set()"
      ]
     },
     "execution_count": 26,
     "metadata": {},
     "output_type": "execute_result"
    }
   ],
   "source": [
    "# this give only set() function becaz there is no common elements present in this set.\n",
    "MH_cities & Goa_cities"
   ]
  },
  {
   "cell_type": "code",
   "execution_count": 27,
   "id": "248daa3c",
   "metadata": {},
   "outputs": [
    {
     "data": {
      "text/plain": [
       "{'Mumbai', 'Nagpur', 'Pune'}"
      ]
     },
     "execution_count": 27,
     "metadata": {},
     "output_type": "execute_result"
    }
   ],
   "source": [
    "# gives the uncommon elements from sets. \n",
    "western_region_cities.difference(Goa_cities)"
   ]
  },
  {
   "cell_type": "code",
   "execution_count": 28,
   "id": "d6efaafa",
   "metadata": {},
   "outputs": [
    {
     "data": {
      "text/plain": [
       "{'Nashik'}"
      ]
     },
     "execution_count": 28,
     "metadata": {},
     "output_type": "execute_result"
    }
   ],
   "source": [
    "MH_cities-western_region_cities"
   ]
  },
  {
   "cell_type": "code",
   "execution_count": 29,
   "id": "87ff0ad6",
   "metadata": {},
   "outputs": [
    {
     "data": {
      "text/plain": [
       "{'Mumbai', 'Nagpur'}"
      ]
     },
     "execution_count": 29,
     "metadata": {},
     "output_type": "execute_result"
    }
   ],
   "source": [
    "# Gives the common element as like &.\n",
    "western_region_cities.intersection(MH_cities)"
   ]
  },
  {
   "cell_type": "code",
   "execution_count": 30,
   "id": "2a5dc432",
   "metadata": {},
   "outputs": [
    {
     "data": {
      "text/plain": [
       "{'Mumbai', 'Nagpur', 'Nashik', 'Panjim', 'Pune', 'Vasco'}"
      ]
     },
     "execution_count": 30,
     "metadata": {},
     "output_type": "execute_result"
    }
   ],
   "source": [
    "# union ( ) combines all the element  of sets together.\n",
    "MH_cities.union(western_region_cities)"
   ]
  },
  {
   "cell_type": "code",
   "execution_count": 35,
   "id": "5c6d5ca7",
   "metadata": {},
   "outputs": [
    {
     "data": {
      "text/plain": [
       "{'Mumbai', 'Nagpur', 'Nashik', 'Panjim', 'Pune', 'Vasco'}"
      ]
     },
     "execution_count": 35,
     "metadata": {},
     "output_type": "execute_result"
    }
   ],
   "source": [
    "# this | symbols works the same as union ()function.\n",
    "MH_cities|western_region_cities"
   ]
  },
  {
   "cell_type": "code",
   "execution_count": 38,
   "id": "3abc3ba7",
   "metadata": {},
   "outputs": [],
   "source": [
    "# the best example for its mutability.\n",
    "MH_cities.update({\"Wardha\"})"
   ]
  },
  {
   "cell_type": "code",
   "execution_count": 39,
   "id": "718d74f7",
   "metadata": {},
   "outputs": [
    {
     "data": {
      "text/plain": [
       "{'Mumbai', 'Nagpur', 'Nashik', 'W', 'Wardha', 'a', 'd', 'h', 'r'}"
      ]
     },
     "execution_count": 39,
     "metadata": {},
     "output_type": "execute_result"
    }
   ],
   "source": [
    "MH_cities\n"
   ]
  },
  {
   "cell_type": "code",
   "execution_count": 41,
   "id": "d40dd8ea",
   "metadata": {},
   "outputs": [
    {
     "name": "stdout",
     "output_type": "stream",
     "text": [
      "All languages     {'r', 'c++', 'python', 'java', 'c'}\n",
      "\n",
      "Data Science languages count    2\n",
      "\n",
      "Languages which are not data science languages     {'java', 'c', 'c++'}\n",
      "\n",
      "languages which are both programming language and data science languages     {'python'}\n",
      "\n",
      "Only data science languages     {'r'}\n",
      "\n"
     ]
    }
   ],
   "source": [
    "coding_languages = {'python', 'java', 'c', 'c++'}\n",
    "ds_languages = {\"python\", 'r'}\n",
    "\n",
    "#(a) What are all programming languages are available?\n",
    "print(\"All languages    \" , coding_languages.union(ds_languages)) # here we can use ( | ) symbol to get the same resul\n",
    "print()\n",
    "\n",
    "#(b) How many data science languages are available?\n",
    "print(\"Data Science languages count   \" , len(ds_languages))\n",
    "print()\n",
    "\n",
    "#(c) List languages which are not data science languages?\n",
    "print(\"Languages which are not data science languages    \" , coding_languages.difference(ds_languages)) # we can (-) in place of difference to get the same output\n",
    "print()\n",
    "\n",
    "#(d) List languages which are both programming language and data science languages.\n",
    "print(\"languages which are both programming language and data science languages    \" , coding_languages & ds_languages)\n",
    "print()\n",
    "\n",
    "\n",
    "#(e) List languges which are only data science languages.\n",
    "print(\"Only data science languages    \" , ds_languages - coding_languages)\n",
    "print()"
   ]
  },
  {
   "cell_type": "code",
   "execution_count": 42,
   "id": "72e453e1",
   "metadata": {},
   "outputs": [
    {
     "data": {
      "text/plain": [
       "['__add__',\n",
       " '__class__',\n",
       " '__contains__',\n",
       " '__delattr__',\n",
       " '__dir__',\n",
       " '__doc__',\n",
       " '__eq__',\n",
       " '__format__',\n",
       " '__ge__',\n",
       " '__getattribute__',\n",
       " '__getitem__',\n",
       " '__getnewargs__',\n",
       " '__gt__',\n",
       " '__hash__',\n",
       " '__init__',\n",
       " '__init_subclass__',\n",
       " '__iter__',\n",
       " '__le__',\n",
       " '__len__',\n",
       " '__lt__',\n",
       " '__mod__',\n",
       " '__mul__',\n",
       " '__ne__',\n",
       " '__new__',\n",
       " '__reduce__',\n",
       " '__reduce_ex__',\n",
       " '__repr__',\n",
       " '__rmod__',\n",
       " '__rmul__',\n",
       " '__setattr__',\n",
       " '__sizeof__',\n",
       " '__str__',\n",
       " '__subclasshook__',\n",
       " 'capitalize',\n",
       " 'casefold',\n",
       " 'center',\n",
       " 'count',\n",
       " 'encode',\n",
       " 'endswith',\n",
       " 'expandtabs',\n",
       " 'find',\n",
       " 'format',\n",
       " 'format_map',\n",
       " 'index',\n",
       " 'isalnum',\n",
       " 'isalpha',\n",
       " 'isascii',\n",
       " 'isdecimal',\n",
       " 'isdigit',\n",
       " 'isidentifier',\n",
       " 'islower',\n",
       " 'isnumeric',\n",
       " 'isprintable',\n",
       " 'isspace',\n",
       " 'istitle',\n",
       " 'isupper',\n",
       " 'join',\n",
       " 'ljust',\n",
       " 'lower',\n",
       " 'lstrip',\n",
       " 'maketrans',\n",
       " 'partition',\n",
       " 'removeprefix',\n",
       " 'removesuffix',\n",
       " 'replace',\n",
       " 'rfind',\n",
       " 'rindex',\n",
       " 'rjust',\n",
       " 'rpartition',\n",
       " 'rsplit',\n",
       " 'rstrip',\n",
       " 'split',\n",
       " 'splitlines',\n",
       " 'startswith',\n",
       " 'strip',\n",
       " 'swapcase',\n",
       " 'title',\n",
       " 'translate',\n",
       " 'upper',\n",
       " 'zfill']"
      ]
     },
     "execution_count": 42,
     "metadata": {},
     "output_type": "execute_result"
    }
   ],
   "source": []
  },
  {
   "cell_type": "code",
   "execution_count": null,
   "id": "0472d5eb",
   "metadata": {},
   "outputs": [],
   "source": []
  },
  {
   "cell_type": "code",
   "execution_count": null,
   "id": "650b54da",
   "metadata": {},
   "outputs": [],
   "source": []
  }
 ],
 "metadata": {
  "kernelspec": {
   "display_name": "Python 3 (ipykernel)",
   "language": "python",
   "name": "python3"
  },
  "language_info": {
   "codemirror_mode": {
    "name": "ipython",
    "version": 3
   },
   "file_extension": ".py",
   "mimetype": "text/x-python",
   "name": "python",
   "nbconvert_exporter": "python",
   "pygments_lexer": "ipython3",
   "version": "3.10.9"
  }
 },
 "nbformat": 4,
 "nbformat_minor": 5
}
