{
 "cells": [
  {
   "cell_type": "code",
   "execution_count": null,
   "id": "87b0d158",
   "metadata": {},
   "outputs": [],
   "source": []
  },
  {
   "cell_type": "markdown",
   "id": "18e88fab",
   "metadata": {},
   "source": [
    "### Make a list of numbers and use list comprehension to create a new list with only the even numbers."
   ]
  },
  {
   "cell_type": "code",
   "execution_count": 4,
   "id": "9557b46c",
   "metadata": {},
   "outputs": [
    {
     "name": "stdout",
     "output_type": "stream",
     "text": [
      "[2, 4, 6, 8, 10]\n"
     ]
    }
   ],
   "source": [
    "try:\n",
    "    # Sample list of numbers\n",
    "    numbers = [1, 2, 3, 4, 5, 6, 7, 8, 9, 10]\n",
    "\n",
    "    # Creating a new list with only the even numbers using list comprehension\n",
    "    even_numbers = [num for num in numbers if num % 2 == 0]\n",
    "\n",
    "    # Displaying the new list of even numbers\n",
    "    print(even_numbers)\n",
    "\n",
    "except Exception as e:\n",
    "    print(e)"
   ]
  },
  {
   "cell_type": "code",
   "execution_count": null,
   "id": "37011fd4",
   "metadata": {},
   "outputs": [],
   "source": []
  },
  {
   "cell_type": "code",
   "execution_count": 5,
   "id": "7d8862c5",
   "metadata": {},
   "outputs": [
    {
     "name": "stdout",
     "output_type": "stream",
     "text": [
      "Reversed List: [5, 4, 3, 2, 1]\n"
     ]
    }
   ],
   "source": [
    "try:\n",
    "    # Sample list\n",
    "    my_list = [1, 2, 3, 4, 5]\n",
    "\n",
    "    # Reversing the list without using reverse() or slicing\n",
    "    list_length = len(my_list)\n",
    "    for i in range(list_length // 2):\n",
    "        my_list[i], my_list[list_length - i - 1] = my_list[list_length - i - 1], my_list[i]\n",
    "\n",
    "    # Displaying the reversed list\n",
    "    print(\"Reversed List:\", my_list)\n",
    "    \n",
    "except Exception as e:\n",
    "    print(e)"
   ]
  },
  {
   "cell_type": "code",
   "execution_count": null,
   "id": "bbdc0f27",
   "metadata": {},
   "outputs": [],
   "source": []
  }
 ],
 "metadata": {
  "kernelspec": {
   "display_name": "Python 3 (ipykernel)",
   "language": "python",
   "name": "python3"
  },
  "language_info": {
   "codemirror_mode": {
    "name": "ipython",
    "version": 3
   },
   "file_extension": ".py",
   "mimetype": "text/x-python",
   "name": "python",
   "nbconvert_exporter": "python",
   "pygments_lexer": "ipython3",
   "version": "3.11.5"
  }
 },
 "nbformat": 4,
 "nbformat_minor": 5
}
