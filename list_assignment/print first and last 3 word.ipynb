{
 "cells": [
  {
   "cell_type": "markdown",
   "id": "929035b5",
   "metadata": {},
   "source": [
    "### Take a list of words and print the first three and last three words without changing the original list."
   ]
  },
  {
   "cell_type": "code",
   "execution_count": 2,
   "id": "0fe4225b",
   "metadata": {},
   "outputs": [],
   "source": [
    "import logging\n",
    "\n",
    "\n",
    "\n"
   ]
  },
  {
   "cell_type": "code",
   "execution_count": 3,
   "id": "bfe83755",
   "metadata": {},
   "outputs": [],
   "source": [
    "logging.basicConfig(filename=\"print_first_last_words.log\",level=logging.DEBUG,format='%(asctime)s - %(levelname)s - %(message)s')\n"
   ]
  },
  {
   "cell_type": "code",
   "execution_count": 1,
   "id": "7c1d2c34",
   "metadata": {},
   "outputs": [
    {
     "name": "stdout",
     "output_type": "stream",
     "text": [
      "First three words: ['apple', 'banana', 'orange']\n",
      "Last three words: ['kiwi', 'melon', 'pear']\n"
     ]
    }
   ],
   "source": [
    "try:\n",
    "    # Example list of words\n",
    "    word_list = [\"apple\", \"banana\", \"orange\", \"grape\", \"kiwi\", \"melon\", \"pear\"]\n",
    "\n",
    "    # Create a new list containing the first three words\n",
    "    first_three = word_list[:3]\n",
    "\n",
    "    # Create a new list containing the last three words\n",
    "    last_three = word_list[-3:]\n",
    "\n",
    "    # Print the first three and last three words\n",
    "    print(\"First three words:\", first_three)\n",
    "    print(\"Last three words:\", last_three)\n",
    "    \n",
    "except Exception as e:\n",
    "    print(e)"
   ]
  },
  {
   "cell_type": "code",
   "execution_count": null,
   "id": "0972de6b",
   "metadata": {},
   "outputs": [],
   "source": []
  },
  {
   "cell_type": "code",
   "execution_count": 6,
   "id": "5796428a",
   "metadata": {},
   "outputs": [],
   "source": [
    "# Doing the same task using the user define function\n",
    "def first_last_words():\n",
    "    \"\"\"It is used to print the first 3 and last 3 element from the list.\"\"\"\n",
    "    try:\n",
    "        word_list=[\"India\",\"Germany\",\"Dubai\",\"Korea\",\"Japan\",\"China\",\"Italy\",\"France\",\"Australia\"]\n",
    "        logging.info(\"Created country name list\")\n",
    "        \n",
    "        # slicing for first 3 element and storing in the variable.\n",
    "        first_three=word_list[:3]\n",
    "        logging.info(\"Generated first three element of word_list\")\n",
    "        \n",
    "        last_three=word_list[-3:] # neagtive indexing\n",
    "        logging.info(\"Generated last three element of word_list.\")\n",
    "        \n",
    "        print(f\"Original list\\n{word_list}\")\n",
    "        print()\n",
    "        print(f\"Starting three elements of word list are\\n{first_three}\")\n",
    "        print()\n",
    "        print(f\"Ending three elements of word list are\\n{last_three}\")\n",
    "        \n",
    "    except Exception as e:\n",
    "        print(e)\n",
    "        \n",
    "    return"
   ]
  },
  {
   "cell_type": "code",
   "execution_count": 7,
   "id": "b42b869b",
   "metadata": {},
   "outputs": [
    {
     "name": "stdout",
     "output_type": "stream",
     "text": [
      "Original list\n",
      "['India', 'Germany', 'Dubai', 'Korea', 'Japan', 'China', 'Italy', 'France', 'Australia']\n",
      "\n",
      "Starting three elements of word list are\n",
      "['India', 'Germany', 'Dubai']\n",
      "\n",
      "Ending three elements of word list are\n",
      "['Italy', 'France', 'Australia']\n"
     ]
    }
   ],
   "source": [
    "first_last_words()"
   ]
  },
  {
   "cell_type": "code",
   "execution_count": null,
   "id": "c5773b22",
   "metadata": {},
   "outputs": [],
   "source": []
  }
 ],
 "metadata": {
  "kernelspec": {
   "display_name": "Python 3 (ipykernel)",
   "language": "python",
   "name": "python3"
  },
  "language_info": {
   "codemirror_mode": {
    "name": "ipython",
    "version": 3
   },
   "file_extension": ".py",
   "mimetype": "text/x-python",
   "name": "python",
   "nbconvert_exporter": "python",
   "pygments_lexer": "ipython3",
   "version": "3.11.5"
  }
 },
 "nbformat": 4,
 "nbformat_minor": 5
}
