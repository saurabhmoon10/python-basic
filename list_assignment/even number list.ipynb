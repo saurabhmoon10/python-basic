{
 "cells": [
  {
   "cell_type": "code",
   "execution_count": null,
   "id": "8bbffcf0",
   "metadata": {},
   "outputs": [],
   "source": []
  },
  {
   "cell_type": "markdown",
   "id": "7893d0a8",
   "metadata": {},
   "source": [
    "### Make a list of numbers and use list comprehension to create a new list with only the even numbers."
   ]
  },
  {
   "cell_type": "code",
   "execution_count": null,
   "id": "72f418ea",
   "metadata": {},
   "outputs": [],
   "source": [
    "try:\n",
    "    # Sample list of numbers\n",
    "    numbers = [1, 2, 3, 4, 5, 6, 7, 8, 9, 10]\n",
    "\n",
    "    # Creating a new list with only the even numbers using list comprehension\n",
    "    even_numbers = [num for num in numbers if num % 2 == 0]\n",
    "\n",
    "    # Displaying the new list of even numbers\n",
    "    print(even_numbers)\n"
   ]
  }
 ],
 "metadata": {
  "kernelspec": {
   "display_name": "Python 3 (ipykernel)",
   "language": "python",
   "name": "python3"
  },
  "language_info": {
   "codemirror_mode": {
    "name": "ipython",
    "version": 3
   },
   "file_extension": ".py",
   "mimetype": "text/x-python",
   "name": "python",
   "nbconvert_exporter": "python",
   "pygments_lexer": "ipython3",
   "version": "3.11.5"
  }
 },
 "nbformat": 4,
 "nbformat_minor": 5
}
