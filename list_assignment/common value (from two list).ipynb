{
 "cells": [
  {
   "cell_type": "markdown",
   "id": "6a2f4d8f",
   "metadata": {},
   "source": [
    "### Create two lists of numbers and find the common elements between them. Print the result."
   ]
  },
  {
   "cell_type": "code",
   "execution_count": 16,
   "id": "0fe4225b",
   "metadata": {},
   "outputs": [],
   "source": [
    "import logging\n",
    "\n",
    "\n",
    "\n"
   ]
  },
  {
   "cell_type": "code",
   "execution_count": 17,
   "id": "2d05b43e",
   "metadata": {},
   "outputs": [],
   "source": [
    "logging.basicConfig(filename=\"common_list.log\",level=logging.DEBUG,format='%(asctime)s - %(levelname)s - %(message)s')\n"
   ]
  },
  {
   "cell_type": "code",
   "execution_count": null,
   "id": "dd1cdada",
   "metadata": {},
   "outputs": [],
   "source": []
  },
  {
   "cell_type": "code",
   "execution_count": 18,
   "id": "415a8ba3",
   "metadata": {},
   "outputs": [],
   "source": [
    "# creating a function for list to find the common element present in it.\n",
    "def common_list():\n",
    "    logging.info(\"Successfully!! created a function to get the common element of a list.\")\n",
    "    \"\"\"It is used to find the common element from the two list\"\"\"\n",
    "    try:\n",
    "        count=5\n",
    "        l1=[]\n",
    "        for i in range(count):\n",
    "            user_intput=int(input(\"Enter the values:-\\t\"))\n",
    "            l1.append(user_intput)\n",
    "            logging.info(\"Created l1 to store the value for list1\")\n",
    "        print()\n",
    "        print(\"************\")\n",
    "        print(\"List1 created\")\n",
    "        print(l1)\n",
    "        print(\"************\")\n",
    "        print()\n",
    "        l2=[]\n",
    "        for j in range(count):\n",
    "            user=int(input(\"Enter the number :-\\t\"))\n",
    "            l2.append(user)\n",
    "            logging.info(\"Created l2 to store the value for list2\")\n",
    "            \n",
    "        print()\n",
    "        print(\"************\")\n",
    "        print(\"List2 created\")\n",
    "        print(l2)\n",
    "        print(\"************\")\n",
    "        \n",
    "        print()\n",
    "        \n",
    "        # converting list 1 and list 2 to get the common element in them and converting back the result in list.\n",
    "        a=set(l1)&set(l2)\n",
    "        \n",
    "        #converting set result into list result.\n",
    "        result=list(a)\n",
    "        \n",
    "        print()\n",
    "        print(\"Common Elements from list 1 and list 2.\")\n",
    "        print(result)\n",
    "        logging.info(\"Successfully!! tracked the common element from the l1 and l2 list.\")\n",
    "        \n",
    "        \n",
    "        \n",
    "    except Exception as e:\n",
    "        print(e)\n",
    "    \n",
    "    return\n",
    "\n"
   ]
  },
  {
   "cell_type": "code",
   "execution_count": 19,
   "id": "3a663cdf",
   "metadata": {},
   "outputs": [
    {
     "name": "stdout",
     "output_type": "stream",
     "text": [
      "Enter the values:-\t1\n",
      "Enter the values:-\t2\n",
      "Enter the values:-\t3\n",
      "Enter the values:-\t4\n",
      "Enter the values:-\t2\n",
      "\n",
      "************\n",
      "List1 created\n",
      "[1, 2, 3, 4, 2]\n",
      "************\n",
      "\n",
      "Enter the number :-\t2\n",
      "Enter the number :-\t3\n",
      "Enter the number :-\t5\n",
      "Enter the number :-\t4\n",
      "Enter the number :-\t6\n",
      "\n",
      "************\n",
      "List2 created\n",
      "[2, 3, 5, 4, 6]\n",
      "************\n",
      "\n",
      "\n",
      "Common Elements from list 1 and list 2.\n",
      "[2, 3, 4]\n"
     ]
    }
   ],
   "source": [
    "common_list()"
   ]
  },
  {
   "cell_type": "code",
   "execution_count": null,
   "id": "a2f49429",
   "metadata": {},
   "outputs": [],
   "source": []
  },
  {
   "cell_type": "code",
   "execution_count": 15,
   "id": "1f9bc120",
   "metadata": {},
   "outputs": [
    {
     "name": "stdout",
     "output_type": "stream",
     "text": [
      "[2, 3, 4, 5]\n"
     ]
    }
   ],
   "source": [
    "#another way of doing the same problem without function\n",
    "A=[1,2,3,4,5]\n",
    "B=[2,3,4,5,6]\n",
    "\n",
    "#converting the list into set\n",
    "demo_result=set(A)&set(B)\n",
    "\n",
    "#converting the demo result into list\n",
    "result=list(demo_result)\n",
    "\n",
    "print(result)"
   ]
  },
  {
   "cell_type": "code",
   "execution_count": null,
   "id": "36fa101e",
   "metadata": {},
   "outputs": [],
   "source": []
  }
 ],
 "metadata": {
  "kernelspec": {
   "display_name": "Python 3 (ipykernel)",
   "language": "python",
   "name": "python3"
  },
  "language_info": {
   "codemirror_mode": {
    "name": "ipython",
    "version": 3
   },
   "file_extension": ".py",
   "mimetype": "text/x-python",
   "name": "python",
   "nbconvert_exporter": "python",
   "pygments_lexer": "ipython3",
   "version": "3.11.5"
  }
 },
 "nbformat": 4,
 "nbformat_minor": 5
}
