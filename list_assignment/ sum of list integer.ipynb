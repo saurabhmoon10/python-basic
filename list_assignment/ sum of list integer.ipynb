{
 "cells": [
  {
   "cell_type": "code",
   "execution_count": null,
   "id": "0aacdcf6",
   "metadata": {},
   "outputs": [],
   "source": []
  },
  {
   "cell_type": "markdown",
   "id": "37fa4785",
   "metadata": {},
   "source": [
    "### Write a program that calculates the sum of all the numbers in a given list of integers."
   ]
  },
  {
   "cell_type": "code",
   "execution_count": 1,
   "id": "6e7dea46",
   "metadata": {},
   "outputs": [
    {
     "name": "stdout",
     "output_type": "stream",
     "text": [
      "Sum of list number:-\n",
      "The total of list [1, 2, 3, 4, 5, 6, 7, 8, 9, 10] is 55.\n"
     ]
    }
   ],
   "source": [
    "# creating a list of range 1 to 10.\n",
    "a=[1,2,3,4,5,6,7,8,9,10]\n",
    "\n",
    "print(\"Sum of list number:-\")\n",
    "c=sum(a) # using sum() to calculation the adding of numbers present in list\n",
    "\n",
    "print(f\"The total of list {a} is {c}.\")"
   ]
  },
  {
   "cell_type": "code",
   "execution_count": null,
   "id": "74a6e409",
   "metadata": {},
   "outputs": [],
   "source": []
  }
 ],
 "metadata": {
  "kernelspec": {
   "display_name": "Python 3 (ipykernel)",
   "language": "python",
   "name": "python3"
  },
  "language_info": {
   "codemirror_mode": {
    "name": "ipython",
    "version": 3
   },
   "file_extension": ".py",
   "mimetype": "text/x-python",
   "name": "python",
   "nbconvert_exporter": "python",
   "pygments_lexer": "ipython3",
   "version": "3.11.5"
  }
 },
 "nbformat": 4,
 "nbformat_minor": 5
}
