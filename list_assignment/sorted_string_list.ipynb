{
 "cells": [
  {
   "cell_type": "markdown",
   "id": "7ed40a5a",
   "metadata": {},
   "source": [
    "### Make a list of words (strings) and sort them in alphabetical order. Print both the original and sorted lists."
   ]
  },
  {
   "cell_type": "code",
   "execution_count": 1,
   "id": "0fe4225b",
   "metadata": {},
   "outputs": [],
   "source": [
    "import logging\n",
    "\n",
    "\n",
    "\n"
   ]
  },
  {
   "cell_type": "code",
   "execution_count": 2,
   "id": "2d05b43e",
   "metadata": {},
   "outputs": [],
   "source": [
    "logging.basicConfig(filename=\"words_sorted_list.log\",level=logging.DEBUG,format='%(asctime)s - %(levelname)s - %(message)s')\n"
   ]
  },
  {
   "cell_type": "code",
   "execution_count": 4,
   "id": "bf39d5bd",
   "metadata": {},
   "outputs": [],
   "source": [
    "#creating a function for sorting the list in alphabetical order.\n",
    "def word_sort_list():\n",
    "    \"\"\"It is used to sort the string in alphabetic order\"\"\"\n",
    "    try:\n",
    "        \n",
    "        li=['sun','light','earth','galaxy','Astronaut']\n",
    "        logging.info(\"created list of string\")\n",
    "        \n",
    "        #now storing the list of word in alphabetic order.\n",
    "        string_sort_list=sorted(li)\n",
    "        logging.info(\"successfully sorted the string list in alphabetic order.\")\n",
    "        \n",
    "        #printing the original word list\n",
    "        print(f\"Original list\\n{li}\")\n",
    "        print()\n",
    "        print(f\"Sorted_word_list\\n{string_sort_list}\")\n",
    "              \n",
    "    except Exception as e:\n",
    "              print(e)\n",
    "              \n",
    "    return\n",
    "    "
   ]
  },
  {
   "cell_type": "code",
   "execution_count": 5,
   "id": "232184cb",
   "metadata": {},
   "outputs": [
    {
     "name": "stdout",
     "output_type": "stream",
     "text": [
      "Original list\n",
      "['sun', 'light', 'earth', 'galaxy', 'Astronaut']\n",
      "\n",
      "Sorted_word_list\n",
      "['Astronaut', 'earth', 'galaxy', 'light', 'sun']\n"
     ]
    }
   ],
   "source": [
    "word_sort_list()"
   ]
  },
  {
   "cell_type": "code",
   "execution_count": null,
   "id": "dd1cdada",
   "metadata": {},
   "outputs": [],
   "source": []
  }
 ],
 "metadata": {
  "kernelspec": {
   "display_name": "Python 3 (ipykernel)",
   "language": "python",
   "name": "python3"
  },
  "language_info": {
   "codemirror_mode": {
    "name": "ipython",
    "version": 3
   },
   "file_extension": ".py",
   "mimetype": "text/x-python",
   "name": "python",
   "nbconvert_exporter": "python",
   "pygments_lexer": "ipython3",
   "version": "3.11.5"
  }
 },
 "nbformat": 4,
 "nbformat_minor": 5
}
