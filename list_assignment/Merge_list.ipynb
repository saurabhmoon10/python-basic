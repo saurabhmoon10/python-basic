{
 "cells": [
  {
   "cell_type": "code",
   "execution_count": null,
   "id": "031c19dd",
   "metadata": {},
   "outputs": [],
   "source": []
  },
  {
   "cell_type": "markdown",
   "id": "99044c9e",
   "metadata": {},
   "source": [
    "### Combine two lists into a single list without using the + operator. Print the merged list."
   ]
  },
  {
   "cell_type": "code",
   "execution_count": 6,
   "id": "0fe4225b",
   "metadata": {},
   "outputs": [],
   "source": [
    "import logging\n",
    "\n",
    "\n",
    "\n"
   ]
  },
  {
   "cell_type": "code",
   "execution_count": 7,
   "id": "490eb845",
   "metadata": {},
   "outputs": [],
   "source": [
    "logging.basicConfig(filename=\"merged_list.log\",level=logging.DEBUG,format='%(asctime)s - %(levelname)s - %(message)s')\n"
   ]
  },
  {
   "cell_type": "code",
   "execution_count": 19,
   "id": "de85d3ae",
   "metadata": {},
   "outputs": [],
   "source": [
    "#creating the user define merged list function\n",
    "def merged_list():\n",
    "    \"\"\"Merging the list\"\"\"\n",
    "    try:\n",
    "        count=3\n",
    "        print(\"list-1\")\n",
    "        l1=[]\n",
    "        \n",
    "        for i in range(count):\n",
    "            a=int(input(\"Enter the random value\\n\"))\n",
    "            logging.info(\"Stored a number values in 'a' variable.\")\n",
    "            l1.append(a)\n",
    "        print(l1)\n",
    "        logging.info(\"Successfully!!! created a list on number.\")\n",
    "        print()\n",
    "        #creating the second list\n",
    "        print(\"list-2\")\n",
    "        l2=[]\n",
    "        \n",
    "        for j in range(count):\n",
    "            b=input(\"Enter the element here\\n\")\n",
    "            logging.info(\"Stored a value in 'b' variable.\")\n",
    "            l2.append(b)\n",
    "            \n",
    "        print(l2)\n",
    "        logging.info(\"Successfully!!! created a second list with elements.\")\n",
    "        print()\n",
    "        # Now merging the l1 and l2 together.\n",
    "        merged_list= l1.copy()  # Create a copy of list1 to preserve the original list\n",
    "        merged_list.extend(l2)  # Extend list1 with elements from list2\n",
    "        print()\n",
    "        print(\"Merged List\")\n",
    "        print(merged_list)\n",
    "        logging.info(\"Successfully!!!merged the list together.\")\n",
    "    \n",
    "    except Exception as e:\n",
    "        print(e)\n",
    "        \n",
    "    return\n",
    "        "
   ]
  },
  {
   "cell_type": "code",
   "execution_count": 20,
   "id": "4c60fce2",
   "metadata": {},
   "outputs": [
    {
     "name": "stdout",
     "output_type": "stream",
     "text": [
      "list-1\n",
      "Enter the random value\n",
      "1\n",
      "Enter the random value\n",
      "2\n",
      "Enter the random value\n",
      "3\n",
      "[1, 2, 3]\n",
      "\n",
      "list-2\n",
      "Enter the element here\n",
      "saurabh\n",
      "Enter the element here\n",
      "rahul\n",
      "Enter the element here\n",
      "rohan\n",
      "['saurabh', 'rahul', 'rohan']\n",
      "\n",
      "\n",
      "Merged List\n",
      "[1, 2, 3, 'saurabh', 'rahul', 'rohan']\n"
     ]
    }
   ],
   "source": [
    "merged_list()"
   ]
  },
  {
   "cell_type": "code",
   "execution_count": null,
   "id": "2b89453d",
   "metadata": {},
   "outputs": [],
   "source": []
  }
 ],
 "metadata": {
  "kernelspec": {
   "display_name": "Python 3 (ipykernel)",
   "language": "python",
   "name": "python3"
  },
  "language_info": {
   "codemirror_mode": {
    "name": "ipython",
    "version": 3
   },
   "file_extension": ".py",
   "mimetype": "text/x-python",
   "name": "python",
   "nbconvert_exporter": "python",
   "pygments_lexer": "ipython3",
   "version": "3.11.5"
  }
 },
 "nbformat": 4,
 "nbformat_minor": 5
}
