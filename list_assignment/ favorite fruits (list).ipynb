{
 "cells": [
  {
   "cell_type": "markdown",
   "id": "8b5730f3",
   "metadata": {},
   "source": [
    "### Create a list of your favorite fruits. Add a new fruit to the list, remove one fruit, and print the modified list."
   ]
  },
  {
   "cell_type": "code",
   "execution_count": 7,
   "id": "9abc0958",
   "metadata": {},
   "outputs": [
    {
     "name": "stdout",
     "output_type": "stream",
     "text": [
      "Enter the fruit name\n",
      "apple\n",
      "Enter the fruit name\n",
      "mango\n",
      "Enter the fruit name\n",
      "orange\n",
      "Enter the fruit name\n",
      "grapes\n",
      "Enter the fruit name\n",
      "pineapple\n",
      "['apple', 'mango', 'orange', 'grapes', 'pineapple']\n",
      "Add a fruit in the list\n",
      "strawberry\n",
      "\n",
      "Modified list of favourite fruits:-\n",
      "['mango', 'orange', 'grapes', 'pineapple', 'strawberry']\n"
     ]
    }
   ],
   "source": [
    "import logging\n",
    "\n",
    "logging.basicConfig(filename=\"fav_fruit.log\",level=logging.DEBUG,format='%(asctime)s - %(levelname)s - %(message)s')\n",
    "try:\n",
    "    li=[]\n",
    "    num=5\n",
    "    for i in range(num):\n",
    "        user_input=input(\"Enter the fruit name\\n\")\n",
    "        li.append(user_input)\n",
    "    \n",
    "    print(li)\n",
    "    logging.info(\"Successfully,created the list of favourite fruits.\")\n",
    "    \n",
    "    # adding new fruit to the list.\n",
    "    user_list1=input(\"Add a fruit in the list\\n\")\n",
    "    li.append(user_list1)\n",
    "    logging.info(\"Added new fruit in the list of favourite fruits.\")\n",
    "    \n",
    "    # removing the one fruit from the list.\n",
    "    li.pop(0) # we used pop()function to remove the element from list with index number 0.\n",
    "    logging.info(\"Successfully!! Removed the first element from the list.\")\n",
    "    \n",
    "    print()\n",
    "    print(\"Modified list of favourite fruits:-\")\n",
    "    print(li)\n",
    "    logging.info(\"Generated the modified list of favourite fruit.\")\n",
    "    \n",
    "    \n",
    "except Exception as e:\n",
    "    print(e)"
   ]
  },
  {
   "cell_type": "code",
   "execution_count": null,
   "id": "a2e77c39",
   "metadata": {},
   "outputs": [],
   "source": []
  }
 ],
 "metadata": {
  "kernelspec": {
   "display_name": "Python 3 (ipykernel)",
   "language": "python",
   "name": "python3"
  },
  "language_info": {
   "codemirror_mode": {
    "name": "ipython",
    "version": 3
   },
   "file_extension": ".py",
   "mimetype": "text/x-python",
   "name": "python",
   "nbconvert_exporter": "python",
   "pygments_lexer": "ipython3",
   "version": "3.11.5"
  }
 },
 "nbformat": 4,
 "nbformat_minor": 5
}
