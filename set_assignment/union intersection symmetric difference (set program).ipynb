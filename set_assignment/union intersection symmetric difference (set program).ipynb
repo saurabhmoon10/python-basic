{
 "cells": [
  {
   "cell_type": "markdown",
   "id": "f509e373",
   "metadata": {},
   "source": [
    "### Create two sets of integers and perform set operations to find their union,intersection, and symmetric difference. Print the results."
   ]
  },
  {
   "cell_type": "code",
   "execution_count": 23,
   "id": "ad24a332",
   "metadata": {},
   "outputs": [
    {
     "name": "stdout",
     "output_type": "stream",
     "text": [
      "Set 1\n",
      "{50, 20, 40, 10, 30}\n",
      "\n",
      "set 2\n",
      "{80, 50, 70, 40, 60}\n",
      "\n",
      "Combining two set together\n",
      "{70, 40, 10, 80, 50, 20, 60, 30}\n",
      "\n",
      "Intersection of two set\n",
      "{40, 50}\n",
      "\n",
      "Symmetric difference of set 1\n",
      "{10, 20, 30}\n"
     ]
    }
   ],
   "source": [
    "import logging\n",
    "logging.basicConfig(filename=\"set_operation.log\",level=logging.DEBUG,format=\"%(asctime)s - %(levelname)s - %(message)s\")\n",
    "\n",
    "try:\n",
    "    \n",
    "    a={10,20,30,40,50}  #set 1\n",
    "    b={40,50,60,70,80}  #set 2\n",
    "\n",
    "    print(f\"Set 1\\n{a}\")\n",
    "    print()\n",
    "    print(f\"set 2\\n{b}\")\n",
    "    print()\n",
    "    # union operations\n",
    "    union_set=a.union(b)\n",
    "    print(f\"Combining two set together\\n{union_set}\")\n",
    "    logging.info(\"Combine two set together using union function.\")\n",
    "    print()\n",
    "    # intersection operation or common value\n",
    "    common=a & b\n",
    "    print(f\"Intersection of two set\\n{common}\")\n",
    "    logging.info(\"Generated common points of two set.\")\n",
    "\n",
    "    print()\n",
    "    #symmetric difference or uncommon value\n",
    "    uncommon=a - b\n",
    "    print(f\"Symmetric difference of set 1\\n{uncommon}\")\n",
    "    logging.info(\"executed the uncommon values from set 1.\")\n",
    "\n",
    "except Exception as e:\n",
    "    print(e)\n"
   ]
  },
  {
   "cell_type": "code",
   "execution_count": null,
   "id": "7a0f3279",
   "metadata": {},
   "outputs": [],
   "source": []
  }
 ],
 "metadata": {
  "kernelspec": {
   "display_name": "Python 3 (ipykernel)",
   "language": "python",
   "name": "python3"
  },
  "language_info": {
   "codemirror_mode": {
    "name": "ipython",
    "version": 3
   },
   "file_extension": ".py",
   "mimetype": "text/x-python",
   "name": "python",
   "nbconvert_exporter": "python",
   "pygments_lexer": "ipython3",
   "version": "3.11.5"
  }
 },
 "nbformat": 4,
 "nbformat_minor": 5
}
