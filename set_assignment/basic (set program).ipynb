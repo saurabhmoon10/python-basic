{
 "cells": [
  {
   "cell_type": "markdown",
   "id": "9fe9d3dc",
   "metadata": {},
   "source": [
    "### Create a set containing the names of your favorite animal."
   ]
  },
  {
   "cell_type": "code",
   "execution_count": 8,
   "id": "631d2f66",
   "metadata": {},
   "outputs": [],
   "source": [
    "import logging\n",
    "logging.basicConfig(filename=\"favorite_animal.log\",level=logging.DEBUG,format='%(asctime)s - %(levelname)s - %(message)s')"
   ]
  },
  {
   "cell_type": "code",
   "execution_count": 9,
   "id": "cf55f77c",
   "metadata": {},
   "outputs": [
    {
     "name": "stdout",
     "output_type": "stream",
     "text": [
      "{'Jaguar', 'Lion', 'Dog', 'Panda', 'Elephant'}\n",
      "<class 'set'>\n"
     ]
    }
   ],
   "source": [
    "# creating set of animals\n",
    "animals={'Lion','Jaguar','Dog','Elephant','Panda'}\n",
    "logging.info(\"Successfully!! created a set of animals.\")\n",
    "print(animals)\n",
    "print(type(animals))"
   ]
  },
  {
   "cell_type": "markdown",
   "id": "d6872647",
   "metadata": {},
   "source": [
    "#### Another way for doing the same problem by using user define function"
   ]
  },
  {
   "cell_type": "code",
   "execution_count": 16,
   "id": "2f8c0514",
   "metadata": {},
   "outputs": [],
   "source": [
    "#creating the method\n",
    "def animals(*a):\n",
    "    \"\"\"creating a set of animals\"\"\"\n",
    "    try:\n",
    "        animal=set(a)\n",
    "        logging.info()\n",
    "        print(\"Set of animals\")\n",
    "        print(animal)\n",
    "        \n",
    "    except Exception as e:\n",
    "        print(e)\n",
    "        \n",
    "    return"
   ]
  },
  {
   "cell_type": "code",
   "execution_count": 17,
   "id": "1f6c4669",
   "metadata": {},
   "outputs": [
    {
     "name": "stdout",
     "output_type": "stream",
     "text": [
      "Set of animals\n",
      "{'dog', 'cat'}\n"
     ]
    }
   ],
   "source": [
    "animals('dog','cat')"
   ]
  },
  {
   "cell_type": "code",
   "execution_count": null,
   "id": "4111bd80",
   "metadata": {},
   "outputs": [],
   "source": []
  }
 ],
 "metadata": {
  "kernelspec": {
   "display_name": "Python 3 (ipykernel)",
   "language": "python",
   "name": "python3"
  },
  "language_info": {
   "codemirror_mode": {
    "name": "ipython",
    "version": 3
   },
   "file_extension": ".py",
   "mimetype": "text/x-python",
   "name": "python",
   "nbconvert_exporter": "python",
   "pygments_lexer": "ipython3",
   "version": "3.11.5"
  }
 },
 "nbformat": 4,
 "nbformat_minor": 5
}
