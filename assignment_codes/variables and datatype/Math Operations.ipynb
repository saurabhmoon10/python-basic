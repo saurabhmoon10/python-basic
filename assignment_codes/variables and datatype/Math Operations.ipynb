{
 "cells": [
  {
   "cell_type": "markdown",
   "id": "c1351962",
   "metadata": {},
   "source": [
    "## Create variables for two numbers and perform addition, subtraction, multiplication, and division operations. Print the results."
   ]
  },
  {
   "cell_type": "code",
   "execution_count": 11,
   "id": "3ae3217c",
   "metadata": {},
   "outputs": [
    {
     "name": "stdout",
     "output_type": "stream",
     "text": [
      "Enter the 1st number\n",
      "1\n",
      "Enter the 2nd number\n",
      "0\n",
      "a =1\tb =0\n",
      "type of a variable is<class 'int'>\t type of b variable is<class 'int'>\n",
      "\n",
      "******Calculations of two numbers******\n",
      "\n",
      "Addition of a and b is 1.\n",
      "\n",
      "Substraction of a and b is 1.\n",
      "\n",
      "Multiplication of a and b is 0.\n",
      "\n",
      "division by zero\n"
     ]
    }
   ],
   "source": [
    "try :\n",
    "    #creating a variables to perform a task\n",
    "    a=eval(input(\"Enter the 1st number\\n\"))\n",
    "    b=eval(input(\"Enter the 2nd number\\n\"))\n",
    "    \n",
    "    # printing the values stored in a respective variables\n",
    "    print(f\"a ={a}\\tb ={b}\")\n",
    "    print(f\"type of a variable is{type(a)}\\t type of b variable is{type(b)}\")\n",
    "    \n",
    "    print()\n",
    "    print(\"******Calculations of two numbers******\")\n",
    "    \n",
    "    # performing the task\n",
    "    #(1) Addition of two numbers\n",
    "    print()\n",
    "    Addition=a+b\n",
    "    print(f\"Addition of a and b is {Addition}.\")\n",
    "    \n",
    "    #(2) Substraction of two numbers \n",
    "    print()\n",
    "    sub=a-b\n",
    "    print(f\"Substraction of a and b is {sub}.\")\n",
    "    \n",
    "    #(3) Multiplication of two numbers\n",
    "    print()\n",
    "    multi=a*b\n",
    "    print(f\"Multiplication of a and b is {multi}.\")\n",
    "    \n",
    "    #(4) Division of two numbers\n",
    "    print()\n",
    "    div=a/b\n",
    "    print(f\"Division of a and b is {div}\")\n",
    "    \n",
    "    #(5) floor Division of two numbers\n",
    "    print()\n",
    "    div2=a//b      # here we used double forward slash(//) to get the integer type division of the numbers.\n",
    "    print(f\"Division of a and b is {div2}\")\n",
    "    \n",
    "except Exception as e:\n",
    "    print(e)"
   ]
  },
  {
   "cell_type": "code",
   "execution_count": null,
   "id": "5cb3f5eb",
   "metadata": {},
   "outputs": [],
   "source": []
  },
  {
   "cell_type": "code",
   "execution_count": 15,
   "id": "a6313203",
   "metadata": {},
   "outputs": [
    {
     "name": "stdout",
     "output_type": "stream",
     "text": [
      "Enter the 1st value\n",
      "10\n",
      "Enter the 2nd value\n",
      "20\n",
      "provide the symbol of calculation to perform task on it.\n",
      "-\n",
      "Substraction of a and b is -10\n"
     ]
    }
   ],
   "source": [
    "# Doing the calculation by using if else concepts\n",
    "try:\n",
    "    # creating a variable\n",
    "    a=eval(input(\"Enter the 1st value\\n\"))\n",
    "    b=eval(input(\"Enter the 2nd value\\n\"))\n",
    "    \n",
    "    #asking user for calculation to perform \n",
    "    user_choice=input(\"provide the symbol of calculation to perform task on it.\\n\")\n",
    "\n",
    "    \n",
    "    if user_choice=='+':\n",
    "        add=a+b\n",
    "        print(f\"Addition of a and b is {add}.\")\n",
    "        \n",
    "    elif user_choice=='-':\n",
    "        sub=a-b\n",
    "        print(f\"Substraction of a and b is {sub}.\")\n",
    "        \n",
    "    elif user_choice=='*':\n",
    "        multi=a*b\n",
    "        print(f\"Multiplication of a and b is {multi}.\")\n",
    "        \n",
    "    elif user_choice=='/':\n",
    "        div=a/b\n",
    "        print(f\"Division of a and b is {div}.\")\n",
    "        \n",
    "except Exception as e:\n",
    "    print(e)\n",
    "    "
   ]
  },
  {
   "cell_type": "code",
   "execution_count": null,
   "id": "fe05c62c",
   "metadata": {},
   "outputs": [],
   "source": []
  }
 ],
 "metadata": {
  "kernelspec": {
   "display_name": "Python 3 (ipykernel)",
   "language": "python",
   "name": "python3"
  },
  "language_info": {
   "codemirror_mode": {
    "name": "ipython",
    "version": 3
   },
   "file_extension": ".py",
   "mimetype": "text/x-python",
   "name": "python",
   "nbconvert_exporter": "python",
   "pygments_lexer": "ipython3",
   "version": "3.11.5"
  }
 },
 "nbformat": 4,
 "nbformat_minor": 5
}
