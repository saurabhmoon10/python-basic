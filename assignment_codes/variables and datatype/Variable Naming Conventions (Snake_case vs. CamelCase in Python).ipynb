{
 "cells": [
  {
   "cell_type": "code",
   "execution_count": null,
   "id": "372decb2",
   "metadata": {},
   "outputs": [],
   "source": []
  },
  {
   "cell_type": "markdown",
   "id": "b36d2018",
   "metadata": {},
   "source": [
    "### Write a program with variables that follow both the snake_case and CamelCase naming conventions. Print a message explaining the conventions."
   ]
  },
  {
   "cell_type": "code",
   "execution_count": 2,
   "id": "352802ad",
   "metadata": {},
   "outputs": [
    {
     "name": "stdout",
     "output_type": "stream",
     "text": [
      "Snake case convention:-\n",
      "\n",
      "In snake case : Words are written in a lowercase and separated by underscores\n",
      "example: Username= Saurabh and age= 23\n",
      "\n",
      "\n",
      "CamelCase convention :-\n",
      "\n",
      "In Camel Case : First letter of word is in lowercase and followed word first letter is in uppercase \n",
      "example: Username= Lucifer and age= 45\n"
     ]
    }
   ],
   "source": [
    "try:\n",
    "    #snake_case\n",
    "    user_name='Saurabh'\n",
    "    age=23\n",
    "\n",
    "\n",
    "    #CamelCase \n",
    "    userName='Lucifer'\n",
    "    ageOfUser=45\n",
    "\n",
    "\n",
    "    print(\"Snake case convention:-\\n\")\n",
    "    print(\"In snake case : Words are written in a lowercase and separated by underscores\")\n",
    "    print(f\"example: Username= {user_name} and age= {age}\")\n",
    "\n",
    "    print()\n",
    "    print()\n",
    "    print(\"CamelCase convention :-\\n\")\n",
    "    print(\"In Camel Case : First letter of word is in lowercase and followed word first letter is in uppercase \")\n",
    "    print(f\"example: Username= {userName} and age= {ageOfUser}\")\n",
    "    \n",
    "except Exception as e:\n",
    "    print(e)"
   ]
  },
  {
   "cell_type": "code",
   "execution_count": null,
   "id": "1edf427a",
   "metadata": {},
   "outputs": [],
   "source": []
  }
 ],
 "metadata": {
  "kernelspec": {
   "display_name": "Python 3 (ipykernel)",
   "language": "python",
   "name": "python3"
  },
  "language_info": {
   "codemirror_mode": {
    "name": "ipython",
    "version": 3
   },
   "file_extension": ".py",
   "mimetype": "text/x-python",
   "name": "python",
   "nbconvert_exporter": "python",
   "pygments_lexer": "ipython3",
   "version": "3.11.5"
  }
 },
 "nbformat": 4,
 "nbformat_minor": 5
}
