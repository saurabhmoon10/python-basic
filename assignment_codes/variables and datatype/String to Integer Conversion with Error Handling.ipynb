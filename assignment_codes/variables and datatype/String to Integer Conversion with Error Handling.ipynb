{
 "cells": [
  {
   "cell_type": "code",
   "execution_count": null,
   "id": "50cfb09d",
   "metadata": {},
   "outputs": [],
   "source": []
  },
  {
   "cell_type": "code",
   "execution_count": null,
   "id": "9b20e168",
   "metadata": {},
   "outputs": [],
   "source": []
  },
  {
   "cell_type": "markdown",
   "id": "5c7ea80f",
   "metadata": {},
   "source": [
    "### Create a program that attempts to convert a string to an integer. Handle any potential errors and print an error message"
   ]
  },
  {
   "cell_type": "code",
   "execution_count": 6,
   "id": "87529103",
   "metadata": {},
   "outputs": [
    {
     "name": "stdout",
     "output_type": "stream",
     "text": [
      "Enter the number\n",
      "50\n",
      "Number 50 is succesfully converted into integer.\n",
      "type of num is <class 'int'>\n"
     ]
    }
   ],
   "source": [
    "try:\n",
    "    user_input=input(\"Enter the number\\n\")\n",
    "    \n",
    "    #converting string into integer\n",
    "    num=int(user_input)\n",
    "    print(f\"Number {user_input} is successfully converted into integer.\")\n",
    "    print(f\"type of num is {type(num)}\")\n",
    "    \n",
    "except Exception as e:\n",
    "    print(\"Error: Input is not a valid integer\")"
   ]
  },
  {
   "cell_type": "markdown",
   "id": "562a9d7f",
   "metadata": {},
   "source": [
    "If we pass a numeric value in user_input it will successfully convert it into integer data type.\n",
    "But when we pass any string value in it then it will give us the error."
   ]
  },
  {
   "cell_type": "code",
   "execution_count": null,
   "id": "9645383e",
   "metadata": {},
   "outputs": [],
   "source": []
  }
 ],
 "metadata": {
  "kernelspec": {
   "display_name": "Python 3 (ipykernel)",
   "language": "python",
   "name": "python3"
  },
  "language_info": {
   "codemirror_mode": {
    "name": "ipython",
    "version": 3
   },
   "file_extension": ".py",
   "mimetype": "text/x-python",
   "name": "python",
   "nbconvert_exporter": "python",
   "pygments_lexer": "ipython3",
   "version": "3.11.5"
  }
 },
 "nbformat": 4,
 "nbformat_minor": 5
}
