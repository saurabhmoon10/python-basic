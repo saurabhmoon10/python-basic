{
 "cells": [
  {
   "cell_type": "markdown",
   "id": "adeefcec",
   "metadata": {},
   "source": [
    "###  Write a program that checks the data type of a variable and prints a message based on whether it's an integer, float, string, or another type."
   ]
  },
  {
   "cell_type": "code",
   "execution_count": null,
   "id": "9dbbec25",
   "metadata": {},
   "outputs": [],
   "source": [
    "try:\n",
    "    a=2\n",
    "    b='saurabh'\n",
    "    c=3.25\n",
    "    d=True\n",
    "    e=[1,'Lucas',True,3.25]\n",
    "    f=(2,1,3,2)\n",
    "    g={1,1,1,2,3,4,5,6,6}\n",
    "    h={\"name\":'saurabh'}\n",
    "\n",
    "    print(a,\"=\",type(a))\n",
    "    print(b,\"=\",type(b))\n",
    "    print(c,\"=\",type(c))\n",
    "    print(d,\"=\",type(d))\n",
    "    print(e,\"=\",type(e))\n",
    "    print(f,\"=\",type(f))\n",
    "    print(g,\"=\",type(g))\n",
    "    print(h,\"=\",type(h))\n",
    "    \n",
    "except Exception as e:\n",
    "    print(e)"
   ]
  }
 ],
 "metadata": {
  "kernelspec": {
   "display_name": "Python 3 (ipykernel)",
   "language": "python",
   "name": "python3"
  },
  "language_info": {
   "codemirror_mode": {
    "name": "ipython",
    "version": 3
   },
   "file_extension": ".py",
   "mimetype": "text/x-python",
   "name": "python",
   "nbconvert_exporter": "python",
   "pygments_lexer": "ipython3",
   "version": "3.11.5"
  }
 },
 "nbformat": 4,
 "nbformat_minor": 5
}
