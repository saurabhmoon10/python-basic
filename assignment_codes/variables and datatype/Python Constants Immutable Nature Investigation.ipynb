{
 "cells": [
  {
   "cell_type": "markdown",
   "id": "483612d4",
   "metadata": {},
   "source": [
    "### Define a constant variable in Python and try to modify its value. Explain whether it's possible or not"
   ]
  },
  {
   "cell_type": "code",
   "execution_count": 5,
   "id": "528c2c37",
   "metadata": {},
   "outputs": [
    {
     "name": "stdout",
     "output_type": "stream",
     "text": [
      "10\n",
      "modifying the constant variable\n",
      "a=20\n"
     ]
    }
   ],
   "source": [
    "try:\n",
    "    a=10  # created 'a' as a constant variable\n",
    "    print(a)\n",
    "    \n",
    "    # modifying the constant variable\n",
    "    a=20\n",
    "    b=10\n",
    "    print(f\"modifying the constant variable\")\n",
    "    print(f\"a={a}\")\n",
    "    \n",
    "except Exception as e:\n",
    "    print(e)"
   ]
  },
  {
   "cell_type": "markdown",
   "id": "c186f9fd",
   "metadata": {},
   "source": [
    "###### With the above code we can say now that it is possible to modify the constant variable value."
   ]
  },
  {
   "cell_type": "code",
   "execution_count": 6,
   "id": "2bf49d50",
   "metadata": {},
   "outputs": [],
   "source": []
  },
  {
   "cell_type": "code",
   "execution_count": null,
   "id": "4735c5ae",
   "metadata": {},
   "outputs": [],
   "source": []
  },
  {
   "cell_type": "code",
   "execution_count": null,
   "id": "9f8162cf",
   "metadata": {},
   "outputs": [],
   "source": []
  },
  {
   "cell_type": "code",
   "execution_count": null,
   "id": "8b5ea215",
   "metadata": {},
   "outputs": [],
   "source": []
  }
 ],
 "metadata": {
  "kernelspec": {
   "display_name": "Python 3 (ipykernel)",
   "language": "python",
   "name": "python3"
  },
  "language_info": {
   "codemirror_mode": {
    "name": "ipython",
    "version": 3
   },
   "file_extension": ".py",
   "mimetype": "text/x-python",
   "name": "python",
   "nbconvert_exporter": "python",
   "pygments_lexer": "ipython3",
   "version": "3.11.5"
  }
 },
 "nbformat": 4,
 "nbformat_minor": 5
}
