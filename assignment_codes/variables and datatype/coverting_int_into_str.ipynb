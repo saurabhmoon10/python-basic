{
 "cells": [
  {
   "cell_type": "markdown",
   "id": "4e6e1bcb",
   "metadata": {},
   "source": [
    "### Ask the user for an integer and convert it to a string. Then, print the data type of the converted variable."
   ]
  },
  {
   "cell_type": "code",
   "execution_count": 1,
   "id": "7006bec1",
   "metadata": {},
   "outputs": [
    {
     "name": "stdout",
     "output_type": "stream",
     "text": [
      "enter the value\n",
      "10\n",
      "Type of data before changing\n",
      "user value =10,\t type of data is <class 'int'>\n",
      "\n",
      "\n",
      "Type of data after changing it from int to str\n",
      "user value is 10 and type is <class 'str'>\n"
     ]
    }
   ],
   "source": [
    "try:\n",
    "    user=int(input(\"enter the value\\n\"))\n",
    "    print(\"Type of data before changing\")\n",
    "    print(f\"user value ={user},\\t type of data is {type(user)}\")\n",
    "    print()\n",
    "    print()\n",
    "    user_str=str(user)\n",
    "    print(\"Type of data after changing it from int to str\")\n",
    "    print(f\"user value is {user_str} and type is {type(user_str)}\")\n",
    "    \n",
    "    \n",
    "except Exception as e:\n",
    "    print(\"e\")"
   ]
  },
  {
   "cell_type": "code",
   "execution_count": null,
   "id": "7b4f9b04",
   "metadata": {},
   "outputs": [],
   "source": []
  }
 ],
 "metadata": {
  "kernelspec": {
   "display_name": "Python 3 (ipykernel)",
   "language": "python",
   "name": "python3"
  },
  "language_info": {
   "codemirror_mode": {
    "name": "ipython",
    "version": 3
   },
   "file_extension": ".py",
   "mimetype": "text/x-python",
   "name": "python",
   "nbconvert_exporter": "python",
   "pygments_lexer": "ipython3",
   "version": "3.11.5"
  }
 },
 "nbformat": 4,
 "nbformat_minor": 5
}
