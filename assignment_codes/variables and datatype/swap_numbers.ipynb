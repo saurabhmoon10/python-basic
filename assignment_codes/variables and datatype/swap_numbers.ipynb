{
 "cells": [
  {
   "cell_type": "markdown",
   "id": "81b3e5b5",
   "metadata": {},
   "source": [
    "### Create two variables, a and b, and swap their values without using a temporary variable."
   ]
  },
  {
   "cell_type": "code",
   "execution_count": 6,
   "id": "9d284660",
   "metadata": {},
   "outputs": [
    {
     "name": "stdout",
     "output_type": "stream",
     "text": [
      "Numbers before swapping\n",
      "a=10 and b=20\n",
      "\n",
      "Numbers after swapping\n",
      "a=20 and b=10\n"
     ]
    }
   ],
   "source": [
    "try:\n",
    "    a=10\n",
    "    b=20\n",
    "    print(\"Numbers before swapping\")\n",
    "    print(f\"a={a} and b={b}\")\n",
    "    \n",
    "    print()\n",
    "    a,b=b,a\n",
    "    print(\"Numbers after swapping\")\n",
    "    print(f\"a={a} and b={b}\")\n",
    "    \n",
    "except Exception as e:\n",
    "    print(e)"
   ]
  },
  {
   "cell_type": "code",
   "execution_count": null,
   "id": "e7a806b1",
   "metadata": {},
   "outputs": [],
   "source": []
  },
  {
   "cell_type": "code",
   "execution_count": 10,
   "id": "d0888457",
   "metadata": {},
   "outputs": [
    {
     "name": "stdout",
     "output_type": "stream",
     "text": [
      "Enter the  1st value\n",
      "5\n",
      "Enter the  2nd value\n",
      "4\n",
      "Numbers before swapping\n",
      "a = 5 b = 4\n",
      "Numbers after swapping\n",
      "a=4 and b=5\n"
     ]
    }
   ],
   "source": [
    "#creating integer value based swapping\n",
    "\n",
    "try:\n",
    "    a=int(input(\"Enter the  1st value\\n\"))\n",
    "    b=int(input(\"Enter the  2nd value\\n\"))\n",
    "    \n",
    "    print(\"Numbers before swapping\")\n",
    "    print(\"a =\",a,\"b =\",b)\n",
    "    \n",
    "    #swapping the values of a and b.\n",
    "    a,b=b,a\n",
    "    print(\"Numbers after swapping\")\n",
    "    print(f\"a={a} and b={b}\")\n",
    "    \n",
    "    \n",
    "except Exception as e:\n",
    "    print(\"Integer values are allowed!!!\")"
   ]
  },
  {
   "cell_type": "code",
   "execution_count": null,
   "id": "99a09d42",
   "metadata": {},
   "outputs": [],
   "source": []
  },
  {
   "cell_type": "code",
   "execution_count": 12,
   "id": "aabe75f7",
   "metadata": {},
   "outputs": [
    {
     "name": "stdout",
     "output_type": "stream",
     "text": [
      "Enter the  1st value\n",
      "2\n",
      "Enter the  2nd value\n",
      "3\n",
      "Numbers before swapping\n",
      "a = 2.0 b = 3.0\n",
      "Numbers after swapping\n",
      "a=3.0 and b=2.0\n"
     ]
    }
   ],
   "source": [
    "#creating swapping code for floats value \n",
    "\n",
    "try:\n",
    "    a=float(input(\"Enter the  1st value\\n\"))\n",
    "    b=float(input(\"Enter the  2nd value\\n\"))\n",
    "    \n",
    "    print(\"Numbers before swapping\")\n",
    "    print(\"a =\",a,\"b =\",b)\n",
    "    \n",
    "    #swapping the values of a and b.\n",
    "    a,b=b,a\n",
    "    print(\"Numbers after swapping\")\n",
    "    print(f\"a={a} and b={b}\")\n",
    "    \n",
    "    \n",
    "except Exception as e:\n",
    "    print(\"Float values are allowed!!!\")"
   ]
  },
  {
   "cell_type": "code",
   "execution_count": null,
   "id": "21fc5466",
   "metadata": {},
   "outputs": [],
   "source": []
  }
 ],
 "metadata": {
  "kernelspec": {
   "display_name": "Python 3 (ipykernel)",
   "language": "python",
   "name": "python3"
  },
  "language_info": {
   "codemirror_mode": {
    "name": "ipython",
    "version": 3
   },
   "file_extension": ".py",
   "mimetype": "text/x-python",
   "name": "python",
   "nbconvert_exporter": "python",
   "pygments_lexer": "ipython3",
   "version": "3.11.5"
  }
 },
 "nbformat": 4,
 "nbformat_minor": 5
}
