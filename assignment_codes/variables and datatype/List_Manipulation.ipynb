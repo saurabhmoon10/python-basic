{
 "cells": [
  {
   "cell_type": "markdown",
   "id": "2c753357",
   "metadata": {},
   "source": [
    "### Make a list of numbers and add a new number to the end of the list. Then, remove the first element and print the modified list."
   ]
  },
  {
   "cell_type": "code",
   "execution_count": 2,
   "id": "cda157e3",
   "metadata": {},
   "outputs": [
    {
     "name": "stdout",
     "output_type": "stream",
     "text": [
      "enter the number\n",
      "1\n",
      "enter the number\n",
      "2\n",
      "enter the number\n",
      "3\n",
      "enter the number\n",
      "4\n",
      "enter the number\n",
      "5\n",
      "[1, 2, 3, 4, 5]\n",
      "[1, 2, 3, 4, 5, 6]\n",
      "***modified list***\n",
      "[2, 3, 4, 5, 6]\n"
     ]
    }
   ],
   "source": [
    "try:\n",
    "    # creating a user_define list\n",
    "    li=[]   #empty list\n",
    "    \n",
    "    # creating a list  of 5 elements \n",
    "    for i in range(1,6):\n",
    "        user=int(input(\"enter the number\\n\"))\n",
    "        li.append(user)\n",
    "    print(li)\n",
    "    \n",
    "    # now a element in the list.\n",
    "    li.append(6)\n",
    "    print(li)\n",
    "    \n",
    "    #now removing the first element from the list\n",
    "    li.pop(0)    # to remove the element use pop() method with the index number to remove the positional  value from it.\n",
    "    modified_list=li\n",
    "    \n",
    "    # now printing the modified list\n",
    "    print(\"***modified list***\")\n",
    "    print(modified_list)\n",
    "    \n",
    "except Exception as e:\n",
    "    print(e)"
   ]
  },
  {
   "cell_type": "code",
   "execution_count": null,
   "id": "d1efe00a",
   "metadata": {},
   "outputs": [],
   "source": []
  },
  {
   "cell_type": "code",
   "execution_count": null,
   "id": "7b6c42cf",
   "metadata": {},
   "outputs": [],
   "source": []
  }
 ],
 "metadata": {
  "kernelspec": {
   "display_name": "Python 3 (ipykernel)",
   "language": "python",
   "name": "python3"
  },
  "language_info": {
   "codemirror_mode": {
    "name": "ipython",
    "version": 3
   },
   "file_extension": ".py",
   "mimetype": "text/x-python",
   "name": "python",
   "nbconvert_exporter": "python",
   "pygments_lexer": "ipython3",
   "version": "3.11.5"
  }
 },
 "nbformat": 4,
 "nbformat_minor": 5
}
