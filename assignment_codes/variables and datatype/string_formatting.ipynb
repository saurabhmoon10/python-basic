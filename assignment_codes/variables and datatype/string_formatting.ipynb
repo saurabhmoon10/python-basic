{
 "cells": [
  {
   "cell_type": "markdown",
   "id": "9379fd6b",
   "metadata": {},
   "source": [
    "### Assume a program that asks the user for their name and age. Then, use string formatting to display a message like \"Hello, [Name]! You are [Age] years old.\""
   ]
  },
  {
   "cell_type": "markdown",
   "id": "1447797a",
   "metadata": {},
   "source": [
    "###### \"Personalized Greeting Program Using String Formatting\""
   ]
  },
  {
   "cell_type": "code",
   "execution_count": 3,
   "id": "2327185d",
   "metadata": {},
   "outputs": [
    {
     "name": "stdout",
     "output_type": "stream",
     "text": [
      "Enter your name\n",
      "saurabh\n",
      "Enter your age\n",
      "23\n",
      "\n",
      "Hello,Saurabh! You are 23 years old.\n"
     ]
    }
   ],
   "source": [
    "#Asking user for there name and age\n",
    "name=input(\"Enter your name\\n\")\n",
    "age=input(\"Enter your age\\n\")\n",
    "print()\n",
    "a=name.capitalize() # using capitalize() function to make the 1st letter of string in capital letter.\n",
    "#string formatting\n",
    "message=f\"Hello,{a}! You are {age} years old.\"\n",
    "print(message)"
   ]
  },
  {
   "cell_type": "code",
   "execution_count": null,
   "id": "c70b1f7d",
   "metadata": {},
   "outputs": [],
   "source": []
  }
 ],
 "metadata": {
  "kernelspec": {
   "display_name": "Python 3 (ipykernel)",
   "language": "python",
   "name": "python3"
  },
  "language_info": {
   "codemirror_mode": {
    "name": "ipython",
    "version": 3
   },
   "file_extension": ".py",
   "mimetype": "text/x-python",
   "name": "python",
   "nbconvert_exporter": "python",
   "pygments_lexer": "ipython3",
   "version": "3.11.5"
  }
 },
 "nbformat": 4,
 "nbformat_minor": 5
}
