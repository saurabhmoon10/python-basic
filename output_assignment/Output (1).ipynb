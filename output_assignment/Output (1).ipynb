{
 "cells": [
  {
   "cell_type": "markdown",
   "id": "6756b00d",
   "metadata": {},
   "source": [
    "## print() is a bulit-in function in python which is used for output of code or execution of code."
   ]
  },
  {
   "cell_type": "markdown",
   "id": "88f5f169",
   "metadata": {},
   "source": [
    "## 1. Python program that prints \"Hello, World!\" to the console."
   ]
  },
  {
   "cell_type": "code",
   "execution_count": 1,
   "id": "b48d11b5",
   "metadata": {},
   "outputs": [
    {
     "name": "stdout",
     "output_type": "stream",
     "text": [
      "Hello,World!\n"
     ]
    }
   ],
   "source": [
    "print(\"Hello,World!\")"
   ]
  },
  {
   "cell_type": "code",
   "execution_count": null,
   "id": "e4075ca6",
   "metadata": {},
   "outputs": [],
   "source": []
  },
  {
   "cell_type": "markdown",
   "id": "1182cf65",
   "metadata": {},
   "source": [
    "## 2. Create a program that takes a number as input and prints its multiplication table from 1 to 10."
   ]
  },
  {
   "cell_type": "code",
   "execution_count": 2,
   "id": "61e02af6",
   "metadata": {},
   "outputs": [
    {
     "name": "stdout",
     "output_type": "stream",
     "text": [
      "Enter the value\n",
      "5\n",
      "Multiplication Table:-\n",
      "5*1=5\n",
      "5*2=10\n",
      "5*3=15\n",
      "5*4=20\n",
      "5*5=25\n",
      "5*6=30\n",
      "5*7=35\n",
      "5*8=40\n",
      "5*9=45\n",
      "5*10=50\n"
     ]
    }
   ],
   "source": [
    "# asking user for number to print the multiplication table\n",
    "try:\n",
    "    user_input=int(input(\"Enter the value\\n\"))\n",
    "    print(\"Multiplication Table:-\")\n",
    "    for i in range(1,11):\n",
    "        print(f\"{user_input}*{i}={user_input*i}\")\n",
    "        \n",
    "except Exception as e:\n",
    "    print(e)"
   ]
  },
  {
   "cell_type": "code",
   "execution_count": null,
   "id": "8dbfa275",
   "metadata": {},
   "outputs": [],
   "source": []
  },
  {
   "cell_type": "markdown",
   "id": "727ff4bb",
   "metadata": {},
   "source": [
    "### 3. Write a program that counts down from a specified number to 1 and then prints \"Blast-off!\"."
   ]
  },
  {
   "cell_type": "code",
   "execution_count": 3,
   "id": "cb2c137d",
   "metadata": {},
   "outputs": [
    {
     "name": "stdout",
     "output_type": "stream",
     "text": [
      "Enter a number to start the countdown: 2\n",
      "2\n",
      "1\n",
      "Blast-off!\n"
     ]
    }
   ],
   "source": [
    "try:\n",
    "    # Taking input from the user for countdown start\n",
    "    start_number = int(input(\"Enter a number to start the countdown: \"))\n",
    "\n",
    "    # Countdown loop\n",
    "    while start_number > 0:\n",
    "        print(start_number)\n",
    "        start_number -= 1\n",
    "\n",
    "    print(\"Blast-off!\")\n",
    "\n",
    "except Exception as e:\n",
    "    print(e)"
   ]
  },
  {
   "cell_type": "markdown",
   "id": "9255ce92",
   "metadata": {},
   "source": [
    "### 4.Generate a program that prints a pyramid of stars, where the user provides the number of rows for the pyramid."
   ]
  },
  {
   "cell_type": "code",
   "execution_count": 4,
   "id": "518bf471",
   "metadata": {},
   "outputs": [
    {
     "name": "stdout",
     "output_type": "stream",
     "text": [
      "Enter the numbers\n",
      "5\n",
      "          * \n",
      "        * * * \n",
      "      * * * * * \n",
      "    * * * * * * * \n",
      "  * * * * * * * * * \n"
     ]
    }
   ],
   "source": [
    "try:\n",
    "    #asking user for values\n",
    "    user_num=int(input(\"Enter the numbers\\n\"))\n",
    "    for i in  range(user_num):\n",
    "        for j in range(i,user_num):\n",
    "            print(\" \",end=\" \")\n",
    "        for j in range(i):\n",
    "            print(\"*\",end=\" \")\n",
    "        for j in range(i+1):\n",
    "            print(\"*\",end=\" \")\n",
    "\n",
    "        print()\n",
    "        \n",
    "except Exception as e:\n",
    "    print(\"Please provide the integer value only.\")\n"
   ]
  },
  {
   "cell_type": "code",
   "execution_count": 5,
   "id": "76adad2e",
   "metadata": {},
   "outputs": [],
   "source": [
    "# another method to do the same task with function\n",
    "def pyramid(n):\n",
    "    \"\"\" It is the user defined function used to create a pyramid pattern.\"\"\"\n",
    "    print(\"Pyramid Structure\")\n",
    "    print()\n",
    "    for i in range(n): # outer for loop is used for rows\n",
    "        for j in range(i,n):\n",
    "            print(\" \",end=\" \")\n",
    "        for j in range(i):\n",
    "            print(\"*\",end=\" \")\n",
    "        for j in range(i+1):\n",
    "            print(\"*\",end=\" \")\n",
    "        print()\n",
    "        \n",
    "    \n",
    "    return\n",
    "    "
   ]
  },
  {
   "cell_type": "code",
   "execution_count": 6,
   "id": "64e7b62c",
   "metadata": {},
   "outputs": [
    {
     "name": "stdout",
     "output_type": "stream",
     "text": [
      "Pyramid Structure\n",
      "\n",
      "          * \n",
      "        * * * \n",
      "      * * * * * \n",
      "    * * * * * * * \n",
      "  * * * * * * * * * \n"
     ]
    }
   ],
   "source": [
    "pyramid(5)"
   ]
  },
  {
   "cell_type": "code",
   "execution_count": null,
   "id": "5814b39c",
   "metadata": {},
   "outputs": [],
   "source": []
  },
  {
   "cell_type": "markdown",
   "id": "c911305c",
   "metadata": {},
   "source": [
    "### 5. Ask the user for a number \"n\" and print a pattern of numbers from 1 to n in the following way:"
   ]
  },
  {
   "cell_type": "markdown",
   "id": "fd2525fa",
   "metadata": {},
   "source": [
    "1\n",
    "12\n",
    "123\n",
    "1234\n",
    "12345"
   ]
  },
  {
   "cell_type": "code",
   "execution_count": 7,
   "id": "11629a7c",
   "metadata": {},
   "outputs": [
    {
     "name": "stdout",
     "output_type": "stream",
     "text": [
      "Enter the value\n",
      "6\n",
      "\n",
      "1 \n",
      "1 2 \n",
      "1 2 3 \n",
      "1 2 3 4 \n",
      "1 2 3 4 5 \n",
      "1 2 3 4 5 6 \n"
     ]
    }
   ],
   "source": [
    "try:\n",
    "    #asking user to provide the number in a num variable\n",
    "    num=int(input(\"Enter the value\\n\"))\n",
    "    \n",
    "    print()\n",
    "    #using loop for iterating the number \n",
    "    for i in range(1,num+1):\n",
    "        for j in range(1,i+1):\n",
    "            print(j,end=\" \")\n",
    "        print()\n",
    "except Exception as e:\n",
    "    print(\"Please provide the integer values only.\")"
   ]
  },
  {
   "cell_type": "code",
   "execution_count": null,
   "id": "61a53307",
   "metadata": {},
   "outputs": [],
   "source": []
  },
  {
   "cell_type": "markdown",
   "id": "69a48b1a",
   "metadata": {},
   "source": [
    "### 6. Make a program that calculates and prints the sum of all numbers from 1 to a user-specified number."
   ]
  },
  {
   "cell_type": "code",
   "execution_count": 8,
   "id": "827bfbe5",
   "metadata": {},
   "outputs": [
    {
     "name": "stdout",
     "output_type": "stream",
     "text": [
      "Enter a number: 2\n",
      "The sum of all numbers from 1 to 2 is: 3\n"
     ]
    }
   ],
   "source": [
    "try:\n",
    "    \n",
    "    # Taking input from the user for the specified number\n",
    "    specified_number = int(input(\"Enter a number: \"))\n",
    "\n",
    "    # Initializing sum to 0\n",
    "    total_sum = 0\n",
    "\n",
    "    # Calculating the sum of numbers from 1 to specified_number\n",
    "    for i in range(1, specified_number + 1):\n",
    "        total_sum += i\n",
    "\n",
    "    # Printing the sum\n",
    "    print(f\"The sum of all numbers from 1 to {specified_number} is: {total_sum}\")\n",
    "    \n",
    "except Exception as e:\n",
    "    print(e)\n"
   ]
  },
  {
   "cell_type": "code",
   "execution_count": null,
   "id": "99933acf",
   "metadata": {},
   "outputs": [],
   "source": []
  },
  {
   "cell_type": "markdown",
   "id": "273267f0",
   "metadata": {},
   "source": [
    "### 7. Ask the user to enter a character (e.g., '*') and a number. Print a square of that character with the given number of rows and columns."
   ]
  },
  {
   "cell_type": "code",
   "execution_count": 9,
   "id": "a6b65652",
   "metadata": {},
   "outputs": [
    {
     "name": "stdout",
     "output_type": "stream",
     "text": [
      "Enter a character: *\n",
      "Enter a number: 4\n",
      "****\n",
      "****\n",
      "****\n",
      "****\n"
     ]
    }
   ],
   "source": [
    "try:\n",
    "    # Ask the user to enter a character and a number\n",
    "    char = input(\"Enter a character: \")\n",
    "    num = int(input(\"Enter a number: \"))\n",
    "\n",
    "    # Print a square of the character with the given number of rows and columns\n",
    "    for i in range(num):\n",
    "        print(char * num)\n",
    "\n",
    "except Exception as e:\n",
    "    print(e)"
   ]
  },
  {
   "cell_type": "code",
   "execution_count": null,
   "id": "9278bf2e",
   "metadata": {},
   "outputs": [],
   "source": []
  }
 ],
 "metadata": {
  "kernelspec": {
   "display_name": "Python 3 (ipykernel)",
   "language": "python",
   "name": "python3"
  },
  "language_info": {
   "codemirror_mode": {
    "name": "ipython",
    "version": 3
   },
   "file_extension": ".py",
   "mimetype": "text/x-python",
   "name": "python",
   "nbconvert_exporter": "python",
   "pygments_lexer": "ipython3",
   "version": "3.11.5"
  }
 },
 "nbformat": 4,
 "nbformat_minor": 5
}
