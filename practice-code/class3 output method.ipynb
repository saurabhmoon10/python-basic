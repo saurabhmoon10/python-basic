{
 "cells": [
  {
   "cell_type": "markdown",
   "id": "4366a1a4",
   "metadata": {},
   "source": [
    "# OUTPUT Method"
   ]
  },
  {
   "cell_type": "markdown",
   "id": "1f6b9936",
   "metadata": {},
   "source": [
    " * print() function to print output."
   ]
  },
  {
   "cell_type": "code",
   "execution_count": 2,
   "id": "4e26e33a",
   "metadata": {},
   "outputs": [
    {
     "name": "stdout",
     "output_type": "stream",
     "text": [
      "Hello,Welcome to the output class .\n"
     ]
    }
   ],
   "source": [
    "print(\"Hello,Welcome to the output class .\")\n"
   ]
  },
  {
   "cell_type": "code",
   "execution_count": 3,
   "id": "4adb3bf3",
   "metadata": {},
   "outputs": [
    {
     "data": {
      "text/plain": [
       "builtin_function_or_method"
      ]
     },
     "execution_count": 3,
     "metadata": {},
     "output_type": "execute_result"
    }
   ],
   "source": [
    "type(print)"
   ]
  },
  {
   "cell_type": "code",
   "execution_count": 4,
   "id": "2a1e1de4",
   "metadata": {},
   "outputs": [
    {
     "name": "stdout",
     "output_type": "stream",
     "text": [
      "Single quotes line also works here as a string\n"
     ]
    }
   ],
   "source": [
    "print('Single quotes line also works here as a string')"
   ]
  },
  {
   "cell_type": "code",
   "execution_count": 5,
   "id": "4c7ab1d2",
   "metadata": {},
   "outputs": [
    {
     "data": {
      "text/plain": [
       "str"
      ]
     },
     "execution_count": 5,
     "metadata": {},
     "output_type": "execute_result"
    }
   ],
   "source": [
    "type('Single quotes line also works here as a string')"
   ]
  },
  {
   "cell_type": "code",
   "execution_count": 7,
   "id": "eb6ffaa3",
   "metadata": {},
   "outputs": [
    {
     "name": "stdout",
     "output_type": "stream",
     "text": [
      " Multiple line can \n",
      " also be printed\n"
     ]
    }
   ],
   "source": [
    "print(' Multiple line can \\n also be printed')"
   ]
  },
  {
   "cell_type": "code",
   "execution_count": 8,
   "id": "69c6bab0",
   "metadata": {},
   "outputs": [
    {
     "name": "stdout",
     "output_type": "stream",
     "text": [
      "String concatenate also works\n"
     ]
    }
   ],
   "source": [
    "print('String concatenate','also','works')"
   ]
  },
  {
   "cell_type": "code",
   "execution_count": 10,
   "id": "ccd3adc5",
   "metadata": {},
   "outputs": [
    {
     "ename": "TypeError",
     "evalue": "type.__new__() argument 2 must be tuple, not str",
     "output_type": "error",
     "traceback": [
      "\u001b[1;31m---------------------------------------------------------------------------\u001b[0m",
      "\u001b[1;31mTypeError\u001b[0m                                 Traceback (most recent call last)",
      "Cell \u001b[1;32mIn[10], line 1\u001b[0m\n\u001b[1;32m----> 1\u001b[0m \u001b[38;5;28;43mtype\u001b[39;49m\u001b[43m(\u001b[49m\u001b[38;5;124;43m'\u001b[39;49m\u001b[38;5;124;43mString concatenate\u001b[39;49m\u001b[38;5;124;43m'\u001b[39;49m\u001b[43m,\u001b[49m\u001b[38;5;124;43m'\u001b[39;49m\u001b[38;5;124;43malso\u001b[39;49m\u001b[38;5;124;43m'\u001b[39;49m\u001b[43m,\u001b[49m\u001b[38;5;124;43m'\u001b[39;49m\u001b[38;5;124;43mworks\u001b[39;49m\u001b[38;5;124;43m'\u001b[39;49m\u001b[43m)\u001b[49m\n",
      "\u001b[1;31mTypeError\u001b[0m: type.__new__() argument 2 must be tuple, not str"
     ]
    }
   ],
   "source": [
    "#here the error will occur becaz we can not pass the n numbers of args here\n",
    "type('String concatenate','also','works')"
   ]
  },
  {
   "cell_type": "code",
   "execution_count": 11,
   "id": "73db110f",
   "metadata": {},
   "outputs": [
    {
     "data": {
      "text/plain": [
       "tuple"
      ]
     },
     "execution_count": 11,
     "metadata": {},
     "output_type": "execute_result"
    }
   ],
   "source": [
    "\n",
    "type(('String concatenate','also','works'))"
   ]
  },
  {
   "cell_type": "code",
   "execution_count": 12,
   "id": "046a0b3b",
   "metadata": {},
   "outputs": [
    {
     "name": "stdout",
     "output_type": "stream",
     "text": [
      "3+5\n"
     ]
    }
   ],
   "source": [
    "# this will treat as a string here becaz we have printed the arg in single quotes.\n",
    "print('3+5')"
   ]
  },
  {
   "cell_type": "code",
   "execution_count": 13,
   "id": "64a8dcb9",
   "metadata": {},
   "outputs": [
    {
     "name": "stdout",
     "output_type": "stream",
     "text": [
      "7\n"
     ]
    }
   ],
   "source": [
    "# normal addition code has perfomed\n",
    "print(3+4)"
   ]
  },
  {
   "cell_type": "code",
   "execution_count": 14,
   "id": "48b88a8d",
   "metadata": {},
   "outputs": [
    {
     "name": "stdout",
     "output_type": "stream",
     "text": [
      "3 + 4 =  7\n"
     ]
    }
   ],
   "source": [
    "print(\"3 + 4 = \",(3+4))"
   ]
  },
  {
   "cell_type": "code",
   "execution_count": 15,
   "id": "d7b3a6a4",
   "metadata": {},
   "outputs": [
    {
     "name": "stdout",
     "output_type": "stream",
     "text": [
      "Name age 35 ABC\n"
     ]
    }
   ],
   "source": [
    "print('Name','age',35,'ABC')"
   ]
  },
  {
   "cell_type": "code",
   "execution_count": 16,
   "id": "f2289704",
   "metadata": {},
   "outputs": [
    {
     "name": "stdout",
     "output_type": "stream",
     "text": [
      "This is first line\n"
     ]
    }
   ],
   "source": [
    "print(\"This\",\"is\",\"first\",\"line\")"
   ]
  },
  {
   "cell_type": "code",
   "execution_count": 17,
   "id": "d6b6a568",
   "metadata": {},
   "outputs": [
    {
     "name": "stdout",
     "output_type": "stream",
     "text": [
      "This,is,first,line\n"
     ]
    }
   ],
   "source": [
    "# Here the output function has printed the string by seprating it with the comma.\n",
    "print(\"This\",\"is\",\"first\",\"line\",sep=\",\")"
   ]
  },
  {
   "cell_type": "code",
   "execution_count": 21,
   "id": "2ef962ad",
   "metadata": {},
   "outputs": [
    {
     "name": "stdout",
     "output_type": "stream",
     "text": [
      "This is for pratice @ lets try once again \n"
     ]
    }
   ],
   "source": [
    "#This works when two or more strings are used in a same line .\n",
    "print(\"This is for pratice \",\" lets try once again \",sep=\"@\")"
   ]
  },
  {
   "cell_type": "code",
   "execution_count": 22,
   "id": "d9b98c19",
   "metadata": {},
   "outputs": [
    {
     "name": "stdout",
     "output_type": "stream",
     "text": [
      "This is first line.This is second line\n"
     ]
    }
   ],
   "source": [
    "# here we used end parameter by which the first string ended by the fullstop or terminated the first with this(.)and continue the second  in same line.  \n",
    "print(\"This is first line\",end=\".\")\n",
    "print(\"This is second line\")"
   ]
  },
  {
   "cell_type": "code",
   "execution_count": 27,
   "id": "45687171",
   "metadata": {},
   "outputs": [
    {
     "name": "stdout",
     "output_type": "stream",
     "text": [
      "0 * 1 * 2 * 3 * 4 * "
     ]
    }
   ],
   "source": [
    "for i in range(0,5):\n",
    "    print(i,\"*\",end=\" \")"
   ]
  },
  {
   "cell_type": "code",
   "execution_count": null,
   "id": "b463182e",
   "metadata": {},
   "outputs": [],
   "source": []
  },
  {
   "cell_type": "code",
   "execution_count": null,
   "id": "6b61f177",
   "metadata": {},
   "outputs": [],
   "source": []
  },
  {
   "cell_type": "markdown",
   "id": "e0170640",
   "metadata": {},
   "source": [
    "# Data type and typecasting"
   ]
  },
  {
   "cell_type": "code",
   "execution_count": 28,
   "id": "942824ec",
   "metadata": {},
   "outputs": [
    {
     "data": {
      "text/plain": [
       "int"
      ]
     },
     "execution_count": 28,
     "metadata": {},
     "output_type": "execute_result"
    }
   ],
   "source": [
    "1\n",
    "type(1)"
   ]
  },
  {
   "cell_type": "code",
   "execution_count": 29,
   "id": "39f0a569",
   "metadata": {},
   "outputs": [
    {
     "data": {
      "text/plain": [
       "float"
      ]
     },
     "execution_count": 29,
     "metadata": {},
     "output_type": "execute_result"
    }
   ],
   "source": [
    "23.56\n",
    "type(23.56)"
   ]
  },
  {
   "cell_type": "code",
   "execution_count": 30,
   "id": "a8e05002",
   "metadata": {},
   "outputs": [
    {
     "data": {
      "text/plain": [
       "str"
      ]
     },
     "execution_count": 30,
     "metadata": {},
     "output_type": "execute_result"
    }
   ],
   "source": [
    "'Saurabh'\n",
    "type('Saurabh')"
   ]
  },
  {
   "cell_type": "code",
   "execution_count": 31,
   "id": "6f2cd846",
   "metadata": {},
   "outputs": [
    {
     "data": {
      "text/plain": [
       "bool"
      ]
     },
     "execution_count": 31,
     "metadata": {},
     "output_type": "execute_result"
    }
   ],
   "source": [
    "True\n",
    "type(True)"
   ]
  },
  {
   "cell_type": "code",
   "execution_count": 32,
   "id": "7d51fe8e",
   "metadata": {},
   "outputs": [
    {
     "data": {
      "text/plain": [
       "bool"
      ]
     },
     "execution_count": 32,
     "metadata": {},
     "output_type": "execute_result"
    }
   ],
   "source": [
    "False\n",
    "type(False)"
   ]
  },
  {
   "cell_type": "code",
   "execution_count": 34,
   "id": "173502b0",
   "metadata": {},
   "outputs": [
    {
     "data": {
      "text/plain": [
       "sys.float_info(max=1.7976931348623157e+308, max_exp=1024, max_10_exp=308, min=2.2250738585072014e-308, min_exp=-1021, min_10_exp=-307, dig=15, mant_dig=53, epsilon=2.220446049250313e-16, radix=2, rounds=1)"
      ]
     },
     "execution_count": 34,
     "metadata": {},
     "output_type": "execute_result"
    }
   ],
   "source": [
    "#import is a keyword used to access or to import the package in a program\n",
    "import sys\n",
    "sys.float_info"
   ]
  },
  {
   "cell_type": "markdown",
   "id": "f5d5c9de",
   "metadata": {},
   "source": [
    "# TypeCasting"
   ]
  },
  {
   "cell_type": "code",
   "execution_count": 38,
   "id": "ed4e6797",
   "metadata": {},
   "outputs": [
    {
     "data": {
      "text/plain": [
       "10"
      ]
     },
     "execution_count": 38,
     "metadata": {},
     "output_type": "execute_result"
    }
   ],
   "source": [
    "int(10.5)\n"
   ]
  },
  {
   "cell_type": "code",
   "execution_count": 39,
   "id": "983e365b",
   "metadata": {},
   "outputs": [
    {
     "data": {
      "text/plain": [
       "123.0"
      ]
     },
     "execution_count": 39,
     "metadata": {},
     "output_type": "execute_result"
    }
   ],
   "source": [
    "float('123')"
   ]
  },
  {
   "cell_type": "code",
   "execution_count": 40,
   "id": "4d7e5b21",
   "metadata": {},
   "outputs": [
    {
     "data": {
      "text/plain": [
       "234.0"
      ]
     },
     "execution_count": 40,
     "metadata": {},
     "output_type": "execute_result"
    }
   ],
   "source": [
    "float(234)"
   ]
  },
  {
   "cell_type": "code",
   "execution_count": 42,
   "id": "2b72b135",
   "metadata": {},
   "outputs": [
    {
     "data": {
      "text/plain": [
       "'sa23'"
      ]
     },
     "execution_count": 42,
     "metadata": {},
     "output_type": "execute_result"
    }
   ],
   "source": [
    "str('sa23')"
   ]
  },
  {
   "cell_type": "code",
   "execution_count": 43,
   "id": "6008e24b",
   "metadata": {},
   "outputs": [
    {
     "ename": "SyntaxError",
     "evalue": "expression cannot contain assignment, perhaps you meant \"==\"? (4209203518.py, line 1)",
     "output_type": "error",
     "traceback": [
      "\u001b[1;36m  Cell \u001b[1;32mIn[43], line 1\u001b[1;36m\u001b[0m\n\u001b[1;33m    str(2=4)\u001b[0m\n\u001b[1;37m        ^\u001b[0m\n\u001b[1;31mSyntaxError\u001b[0m\u001b[1;31m:\u001b[0m expression cannot contain assignment, perhaps you meant \"==\"?\n"
     ]
    }
   ],
   "source": [
    "str(2=4)"
   ]
  },
  {
   "cell_type": "code",
   "execution_count": 45,
   "id": "63c54552",
   "metadata": {},
   "outputs": [
    {
     "data": {
      "text/plain": [
       "'sau24'"
      ]
     },
     "execution_count": 45,
     "metadata": {},
     "output_type": "execute_result"
    }
   ],
   "source": [
    "str('sau24')"
   ]
  },
  {
   "cell_type": "code",
   "execution_count": 46,
   "id": "6e064acc",
   "metadata": {},
   "outputs": [
    {
     "data": {
      "text/plain": [
       "True"
      ]
     },
     "execution_count": 46,
     "metadata": {},
     "output_type": "execute_result"
    }
   ],
   "source": [
    "bool(1)"
   ]
  },
  {
   "cell_type": "code",
   "execution_count": 47,
   "id": "516c8725",
   "metadata": {},
   "outputs": [
    {
     "data": {
      "text/plain": [
       "1"
      ]
     },
     "execution_count": 47,
     "metadata": {},
     "output_type": "execute_result"
    }
   ],
   "source": [
    "int(True)"
   ]
  },
  {
   "cell_type": "code",
   "execution_count": 48,
   "id": "c550c7a7",
   "metadata": {},
   "outputs": [
    {
     "data": {
      "text/plain": [
       "1.0"
      ]
     },
     "execution_count": 48,
     "metadata": {},
     "output_type": "execute_result"
    }
   ],
   "source": [
    "float(True)"
   ]
  },
  {
   "cell_type": "code",
   "execution_count": 49,
   "id": "a44b4902",
   "metadata": {},
   "outputs": [
    {
     "data": {
      "text/plain": [
       "0"
      ]
     },
     "execution_count": 49,
     "metadata": {},
     "output_type": "execute_result"
    }
   ],
   "source": [
    "int(False)"
   ]
  },
  {
   "cell_type": "code",
   "execution_count": 50,
   "id": "d674845a",
   "metadata": {},
   "outputs": [
    {
     "data": {
      "text/plain": [
       "0.0"
      ]
     },
     "execution_count": 50,
     "metadata": {},
     "output_type": "execute_result"
    }
   ],
   "source": [
    "float(False)"
   ]
  },
  {
   "cell_type": "code",
   "execution_count": 51,
   "id": "e045d964",
   "metadata": {},
   "outputs": [
    {
     "data": {
      "text/plain": [
       "True"
      ]
     },
     "execution_count": 51,
     "metadata": {},
     "output_type": "execute_result"
    }
   ],
   "source": [
    "bool(-1)"
   ]
  },
  {
   "cell_type": "code",
   "execution_count": 52,
   "id": "97acc043",
   "metadata": {},
   "outputs": [
    {
     "data": {
      "text/plain": [
       "float"
      ]
     },
     "execution_count": 52,
     "metadata": {},
     "output_type": "execute_result"
    }
   ],
   "source": [
    "type(2-4.2+6)"
   ]
  },
  {
   "cell_type": "code",
   "execution_count": 53,
   "id": "2ecdbb3e",
   "metadata": {},
   "outputs": [],
   "source": [
    "list1=list(range(0,10))"
   ]
  },
  {
   "cell_type": "code",
   "execution_count": 54,
   "id": "753f55e5",
   "metadata": {},
   "outputs": [
    {
     "name": "stdout",
     "output_type": "stream",
     "text": [
      "[0, 1, 2, 3, 4, 5, 6, 7, 8, 9]\n"
     ]
    }
   ],
   "source": [
    "print(list1)"
   ]
  },
  {
   "cell_type": "code",
   "execution_count": 55,
   "id": "34721c24",
   "metadata": {},
   "outputs": [
    {
     "data": {
      "text/plain": [
       "{0, 1, 2, 3, 4, 5, 6, 7, 8, 9}"
      ]
     },
     "execution_count": 55,
     "metadata": {},
     "output_type": "execute_result"
    }
   ],
   "source": [
    "#converting list into set \n",
    "set(list1)"
   ]
  },
  {
   "cell_type": "code",
   "execution_count": 56,
   "id": "10dcad96",
   "metadata": {},
   "outputs": [
    {
     "data": {
      "text/plain": [
       "list"
      ]
     },
     "execution_count": 56,
     "metadata": {},
     "output_type": "execute_result"
    }
   ],
   "source": [
    "type(list1)"
   ]
  },
  {
   "cell_type": "code",
   "execution_count": 57,
   "id": "701c145c",
   "metadata": {},
   "outputs": [
    {
     "data": {
      "text/plain": [
       "set"
      ]
     },
     "execution_count": 57,
     "metadata": {},
     "output_type": "execute_result"
    }
   ],
   "source": [
    "type(set(list1))"
   ]
  },
  {
   "cell_type": "code",
   "execution_count": 4,
   "id": "d6da48ca",
   "metadata": {},
   "outputs": [
    {
     "name": "stdout",
     "output_type": "stream",
     "text": [
      "Enter the first number 2\n",
      "Enter the second number 2\n",
      "4\n",
      "0\n",
      "4\n",
      "1.0\n",
      "0\n",
      "1\n"
     ]
    }
   ],
   "source": [
    "num1=eval(input(\"Enter the first number \"))\n",
    "num2=eval(input(\"Enter the second number \"))\n",
    "a=num1+num2\n",
    "b=num1-num2\n",
    "c=num1*num2\n",
    "d=num1/num2\n",
    "e=num1%num2\n",
    "f=num1//num2\n",
    "print(a)\n",
    "print(b)\n",
    "print(c)\n",
    "print(d)\n",
    "print(e)\n",
    "print(f)"
   ]
  },
  {
   "cell_type": "code",
   "execution_count": 5,
   "id": "4ad963a3",
   "metadata": {},
   "outputs": [
    {
     "name": "stdout",
     "output_type": "stream",
     "text": [
      "False\n",
      "True\n",
      "False\n",
      "True\n",
      "False\n",
      "True\n"
     ]
    }
   ],
   "source": [
    "num1=3\n",
    "num2=6\n",
    "print(num1>num2)\n",
    "print(num1<num2)\n",
    "print(num1>=num2)\n",
    "print(num1<=num2)\n",
    "print(num1==num2)\n",
    "print(num1!=num2)"
   ]
  },
  {
   "cell_type": "code",
   "execution_count": 7,
   "id": "bda91862",
   "metadata": {},
   "outputs": [
    {
     "name": "stdout",
     "output_type": "stream",
     "text": [
      "Enter the principal amount  20\n",
      "Enter number of months   30\n",
      "enter the rate of interest %  44\n",
      "The si =  264.0\n"
     ]
    }
   ],
   "source": [
    "# simple interest \n",
    "p=eval(input(\"Enter the principal amount  \"))\n",
    "n=eval(input(\"Enter number of months   \"))\n",
    "r=eval(input(\"enter the rate of interest %  \"))\n",
    "si=(p*r*n)/100\n",
    "print(\"The si = \",si)"
   ]
  },
  {
   "cell_type": "code",
   "execution_count": 10,
   "id": "8e9fdf97",
   "metadata": {},
   "outputs": [
    {
     "name": "stdout",
     "output_type": "stream",
     "text": [
      "enter the weight of the object 59\n",
      "Weight is  59 so its weight in pound is  129.8\n",
      "59 kg = 129.8 pounds\n"
     ]
    }
   ],
   "source": [
    "#converting kg weight in pounds-weight\n",
    "weight=eval(input(\"enter the weight of the object \"))\n",
    "weight_in_pound=weight*2.2\n",
    "\n",
    "print(\"Weight is \",weight,\"so its weight in pound is \",weight_in_pound)\n",
    "print(weight,\"kg =\",weight_in_pound,\"pounds\")"
   ]
  },
  {
   "cell_type": "code",
   "execution_count": null,
   "id": "f5f00cad",
   "metadata": {},
   "outputs": [],
   "source": [
    "number = int(input(\"Enter a four digit number --\"))\n",
    "\n",
    "sum_of_digits = 0 \n",
    "\n",
    "digit1 = number % 10\n",
    "sum_of_digits = sum_of_digits + digit1\n",
    "number = int(number / 10 )\n",
    "\n",
    "print(number,  sum_of_digits,  digit1)"
   ]
  },
  {
   "cell_type": "code",
   "execution_count": 2,
   "id": "c1d560df",
   "metadata": {},
   "outputs": [
    {
     "name": "stdout",
     "output_type": "stream",
     "text": [
      "Enter a four digit number --4567\n",
      "4567 7\n"
     ]
    }
   ],
   "source": [
    "number = int(input(\"Enter a four digit number --\"))\n",
    "\n",
    "sum_of_digits = 0 \n",
    "\n",
    "digit1 = number % 10\n",
    "print(number ,digit1)"
   ]
  },
  {
   "cell_type": "code",
   "execution_count": 14,
   "id": "016d8727",
   "metadata": {},
   "outputs": [
    {
     "name": "stdout",
     "output_type": "stream",
     "text": [
      "enter the four digit number here 1432\n",
      "digit 1 is  2 number =  143\n",
      "digit 2 is  3 number =  14\n",
      "digit 3 is  4 number =  1\n",
      "digit 4 is  1 number =  0\n",
      "sum of digit is  10\n"
     ]
    }
   ],
   "source": [
    "number=eval(input(\"enter the four digit number here \"))\n",
    "\n",
    "sum_of_digit=0\n",
    "\n",
    "digit1=number%10\n",
    "sum_of_digit=sum_of_digit+digit1\n",
    "number=int(number/10)\n",
    "print(\"digit 1 is \",digit1,\"number = \",number)\n",
    "\n",
    "digit2=number%10\n",
    "sum_of_digit=sum_of_digit+digit2\n",
    "number=int(number/10)\n",
    "print(\"digit 2 is \",digit2,\"number = \",number)\n",
    "\n",
    "digit3=number%10\n",
    "sum_of_digit=sum_of_digit+digit3\n",
    "number=int(number/10)\n",
    "print(\"digit 3 is \",digit3,\"number = \",number)\n",
    "\n",
    "digit4=number%10\n",
    "sum_of_digit=sum_of_digit+digit4\n",
    "number=int(number/10)\n",
    "\n",
    "#print(\"digit.1 = \",digit1,\"sum_of_digit = \",sum_of_digit,\"number = \",number,sep=\" @ \")\n",
    "print(\"digit 4 is \",digit4,\"number = \",number)\n",
    "print(\"sum of digit is \",sum_of_digit)"
   ]
  },
  {
   "cell_type": "code",
   "execution_count": null,
   "id": "5ce2a3d3",
   "metadata": {},
   "outputs": [],
   "source": []
  },
  {
   "cell_type": "code",
   "execution_count": null,
   "id": "9b21570f",
   "metadata": {},
   "outputs": [],
   "source": []
  }
 ],
 "metadata": {
  "kernelspec": {
   "display_name": "Python 3 (ipykernel)",
   "language": "python",
   "name": "python3"
  },
  "language_info": {
   "codemirror_mode": {
    "name": "ipython",
    "version": 3
   },
   "file_extension": ".py",
   "mimetype": "text/x-python",
   "name": "python",
   "nbconvert_exporter": "python",
   "pygments_lexer": "ipython3",
   "version": "3.10.9"
  }
 },
 "nbformat": 4,
 "nbformat_minor": 5
}
