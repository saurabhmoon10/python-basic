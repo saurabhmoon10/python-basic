{
 "cells": [
  {
   "cell_type": "markdown",
   "id": "3e7e1a40",
   "metadata": {},
   "source": [
    "# List"
   ]
  },
  {
   "cell_type": "markdown",
   "id": "121a7fbe",
   "metadata": {},
   "source": [
    "(1) A list is a data structure that allows you to store a collection of items.\n",
    "\n",
    "\n",
    "(2) Lists are ordered and mutable, which means you can change their contents (add, remove, or modify elements) after they are created. \n",
    "\n",
    "\n",
    "(3)Lists are defined using square brackets [] and can contain elements of different data types, including numbers, strings, and other objects. "
   ]
  },
  {
   "cell_type": "code",
   "execution_count": 1,
   "id": "a2bc9b81",
   "metadata": {},
   "outputs": [
    {
     "data": {
      "text/plain": [
       "[]"
      ]
     },
     "execution_count": 1,
     "metadata": {},
     "output_type": "execute_result"
    }
   ],
   "source": [
    "#assigning the empty list\n",
    "empty_list=[]\n",
    "empty_list"
   ]
  },
  {
   "cell_type": "code",
   "execution_count": 2,
   "id": "8b5bc46d",
   "metadata": {},
   "outputs": [
    {
     "data": {
      "text/plain": [
       "[]"
      ]
     },
     "execution_count": 2,
     "metadata": {},
     "output_type": "execute_result"
    }
   ],
   "source": [
    "#We can call the empty list with its list data-type also\n",
    "other_empty_list=list()\n",
    "other_empty_list"
   ]
  },
  {
   "cell_type": "code",
   "execution_count": 3,
   "id": "9cd47e29",
   "metadata": {},
   "outputs": [
    {
     "data": {
      "text/plain": [
       "[1, 2, 3, 4, 5]"
      ]
     },
     "execution_count": 3,
     "metadata": {},
     "output_type": "execute_result"
    }
   ],
   "source": [
    "#assigning the values in a list or creating a list which contains numbers.\n",
    "my_number_list=[1,2,3,4,5]\n",
    "my_number_list"
   ]
  },
  {
   "cell_type": "code",
   "execution_count": 4,
   "id": "8a6cfd49",
   "metadata": {},
   "outputs": [
    {
     "data": {
      "text/plain": [
       "[1, 2, 3.5, [6, 5, 4], ('a', 'b', 'c'), 'Saurabh']"
      ]
     },
     "execution_count": 4,
     "metadata": {},
     "output_type": "execute_result"
    }
   ],
   "source": [
    "# We can assign the mixed list which can contain string,numbers,tuple,set,list,boolean value  inside the list .\n",
    "mixed_list=[1,2,3.5,[6,5,4],('a','b','c'),\"Saurabh\"]\n",
    "mixed_list"
   ]
  },
  {
   "cell_type": "code",
   "execution_count": 5,
   "id": "4b95d716",
   "metadata": {},
   "outputs": [
    {
     "data": {
      "text/plain": [
       "4"
      ]
     },
     "execution_count": 5,
     "metadata": {},
     "output_type": "execute_result"
    }
   ],
   "source": [
    "mixed_list[3][2]"
   ]
  },
  {
   "cell_type": "code",
   "execution_count": 6,
   "id": "e97b60a0",
   "metadata": {},
   "outputs": [
    {
     "data": {
      "text/plain": [
       "'r'"
      ]
     },
     "execution_count": 6,
     "metadata": {},
     "output_type": "execute_result"
    }
   ],
   "source": [
    "mixed_list[5][3]"
   ]
  },
  {
   "cell_type": "code",
   "execution_count": 7,
   "id": "77da25f7",
   "metadata": {},
   "outputs": [
    {
     "data": {
      "text/plain": [
       "list"
      ]
     },
     "execution_count": 7,
     "metadata": {},
     "output_type": "execute_result"
    }
   ],
   "source": [
    "type(mixed_list)"
   ]
  },
  {
   "cell_type": "code",
   "execution_count": 8,
   "id": "aec5977b",
   "metadata": {},
   "outputs": [
    {
     "data": {
      "text/plain": [
       "list"
      ]
     },
     "execution_count": 8,
     "metadata": {},
     "output_type": "execute_result"
    }
   ],
   "source": [
    "# checking the data - type of mixed list which the different type of values in it through their index number.\n",
    "type(mixed_list[3])"
   ]
  },
  {
   "cell_type": "code",
   "execution_count": 9,
   "id": "b6f0b9a3",
   "metadata": {},
   "outputs": [
    {
     "data": {
      "text/plain": [
       "float"
      ]
     },
     "execution_count": 9,
     "metadata": {},
     "output_type": "execute_result"
    }
   ],
   "source": [
    "type(mixed_list[2])"
   ]
  },
  {
   "cell_type": "code",
   "execution_count": 10,
   "id": "0ade5506",
   "metadata": {},
   "outputs": [
    {
     "data": {
      "text/plain": [
       "6"
      ]
     },
     "execution_count": 10,
     "metadata": {},
     "output_type": "execute_result"
    }
   ],
   "source": [
    "# lenght of the list can be checked with the help of len()function\n",
    "len(mixed_list)"
   ]
  },
  {
   "cell_type": "code",
   "execution_count": 11,
   "id": "346db013",
   "metadata": {},
   "outputs": [
    {
     "data": {
      "text/plain": [
       "[1, 2, 3, 4, 5]"
      ]
     },
     "execution_count": 11,
     "metadata": {},
     "output_type": "execute_result"
    }
   ],
   "source": [
    "my_number_list"
   ]
  },
  {
   "cell_type": "code",
   "execution_count": 12,
   "id": "216ca191",
   "metadata": {},
   "outputs": [
    {
     "data": {
      "text/plain": [
       "[1, 2, 3, 1, 2, 3, 1, 2, 3]"
      ]
     },
     "execution_count": 12,
     "metadata": {},
     "output_type": "execute_result"
    }
   ],
   "source": [
    "# list can be multiple\n",
    "list2=[1,2,3]*3\n",
    "list2"
   ]
  },
  {
   "cell_type": "code",
   "execution_count": 13,
   "id": "0aaa0b4d",
   "metadata": {},
   "outputs": [
    {
     "name": "stdout",
     "output_type": "stream",
     "text": [
      "['a', 'b', 'c', 1, 2, 3]\n"
     ]
    }
   ],
   "source": [
    "\n",
    "# List concatinating .....or joining the 2 or more list in a particular list.\n",
    "list1=['a','b','c']\n",
    "list2=[1,2,3]\n",
    "join_list=list1 + list2\n",
    "print(join_list)"
   ]
  },
  {
   "cell_type": "code",
   "execution_count": 14,
   "id": "9dabcc58",
   "metadata": {},
   "outputs": [
    {
     "name": "stdout",
     "output_type": "stream",
     "text": [
      "[-1, -1, -1, -1]\n"
     ]
    },
    {
     "data": {
      "text/plain": [
       "[0, 0, 0, 0, 0]"
      ]
     },
     "execution_count": 14,
     "metadata": {},
     "output_type": "execute_result"
    }
   ],
   "source": [
    "#here its repeats or multiples the values present in a list \n",
    "print([-1]*4)\n",
    "[0]*5"
   ]
  },
  {
   "cell_type": "markdown",
   "id": "7770bd46",
   "metadata": {},
   "source": [
    "# indexing in a list"
   ]
  },
  {
   "cell_type": "code",
   "execution_count": 15,
   "id": "e23bf5f3",
   "metadata": {},
   "outputs": [
    {
     "data": {
      "text/plain": [
       "[1, 2, 3.5, [6, 5, 4], ('a', 'b', 'c'), 'Saurabh']"
      ]
     },
     "execution_count": 15,
     "metadata": {},
     "output_type": "execute_result"
    }
   ],
   "source": [
    "mixed_list"
   ]
  },
  {
   "cell_type": "code",
   "execution_count": 16,
   "id": "0d066139",
   "metadata": {},
   "outputs": [
    {
     "data": {
      "text/plain": [
       "1"
      ]
     },
     "execution_count": 16,
     "metadata": {},
     "output_type": "execute_result"
    }
   ],
   "source": [
    "# gives the first  indexing value from a list\n",
    "mixed_list[0]"
   ]
  },
  {
   "cell_type": "code",
   "execution_count": 17,
   "id": "7fbce0a7",
   "metadata": {},
   "outputs": [
    {
     "data": {
      "text/plain": [
       "[6, 5, 4]"
      ]
     },
     "execution_count": 17,
     "metadata": {},
     "output_type": "execute_result"
    }
   ],
   "source": [
    "# Gives the 3rd indexing position value from a list\n",
    "mixed_list[3]"
   ]
  },
  {
   "cell_type": "code",
   "execution_count": 18,
   "id": "23bceaf6",
   "metadata": {},
   "outputs": [
    {
     "data": {
      "text/plain": [
       "'Saurabh'"
      ]
     },
     "execution_count": 18,
     "metadata": {},
     "output_type": "execute_result"
    }
   ],
   "source": [
    "mixed_list[len(mixed_list)-1]"
   ]
  },
  {
   "cell_type": "code",
   "execution_count": 19,
   "id": "12b12b59",
   "metadata": {},
   "outputs": [
    {
     "name": "stdout",
     "output_type": "stream",
     "text": [
      "3.5      3.5\n",
      "[6, 5, 4]      [6, 5, 4]\n",
      "('a', 'b', 'c')      ('a', 'b', 'c')\n"
     ]
    }
   ],
   "source": [
    "print(mixed_list[2],\"    \",mixed_list[-4])\n",
    "print(mixed_list[3],\"    \",mixed_list[-3])\n",
    "print(mixed_list[4],\"    \",mixed_list[-2])"
   ]
  },
  {
   "cell_type": "markdown",
   "id": "1d28b004",
   "metadata": {},
   "source": [
    "# List (Slicing)"
   ]
  },
  {
   "cell_type": "code",
   "execution_count": 20,
   "id": "602e5d38",
   "metadata": {},
   "outputs": [
    {
     "data": {
      "text/plain": [
       "[1, 2, 3.5, [6, 5, 4], ('a', 'b', 'c'), 'Saurabh']"
      ]
     },
     "execution_count": 20,
     "metadata": {},
     "output_type": "execute_result"
    }
   ],
   "source": [
    "mixed_list"
   ]
  },
  {
   "cell_type": "code",
   "execution_count": 21,
   "id": "8371dff6",
   "metadata": {},
   "outputs": [
    {
     "data": {
      "text/plain": [
       "[1, 2, 3.5, [6, 5, 4], ('a', 'b', 'c'), 'Saurabh']"
      ]
     },
     "execution_count": 21,
     "metadata": {},
     "output_type": "execute_result"
    }
   ],
   "source": [
    "mixed_list[:]"
   ]
  },
  {
   "cell_type": "code",
   "execution_count": 22,
   "id": "0d78cf88",
   "metadata": {},
   "outputs": [
    {
     "data": {
      "text/plain": [
       "[1, 2, 3.5, [6, 5, 4], ('a', 'b', 'c'), 'Saurabh']"
      ]
     },
     "execution_count": 22,
     "metadata": {},
     "output_type": "execute_result"
    }
   ],
   "source": [
    "mixed_list[0:]"
   ]
  },
  {
   "cell_type": "code",
   "execution_count": 23,
   "id": "1d90ffa1",
   "metadata": {},
   "outputs": [
    {
     "data": {
      "text/plain": [
       "[3.5, [6, 5, 4], ('a', 'b', 'c'), 'Saurabh']"
      ]
     },
     "execution_count": 23,
     "metadata": {},
     "output_type": "execute_result"
    }
   ],
   "source": [
    "# starting the index from index number 2 and lenght number 3 of a list\n",
    "mixed_list[2:]"
   ]
  },
  {
   "cell_type": "code",
   "execution_count": 24,
   "id": "ed705e42",
   "metadata": {},
   "outputs": [
    {
     "data": {
      "text/plain": [
       "[2, 3.5, [6, 5, 4], ('a', 'b', 'c'), 'Saurabh']"
      ]
     },
     "execution_count": 24,
     "metadata": {},
     "output_type": "execute_result"
    }
   ],
   "source": [
    "mixed_list[1:6]"
   ]
  },
  {
   "cell_type": "code",
   "execution_count": 25,
   "id": "bf473559",
   "metadata": {},
   "outputs": [
    {
     "data": {
      "text/plain": [
       "[2, 3.5, [6, 5, 4], ('a', 'b', 'c')]"
      ]
     },
     "execution_count": 25,
     "metadata": {},
     "output_type": "execute_result"
    }
   ],
   "source": [
    "mixed_list[1:5]"
   ]
  },
  {
   "cell_type": "code",
   "execution_count": 26,
   "id": "507a6bec",
   "metadata": {},
   "outputs": [
    {
     "data": {
      "text/plain": [
       "[1, 2, 3.5, [6, 5, 4]]"
      ]
     },
     "execution_count": 26,
     "metadata": {},
     "output_type": "execute_result"
    }
   ],
   "source": [
    "mixed_list[0:4]"
   ]
  },
  {
   "cell_type": "code",
   "execution_count": 27,
   "id": "b45dbdf7",
   "metadata": {},
   "outputs": [
    {
     "data": {
      "text/plain": [
       "['Saurabh', ('a', 'b', 'c'), [6, 5, 4], 3.5, 2, 1]"
      ]
     },
     "execution_count": 27,
     "metadata": {},
     "output_type": "execute_result"
    }
   ],
   "source": [
    "# reversing the list\n",
    "mixed_list[::-1]"
   ]
  },
  {
   "cell_type": "code",
   "execution_count": 28,
   "id": "1a6fc957",
   "metadata": {},
   "outputs": [
    {
     "data": {
      "text/plain": [
       "['Saurabh', [6, 5, 4], 2]"
      ]
     },
     "execution_count": 28,
     "metadata": {},
     "output_type": "execute_result"
    }
   ],
   "source": [
    "# steps or skipping the values can be done\n",
    "mixed_list[::-2]"
   ]
  },
  {
   "cell_type": "code",
   "execution_count": 29,
   "id": "c99ecff3",
   "metadata": {},
   "outputs": [
    {
     "data": {
      "text/plain": [
       "['Saurabh', ('a', 'b', 'c'), [6, 5, 4], 3.5]"
      ]
     },
     "execution_count": 29,
     "metadata": {},
     "output_type": "execute_result"
    }
   ],
   "source": [
    "mixed_list[-1:-5:-1]"
   ]
  },
  {
   "cell_type": "code",
   "execution_count": 30,
   "id": "7c95633b",
   "metadata": {},
   "outputs": [
    {
     "data": {
      "text/plain": [
       "[]"
      ]
     },
     "execution_count": 30,
     "metadata": {},
     "output_type": "execute_result"
    }
   ],
   "source": [
    "mixed_list[-6:-1:-1]"
   ]
  },
  {
   "cell_type": "markdown",
   "id": "dfbb66fd",
   "metadata": {},
   "source": [
    "# List (Operators)"
   ]
  },
  {
   "cell_type": "code",
   "execution_count": 31,
   "id": "6b1e49ae",
   "metadata": {},
   "outputs": [
    {
     "data": {
      "text/plain": [
       "['__add__',\n",
       " '__class__',\n",
       " '__class_getitem__',\n",
       " '__contains__',\n",
       " '__delattr__',\n",
       " '__delitem__',\n",
       " '__dir__',\n",
       " '__doc__',\n",
       " '__eq__',\n",
       " '__format__',\n",
       " '__ge__',\n",
       " '__getattribute__',\n",
       " '__getitem__',\n",
       " '__gt__',\n",
       " '__hash__',\n",
       " '__iadd__',\n",
       " '__imul__',\n",
       " '__init__',\n",
       " '__init_subclass__',\n",
       " '__iter__',\n",
       " '__le__',\n",
       " '__len__',\n",
       " '__lt__',\n",
       " '__mul__',\n",
       " '__ne__',\n",
       " '__new__',\n",
       " '__reduce__',\n",
       " '__reduce_ex__',\n",
       " '__repr__',\n",
       " '__reversed__',\n",
       " '__rmul__',\n",
       " '__setattr__',\n",
       " '__setitem__',\n",
       " '__sizeof__',\n",
       " '__str__',\n",
       " '__subclasshook__',\n",
       " 'append',\n",
       " 'clear',\n",
       " 'copy',\n",
       " 'count',\n",
       " 'extend',\n",
       " 'index',\n",
       " 'insert',\n",
       " 'pop',\n",
       " 'remove',\n",
       " 'reverse',\n",
       " 'sort']"
      ]
     },
     "execution_count": 31,
     "metadata": {},
     "output_type": "execute_result"
    }
   ],
   "source": [
    "dir(list)"
   ]
  },
  {
   "cell_type": "code",
   "execution_count": 32,
   "id": "e15e49c0",
   "metadata": {},
   "outputs": [
    {
     "data": {
      "text/plain": [
       "True"
      ]
     },
     "execution_count": 32,
     "metadata": {},
     "output_type": "execute_result"
    }
   ],
   "source": [
    "1 in mixed_list"
   ]
  },
  {
   "cell_type": "code",
   "execution_count": 33,
   "id": "9be5c27a",
   "metadata": {},
   "outputs": [
    {
     "data": {
      "text/plain": [
       "False"
      ]
     },
     "execution_count": 33,
     "metadata": {},
     "output_type": "execute_result"
    }
   ],
   "source": [
    "12 in mixed_list"
   ]
  },
  {
   "cell_type": "code",
   "execution_count": 34,
   "id": "b0fdea4f",
   "metadata": {},
   "outputs": [
    {
     "data": {
      "text/plain": [
       "True"
      ]
     },
     "execution_count": 34,
     "metadata": {},
     "output_type": "execute_result"
    }
   ],
   "source": [
    "22 not in mixed_list"
   ]
  },
  {
   "cell_type": "code",
   "execution_count": 35,
   "id": "7f0208ec",
   "metadata": {},
   "outputs": [
    {
     "name": "stdout",
     "output_type": "stream",
     "text": [
      "1\n",
      "2\n",
      "3.5\n",
      "[6, 5, 4]\n",
      "('a', 'b', 'c')\n",
      "Saurabh\n"
     ]
    }
   ],
   "source": [
    "# list can be itterate with the help of loops.\n",
    "for i in mixed_list:\n",
    "    print(i)"
   ]
  },
  {
   "cell_type": "code",
   "execution_count": 36,
   "id": "dd13ceba",
   "metadata": {},
   "outputs": [
    {
     "name": "stdout",
     "output_type": "stream",
     "text": [
      "( 0 ) element-------  1\n",
      "( 1 ) element-------  2\n",
      "( 2 ) element-------  3.5\n",
      "( 3 ) element-------  [6, 5, 4]\n",
      "( 4 ) element-------  ('a', 'b', 'c')\n",
      "( 5 ) element-------  Saurabh\n"
     ]
    }
   ],
   "source": [
    "for i in range(len(mixed_list)):\n",
    "    print(\"(\",i,\")\",\"element------- \",mixed_list[i])\n",
    "    "
   ]
  },
  {
   "cell_type": "code",
   "execution_count": 37,
   "id": "f9368122",
   "metadata": {},
   "outputs": [
    {
     "data": {
      "text/plain": [
       "[1, 2, 3, 4, 5]"
      ]
     },
     "execution_count": 37,
     "metadata": {},
     "output_type": "execute_result"
    }
   ],
   "source": [
    "my_number_list"
   ]
  },
  {
   "cell_type": "code",
   "execution_count": 38,
   "id": "421286fa",
   "metadata": {},
   "outputs": [
    {
     "data": {
      "text/plain": [
       "15"
      ]
     },
     "execution_count": 38,
     "metadata": {},
     "output_type": "execute_result"
    }
   ],
   "source": [
    "# addition of list values can be done with the help of sum function\n",
    "sum(my_number_list)"
   ]
  },
  {
   "cell_type": "code",
   "execution_count": 39,
   "id": "29f25727",
   "metadata": {},
   "outputs": [
    {
     "name": "stdout",
     "output_type": "stream",
     "text": [
      "list1 =  [1, 2, 3, 4]\n",
      "\n",
      "list1 =  [1, 2, 3, 4]\n",
      "list2 =  [1, 2, 3, 4]\n",
      "\n",
      "list1 =  ['a', 2, 3, 4]\n",
      "list2 =  ['a', 2, 3, 4]\n",
      "\n",
      "list1 =  ['a', 2, 3, '****']\n",
      "list2 =  ['a', 2, 3, '****']\n"
     ]
    }
   ],
   "source": [
    "list1=[1,2,3,4]\n",
    "print(\"list1 = \",list1)\n",
    "print()\n",
    "\n",
    "list2=list1\n",
    "print(\"list1 = \",list1)\n",
    "print(\"list2 = \",list2)\n",
    "\n",
    "print()\n",
    "\n",
    "# as we change the first position of list1 ,the list2 also gets changed as the we defined list2=list1 so.\n",
    "list1[0]='a'\n",
    "print(\"list1 = \",list1)\n",
    "print(\"list2 = \",list2)\n",
    "print()\n",
    "\n",
    "# If we change in list2 ,list1 aslo gets change.\n",
    "list2[3]=\"****\"\n",
    "print(\"list1 = \",list1)\n",
    "print(\"list2 = \",list2)\n"
   ]
  },
  {
   "cell_type": "code",
   "execution_count": 42,
   "id": "5430e4b5",
   "metadata": {},
   "outputs": [
    {
     "name": "stdout",
     "output_type": "stream",
     "text": [
      "Enter the values 1\n",
      "Enter the values 2\n",
      "Enter the values 3\n",
      "Enter the values 4\n",
      "Enter the values 5\n",
      "[1, 2, 3, 4, 5]\n"
     ]
    }
   ],
   "source": [
    "#appending or adding the value in list\n",
    "t=5\n",
    "number_list=[]\n",
    "for i in range(t):\n",
    "    number=int(input(\"Enter the values \"))\n",
    "    number_list.append(number)\n",
    "print(number_list)"
   ]
  },
  {
   "cell_type": "code",
   "execution_count": 47,
   "id": "87f18cb0",
   "metadata": {},
   "outputs": [
    {
     "name": "stdout",
     "output_type": "stream",
     "text": [
      "[1, 2, 3, 4, 5]\n",
      "<class 'list'>\n"
     ]
    }
   ],
   "source": [
    "my_list=[1,2,3,4,5]\n",
    "print(my_list)\n",
    "print(type(my_list))"
   ]
  },
  {
   "cell_type": "code",
   "execution_count": 48,
   "id": "5ec9cc14",
   "metadata": {},
   "outputs": [],
   "source": [
    "# append() is a function used in list to add a element in the list.\n",
    "my_list.append(6)\n"
   ]
  },
  {
   "cell_type": "code",
   "execution_count": 49,
   "id": "515c5e7c",
   "metadata": {},
   "outputs": [
    {
     "data": {
      "text/plain": [
       "[1, 2, 3, 4, 5, 6]"
      ]
     },
     "execution_count": 49,
     "metadata": {},
     "output_type": "execute_result"
    }
   ],
   "source": [
    "my_list"
   ]
  },
  {
   "cell_type": "code",
   "execution_count": 57,
   "id": "bf862d1e",
   "metadata": {},
   "outputs": [
    {
     "data": {
      "text/plain": [
       "[1, 2, 3, 4, 5, 6, ['a', 'b', 'c']]"
      ]
     },
     "execution_count": 57,
     "metadata": {},
     "output_type": "execute_result"
    }
   ],
   "source": [
    "my_list.append(['a','b','c'])\n",
    "my_list"
   ]
  },
  {
   "cell_type": "code",
   "execution_count": 68,
   "id": "ca23a9e8",
   "metadata": {},
   "outputs": [],
   "source": [
    "my_list.append(\"Saurabh\")"
   ]
  },
  {
   "cell_type": "code",
   "execution_count": 60,
   "id": "8e2df877",
   "metadata": {},
   "outputs": [],
   "source": [
    "# extend() is a function used to extend the list\n",
    "my_list.extend([7])"
   ]
  },
  {
   "cell_type": "code",
   "execution_count": 69,
   "id": "559fbbb9",
   "metadata": {},
   "outputs": [
    {
     "data": {
      "text/plain": [
       "[1, 2, 3, 4, 5, 6, ['a', 'b', 'c'], 7, '@', '#', '$', 'Saurabh']"
      ]
     },
     "execution_count": 69,
     "metadata": {},
     "output_type": "execute_result"
    }
   ],
   "source": [
    "my_list"
   ]
  },
  {
   "cell_type": "code",
   "execution_count": 63,
   "id": "5782ce83",
   "metadata": {},
   "outputs": [
    {
     "data": {
      "text/plain": [
       "[1, 2, 3, 4, 5, 6, ['a', 'b', 'c'], 7, '@', '#', '$', '@', '#', '$']"
      ]
     },
     "execution_count": 63,
     "metadata": {},
     "output_type": "execute_result"
    }
   ],
   "source": [
    "my_list.extend(['@','#',\"$\"])\n",
    "my_list"
   ]
  },
  {
   "cell_type": "code",
   "execution_count": 67,
   "id": "e32c96d7",
   "metadata": {},
   "outputs": [
    {
     "data": {
      "text/plain": [
       "[1, 2, 3, 4, 5, 6, ['a', 'b', 'c'], 7, '@', '#', '$']"
      ]
     },
     "execution_count": 67,
     "metadata": {},
     "output_type": "execute_result"
    }
   ],
   "source": [
    "my_list"
   ]
  },
  {
   "cell_type": "code",
   "execution_count": 70,
   "id": "39bfa6c4",
   "metadata": {},
   "outputs": [],
   "source": [
    "my_list.extend(\"moon\")"
   ]
  },
  {
   "cell_type": "markdown",
   "id": "972d6708",
   "metadata": {},
   "source": [
    "NOTE :- The main difference between \"append\" and \"extend\" function is that \n",
    "        (a) The append is used to add the element in the list ,that can be like list inside list, tuple inside list ,string             inside the list, whereas \n",
    "        \n",
    "        (b) In extend is it used just to extend or add the element in list in normal manner."
   ]
  },
  {
   "cell_type": "code",
   "execution_count": 72,
   "id": "a2057550",
   "metadata": {},
   "outputs": [
    {
     "name": "stdout",
     "output_type": "stream",
     "text": [
      "[1, 2, 3, 4, 5, 6, ['a', 'b', 'c'], 7, '@', '#', '$', 'Saurabh', 'm', 'o', 'o', 'n']\n"
     ]
    }
   ],
   "source": [
    "print(my_list)"
   ]
  },
  {
   "cell_type": "code",
   "execution_count": 78,
   "id": "f413b35c",
   "metadata": {},
   "outputs": [],
   "source": [
    "my_list.extend([\"moon\"])"
   ]
  },
  {
   "cell_type": "code",
   "execution_count": 79,
   "id": "e9943368",
   "metadata": {},
   "outputs": [
    {
     "data": {
      "text/plain": [
       "[1, 2, 3, 4, 5, 6, ['a', 'b', 'c'], 7, '@', '#', '$', 'Saurabh', 'moon']"
      ]
     },
     "execution_count": 79,
     "metadata": {},
     "output_type": "execute_result"
    }
   ],
   "source": [
    "my_list"
   ]
  },
  {
   "cell_type": "code",
   "execution_count": 80,
   "id": "ca27c180",
   "metadata": {},
   "outputs": [],
   "source": [
    "my_list.extend(\"Data Analyst\")"
   ]
  },
  {
   "cell_type": "code",
   "execution_count": 81,
   "id": "be667c10",
   "metadata": {},
   "outputs": [
    {
     "data": {
      "text/plain": [
       "[1,\n",
       " 2,\n",
       " 3,\n",
       " 4,\n",
       " 5,\n",
       " 6,\n",
       " ['a', 'b', 'c'],\n",
       " 7,\n",
       " '@',\n",
       " '#',\n",
       " '$',\n",
       " 'Saurabh',\n",
       " 'moon',\n",
       " 'D',\n",
       " 'a',\n",
       " 't',\n",
       " 'a',\n",
       " ' ',\n",
       " 'A',\n",
       " 'n',\n",
       " 'a',\n",
       " 'l',\n",
       " 'y',\n",
       " 's',\n",
       " 't']"
      ]
     },
     "execution_count": 81,
     "metadata": {},
     "output_type": "execute_result"
    }
   ],
   "source": [
    "my_list"
   ]
  },
  {
   "cell_type": "code",
   "execution_count": 82,
   "id": "9dfea546",
   "metadata": {},
   "outputs": [],
   "source": [
    "# insert() is a function used to add the element in between the list with the help of the index number and the element to add.\n",
    "my_list.insert(2,20)"
   ]
  },
  {
   "cell_type": "code",
   "execution_count": 83,
   "id": "26118a99",
   "metadata": {},
   "outputs": [
    {
     "data": {
      "text/plain": [
       "[1,\n",
       " 2,\n",
       " 20,\n",
       " 3,\n",
       " 4,\n",
       " 5,\n",
       " 6,\n",
       " ['a', 'b', 'c'],\n",
       " 7,\n",
       " '@',\n",
       " '#',\n",
       " '$',\n",
       " 'Saurabh',\n",
       " 'moon',\n",
       " 'D',\n",
       " 'a',\n",
       " 't',\n",
       " 'a',\n",
       " ' ',\n",
       " 'A',\n",
       " 'n',\n",
       " 'a',\n",
       " 'l',\n",
       " 'y',\n",
       " 's',\n",
       " 't']"
      ]
     },
     "execution_count": 83,
     "metadata": {},
     "output_type": "execute_result"
    }
   ],
   "source": [
    "my_list"
   ]
  },
  {
   "cell_type": "code",
   "execution_count": 84,
   "id": "15008c99",
   "metadata": {},
   "outputs": [
    {
     "data": {
      "text/plain": [
       "26"
      ]
     },
     "execution_count": 84,
     "metadata": {},
     "output_type": "execute_result"
    }
   ],
   "source": [
    "len(my_list)"
   ]
  },
  {
   "cell_type": "code",
   "execution_count": 87,
   "id": "021869fc",
   "metadata": {},
   "outputs": [
    {
     "data": {
      "text/plain": [
       "'Saurabh'"
      ]
     },
     "execution_count": 87,
     "metadata": {},
     "output_type": "execute_result"
    }
   ],
   "source": [
    "my_list[12]"
   ]
  },
  {
   "cell_type": "code",
   "execution_count": 88,
   "id": "e9718bc5",
   "metadata": {},
   "outputs": [
    {
     "data": {
      "text/plain": [
       "'t'"
      ]
     },
     "execution_count": 88,
     "metadata": {},
     "output_type": "execute_result"
    }
   ],
   "source": [
    "# pop() is a function used to remove the element from a list.\n",
    "# empty pop() function removes the last element from a list.\n",
    "my_list.pop()"
   ]
  },
  {
   "cell_type": "code",
   "execution_count": 89,
   "id": "9de419b6",
   "metadata": {},
   "outputs": [
    {
     "data": {
      "text/plain": [
       "20"
      ]
     },
     "execution_count": 89,
     "metadata": {},
     "output_type": "execute_result"
    }
   ],
   "source": [
    "# we can remove the middle element also with the help of its index number.\n",
    "my_list.pop(2)"
   ]
  },
  {
   "cell_type": "code",
   "execution_count": 90,
   "id": "3ababd9d",
   "metadata": {},
   "outputs": [
    {
     "data": {
      "text/plain": [
       "[1,\n",
       " 2,\n",
       " 3,\n",
       " 4,\n",
       " 5,\n",
       " 6,\n",
       " ['a', 'b', 'c'],\n",
       " 7,\n",
       " '@',\n",
       " '#',\n",
       " '$',\n",
       " 'Saurabh',\n",
       " 'moon',\n",
       " 'D',\n",
       " 'a',\n",
       " 't',\n",
       " 'a',\n",
       " ' ',\n",
       " 'A',\n",
       " 'n',\n",
       " 'a',\n",
       " 'l',\n",
       " 'y',\n",
       " 's']"
      ]
     },
     "execution_count": 90,
     "metadata": {},
     "output_type": "execute_result"
    }
   ],
   "source": [
    "my_list"
   ]
  },
  {
   "cell_type": "code",
   "execution_count": 93,
   "id": "1cc5432b",
   "metadata": {},
   "outputs": [],
   "source": [
    "#copy() function is used to copy the entire list.\n",
    "lis=my_list.copy()"
   ]
  },
  {
   "cell_type": "code",
   "execution_count": 94,
   "id": "b11dc5f5",
   "metadata": {},
   "outputs": [
    {
     "data": {
      "text/plain": [
       "[1,\n",
       " 2,\n",
       " 3,\n",
       " 4,\n",
       " 5,\n",
       " 6,\n",
       " ['a', 'b', 'c'],\n",
       " 7,\n",
       " '@',\n",
       " '#',\n",
       " '$',\n",
       " 'Saurabh',\n",
       " 'moon',\n",
       " 'D',\n",
       " 'a',\n",
       " 't',\n",
       " 'a',\n",
       " ' ',\n",
       " 'A',\n",
       " 'n',\n",
       " 'a',\n",
       " 'l',\n",
       " 'y',\n",
       " 's']"
      ]
     },
     "execution_count": 94,
     "metadata": {},
     "output_type": "execute_result"
    }
   ],
   "source": [
    "lis"
   ]
  },
  {
   "cell_type": "code",
   "execution_count": 95,
   "id": "668d0772",
   "metadata": {},
   "outputs": [],
   "source": [
    "# remove () function is used to remove the first occurence of the value from a given list.\n",
    "lis.remove(6)"
   ]
  },
  {
   "cell_type": "code",
   "execution_count": 96,
   "id": "7b86ebc3",
   "metadata": {},
   "outputs": [
    {
     "data": {
      "text/plain": [
       "[1,\n",
       " 2,\n",
       " 3,\n",
       " 4,\n",
       " 5,\n",
       " ['a', 'b', 'c'],\n",
       " 7,\n",
       " '@',\n",
       " '#',\n",
       " '$',\n",
       " 'Saurabh',\n",
       " 'moon',\n",
       " 'D',\n",
       " 'a',\n",
       " 't',\n",
       " 'a',\n",
       " ' ',\n",
       " 'A',\n",
       " 'n',\n",
       " 'a',\n",
       " 'l',\n",
       " 'y',\n",
       " 's']"
      ]
     },
     "execution_count": 96,
     "metadata": {},
     "output_type": "execute_result"
    }
   ],
   "source": [
    "lis"
   ]
  },
  {
   "cell_type": "code",
   "execution_count": 98,
   "id": "63b100b8",
   "metadata": {},
   "outputs": [
    {
     "data": {
      "text/plain": [
       "3"
      ]
     },
     "execution_count": 98,
     "metadata": {},
     "output_type": "execute_result"
    }
   ],
   "source": [
    "my_list.count('a')"
   ]
  },
  {
   "cell_type": "code",
   "execution_count": 100,
   "id": "f1fcb120",
   "metadata": {},
   "outputs": [
    {
     "data": {
      "text/plain": [
       "[1,\n",
       " 2,\n",
       " 3,\n",
       " 4,\n",
       " 5,\n",
       " ['a', 'b', 'c'],\n",
       " 7,\n",
       " '@',\n",
       " '#',\n",
       " '$',\n",
       " 'Saurabh',\n",
       " 'moon',\n",
       " 'D',\n",
       " 'a',\n",
       " 't',\n",
       " 'a',\n",
       " ' ',\n",
       " 'A',\n",
       " 'n',\n",
       " 'a',\n",
       " 'l',\n",
       " 'y',\n",
       " 's']"
      ]
     },
     "execution_count": 100,
     "metadata": {},
     "output_type": "execute_result"
    }
   ],
   "source": [
    "lis"
   ]
  },
  {
   "cell_type": "code",
   "execution_count": 101,
   "id": "1e0352db",
   "metadata": {},
   "outputs": [
    {
     "data": {
      "text/plain": [
       "1"
      ]
     },
     "execution_count": 101,
     "metadata": {},
     "output_type": "execute_result"
    }
   ],
   "source": [
    "lis.count(\"A\")"
   ]
  },
  {
   "cell_type": "code",
   "execution_count": 106,
   "id": "1cde5d80",
   "metadata": {},
   "outputs": [
    {
     "data": {
      "text/plain": [
       "1"
      ]
     },
     "execution_count": 106,
     "metadata": {},
     "output_type": "execute_result"
    }
   ],
   "source": [
    "lis.count('$')"
   ]
  },
  {
   "cell_type": "code",
   "execution_count": 109,
   "id": "ce90cb8d",
   "metadata": {},
   "outputs": [
    {
     "data": {
      "text/plain": [
       "3"
      ]
     },
     "execution_count": 109,
     "metadata": {},
     "output_type": "execute_result"
    }
   ],
   "source": [
    "my_list.count(\"a\")"
   ]
  },
  {
   "cell_type": "code",
   "execution_count": 113,
   "id": "00a286a0",
   "metadata": {},
   "outputs": [],
   "source": [
    "a=[1, 2, 4, 5, 7, [2, 3, 4], [2, 3, 4], 6, 3,3,3,3]"
   ]
  },
  {
   "cell_type": "code",
   "execution_count": 114,
   "id": "37dab782",
   "metadata": {},
   "outputs": [
    {
     "data": {
      "text/plain": [
       "4"
      ]
     },
     "execution_count": 114,
     "metadata": {},
     "output_type": "execute_result"
    }
   ],
   "source": [
    "a.count(3)"
   ]
  },
  {
   "cell_type": "code",
   "execution_count": 115,
   "id": "336bf953",
   "metadata": {},
   "outputs": [],
   "source": [
    "my_list.reverse()"
   ]
  },
  {
   "cell_type": "code",
   "execution_count": 116,
   "id": "b84089a9",
   "metadata": {},
   "outputs": [
    {
     "data": {
      "text/plain": [
       "['s',\n",
       " 'y',\n",
       " 'l',\n",
       " 'a',\n",
       " 'n',\n",
       " 'A',\n",
       " ' ',\n",
       " 'a',\n",
       " 't',\n",
       " 'a',\n",
       " 'D',\n",
       " 'moon',\n",
       " 'Saurabh',\n",
       " '$',\n",
       " '#',\n",
       " '@',\n",
       " 7,\n",
       " ['a', 'b', 'c'],\n",
       " 6,\n",
       " 5,\n",
       " 4,\n",
       " 3,\n",
       " 2,\n",
       " 1]"
      ]
     },
     "execution_count": 116,
     "metadata": {},
     "output_type": "execute_result"
    }
   ],
   "source": [
    "my_list"
   ]
  },
  {
   "cell_type": "code",
   "execution_count": 117,
   "id": "af98e894",
   "metadata": {},
   "outputs": [
    {
     "ename": "TypeError",
     "evalue": "'<' not supported between instances of 'int' and 'str'",
     "output_type": "error",
     "traceback": [
      "\u001b[1;31m---------------------------------------------------------------------------\u001b[0m",
      "\u001b[1;31mTypeError\u001b[0m                                 Traceback (most recent call last)",
      "Cell \u001b[1;32mIn[117], line 1\u001b[0m\n\u001b[1;32m----> 1\u001b[0m \u001b[43mmy_list\u001b[49m\u001b[38;5;241;43m.\u001b[39;49m\u001b[43msort\u001b[49m\u001b[43m(\u001b[49m\u001b[43m)\u001b[49m\n",
      "\u001b[1;31mTypeError\u001b[0m: '<' not supported between instances of 'int' and 'str'"
     ]
    }
   ],
   "source": [
    "# This shows error becaz in the list there are list, string,and integer values which is not allowed in the sort.\n",
    "my_list.sort()"
   ]
  },
  {
   "cell_type": "code",
   "execution_count": 118,
   "id": "a45dad12",
   "metadata": {},
   "outputs": [],
   "source": [
    "# to sort the list we must have the same tyoe of data in it.\n",
    "s=[23,1,5,2,50,76]\n",
    "s.sort()"
   ]
  },
  {
   "cell_type": "code",
   "execution_count": 119,
   "id": "278448f0",
   "metadata": {},
   "outputs": [
    {
     "name": "stdout",
     "output_type": "stream",
     "text": [
      "[1, 2, 5, 23, 50, 76]\n"
     ]
    }
   ],
   "source": [
    "print(s)"
   ]
  },
  {
   "cell_type": "markdown",
   "id": "d6ec4fc4",
   "metadata": {},
   "source": [
    "NOTE :- sort() is a function used to arrange the data in the ascending order."
   ]
  },
  {
   "cell_type": "code",
   "execution_count": 120,
   "id": "cb03e042",
   "metadata": {},
   "outputs": [
    {
     "data": {
      "text/plain": [
       "[' ',\n",
       " '#',\n",
       " '$',\n",
       " '@',\n",
       " 'A',\n",
       " 'D',\n",
       " 'Saurabh',\n",
       " 'a',\n",
       " 'a',\n",
       " 'a',\n",
       " 'l',\n",
       " 'moon',\n",
       " 'n',\n",
       " 's',\n",
       " 't',\n",
       " 'y',\n",
       " 7,\n",
       " ['a', 'b', 'c'],\n",
       " 6,\n",
       " 5,\n",
       " 4,\n",
       " 3,\n",
       " 2,\n",
       " 1]"
      ]
     },
     "execution_count": 120,
     "metadata": {},
     "output_type": "execute_result"
    }
   ],
   "source": [
    "my_list"
   ]
  },
  {
   "cell_type": "code",
   "execution_count": 121,
   "id": "9b4aa263",
   "metadata": {},
   "outputs": [
    {
     "data": {
      "text/plain": [
       "[1,\n",
       " 2,\n",
       " 3,\n",
       " 4,\n",
       " 5,\n",
       " ['a', 'b', 'c'],\n",
       " 7,\n",
       " '@',\n",
       " '#',\n",
       " '$',\n",
       " 'Saurabh',\n",
       " 'moon',\n",
       " 'D',\n",
       " 'a',\n",
       " 't',\n",
       " 'a',\n",
       " ' ',\n",
       " 'A',\n",
       " 'n',\n",
       " 'a',\n",
       " 'l',\n",
       " 'y',\n",
       " 's']"
      ]
     },
     "execution_count": 121,
     "metadata": {},
     "output_type": "execute_result"
    }
   ],
   "source": [
    "lis"
   ]
  },
  {
   "cell_type": "code",
   "execution_count": 128,
   "id": "f46e59ed",
   "metadata": {},
   "outputs": [
    {
     "data": {
      "text/plain": [
       "'a'"
      ]
     },
     "execution_count": 128,
     "metadata": {},
     "output_type": "execute_result"
    }
   ],
   "source": [
    "# To get the inner list value we can do this with the help of indexing.\n",
    "lis[10][1]"
   ]
  },
  {
   "cell_type": "code",
   "execution_count": null,
   "id": "09e64d14",
   "metadata": {},
   "outputs": [],
   "source": []
  }
 ],
 "metadata": {
  "kernelspec": {
   "display_name": "Python 3 (ipykernel)",
   "language": "python",
   "name": "python3"
  },
  "language_info": {
   "codemirror_mode": {
    "name": "ipython",
    "version": 3
   },
   "file_extension": ".py",
   "mimetype": "text/x-python",
   "name": "python",
   "nbconvert_exporter": "python",
   "pygments_lexer": "ipython3",
   "version": "3.10.9"
  }
 },
 "nbformat": 4,
 "nbformat_minor": 5
}
