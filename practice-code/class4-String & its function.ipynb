{
 "cells": [
  {
   "cell_type": "markdown",
   "id": "a72b9062",
   "metadata": {},
   "source": [
    "# String\n",
    "\n",
    "A string a datatype and which is immuteable or unchangable in nature.\n",
    "string can be anything under the '' and \"\".\n",
    "\n",
    "\n",
    "gives -1 as a result when we use find() function ,when the element not present in the variable of string \n",
    "else if present then gives its index value.\n",
    "\n",
    "\n"
   ]
  },
  {
   "cell_type": "code",
   "execution_count": 2,
   "id": "72399489",
   "metadata": {},
   "outputs": [
    {
     "data": {
      "text/plain": [
       "' this is String '"
      ]
     },
     "execution_count": 2,
     "metadata": {},
     "output_type": "execute_result"
    }
   ],
   "source": [
    "\" this is String \" # Creatinig string."
   ]
  },
  {
   "cell_type": "code",
   "execution_count": 3,
   "id": "6036f8a1",
   "metadata": {},
   "outputs": [
    {
     "data": {
      "text/plain": [
       "'String in a single cots'"
      ]
     },
     "execution_count": 3,
     "metadata": {},
     "output_type": "execute_result"
    }
   ],
   "source": [
    "my_str='String in a single cots'\n",
    "my_str"
   ]
  },
  {
   "cell_type": "code",
   "execution_count": 4,
   "id": "cc675126",
   "metadata": {},
   "outputs": [
    {
     "name": "stdout",
     "output_type": "stream",
     "text": [
      "string with double cots along with its variable.\n"
     ]
    }
   ],
   "source": [
    "my_str2=\"string with double cots along with its variable.\"\n",
    "print(my_str2)"
   ]
  },
  {
   "cell_type": "code",
   "execution_count": 5,
   "id": "f479cfab",
   "metadata": {},
   "outputs": [
    {
     "name": "stdout",
     "output_type": "stream",
     "text": [
      "String with a triple cots\n",
      "used for multiple lined string \n"
     ]
    }
   ],
   "source": [
    "my_str3=\"\"\"String with a triple cots\n",
    "used for multiple lined string \"\"\"\n",
    "print(my_str3)"
   ]
  },
  {
   "cell_type": "code",
   "execution_count": 6,
   "id": "938a2b5e",
   "metadata": {},
   "outputs": [
    {
     "data": {
      "text/plain": [
       "str"
      ]
     },
     "execution_count": 6,
     "metadata": {},
     "output_type": "execute_result"
    }
   ],
   "source": [
    "type(my_str)"
   ]
  },
  {
   "cell_type": "code",
   "execution_count": 7,
   "id": "dbe80031",
   "metadata": {},
   "outputs": [
    {
     "data": {
      "text/plain": [
       "'1 a 4 sau 10.9'"
      ]
     },
     "execution_count": 7,
     "metadata": {},
     "output_type": "execute_result"
    }
   ],
   "source": [
    "strings_with_spaces='1 a 4 sau 10.9' # strings can have spaces in it\n",
    "strings_with_spaces"
   ]
  },
  {
   "cell_type": "code",
   "execution_count": 8,
   "id": "ab849c05",
   "metadata": {},
   "outputs": [
    {
     "data": {
      "text/plain": [
       "14"
      ]
     },
     "execution_count": 8,
     "metadata": {},
     "output_type": "execute_result"
    }
   ],
   "source": [
    "# len is built_in function used to check the lenght of a string.\n",
    "len('this is string')"
   ]
  },
  {
   "cell_type": "code",
   "execution_count": 9,
   "id": "0b405334",
   "metadata": {},
   "outputs": [],
   "source": [
    "empty_string=\"\""
   ]
  },
  {
   "cell_type": "code",
   "execution_count": 10,
   "id": "024c447e",
   "metadata": {},
   "outputs": [
    {
     "data": {
      "text/plain": [
       "0"
      ]
     },
     "execution_count": 10,
     "metadata": {},
     "output_type": "execute_result"
    }
   ],
   "source": [
    "len(empty_string)"
   ]
  },
  {
   "cell_type": "code",
   "execution_count": 11,
   "id": "f27d3fbf",
   "metadata": {},
   "outputs": [
    {
     "data": {
      "text/plain": [
       "1"
      ]
     },
     "execution_count": 11,
     "metadata": {},
     "output_type": "execute_result"
    }
   ],
   "source": [
    "empty_string_space=\" \"\n",
    "len(empty_string_space)"
   ]
  },
  {
   "cell_type": "code",
   "execution_count": 12,
   "id": "457c98e9",
   "metadata": {},
   "outputs": [
    {
     "data": {
      "text/plain": [
       "23"
      ]
     },
     "execution_count": 12,
     "metadata": {},
     "output_type": "execute_result"
    }
   ],
   "source": [
    "len(my_str)"
   ]
  },
  {
   "cell_type": "code",
   "execution_count": 13,
   "id": "103cafcb",
   "metadata": {},
   "outputs": [
    {
     "data": {
      "text/plain": [
       "'String in a single cots are very useful.'"
      ]
     },
     "execution_count": 13,
     "metadata": {},
     "output_type": "execute_result"
    }
   ],
   "source": [
    "# string adding or concatenating.\n",
    "my_str + \" are very useful.\""
   ]
  },
  {
   "cell_type": "code",
   "execution_count": 14,
   "id": "8063ea0b",
   "metadata": {},
   "outputs": [
    {
     "data": {
      "text/plain": [
       "'String in a single cots are  very useful.'"
      ]
     },
     "execution_count": 14,
     "metadata": {},
     "output_type": "execute_result"
    }
   ],
   "source": [
    "my_str+\" \"+\"are  very useful.\""
   ]
  },
  {
   "cell_type": "code",
   "execution_count": 15,
   "id": "2300abe3",
   "metadata": {},
   "outputs": [
    {
     "name": "stdout",
     "output_type": "stream",
     "text": [
      "String in a single cots String in a single cots String in a single cots ."
     ]
    }
   ],
   "source": [
    "# string repetation.\n",
    "print((my_str+\" \")*3,end=\".\")"
   ]
  },
  {
   "cell_type": "code",
   "execution_count": 16,
   "id": "6a024fdc",
   "metadata": {},
   "outputs": [
    {
     "data": {
      "text/plain": [
       "'********************'"
      ]
     },
     "execution_count": 16,
     "metadata": {},
     "output_type": "execute_result"
    }
   ],
   "source": [
    "'*'*20"
   ]
  },
  {
   "cell_type": "code",
   "execution_count": 17,
   "id": "edb88af1",
   "metadata": {},
   "outputs": [
    {
     "data": {
      "text/plain": [
       "' *  *  *  *  *  *  *  *  *  *  *  *  *  *  *  *  *  *  *  * '"
      ]
     },
     "execution_count": 17,
     "metadata": {},
     "output_type": "execute_result"
    }
   ],
   "source": [
    "' * '*20"
   ]
  },
  {
   "cell_type": "markdown",
   "id": "86eafc06",
   "metadata": {},
   "source": [
    "# string indexing"
   ]
  },
  {
   "cell_type": "markdown",
   "id": "3e90d222",
   "metadata": {},
   "source": [
    "This is a concept of string used to find the position of a character in a string  or manupulate the string through its position "
   ]
  },
  {
   "cell_type": "code",
   "execution_count": 18,
   "id": "91091732",
   "metadata": {},
   "outputs": [],
   "source": [
    "my_string=\"this is string\"\n"
   ]
  },
  {
   "cell_type": "code",
   "execution_count": 19,
   "id": "afd43c14",
   "metadata": {},
   "outputs": [
    {
     "data": {
      "text/plain": [
       "'t'"
      ]
     },
     "execution_count": 19,
     "metadata": {},
     "output_type": "execute_result"
    }
   ],
   "source": [
    "my_string[0]"
   ]
  },
  {
   "cell_type": "code",
   "execution_count": 20,
   "id": "c6754643",
   "metadata": {},
   "outputs": [
    {
     "data": {
      "text/plain": [
       "'s'"
      ]
     },
     "execution_count": 20,
     "metadata": {},
     "output_type": "execute_result"
    }
   ],
   "source": [
    "my_string[6]"
   ]
  },
  {
   "cell_type": "code",
   "execution_count": 21,
   "id": "28d14d6f",
   "metadata": {},
   "outputs": [
    {
     "ename": "IndexError",
     "evalue": "string index out of range",
     "output_type": "error",
     "traceback": [
      "\u001b[1;31m---------------------------------------------------------------------------\u001b[0m",
      "\u001b[1;31mIndexError\u001b[0m                                Traceback (most recent call last)",
      "Cell \u001b[1;32mIn[21], line 3\u001b[0m\n\u001b[0;32m      1\u001b[0m \u001b[38;5;66;03m# This will show error as index has to be one less than length of string.\u001b[39;00m\n\u001b[0;32m      2\u001b[0m lenght\u001b[38;5;241m=\u001b[39m\u001b[38;5;28mlen\u001b[39m(my_string)\n\u001b[1;32m----> 3\u001b[0m \u001b[43mmy_string\u001b[49m\u001b[43m[\u001b[49m\u001b[43mlenght\u001b[49m\u001b[43m]\u001b[49m\n",
      "\u001b[1;31mIndexError\u001b[0m: string index out of range"
     ]
    }
   ],
   "source": [
    "# This will show error as index has to be one less than length of string.\n",
    "lenght=len(my_string)\n",
    "my_string[lenght]\n"
   ]
  },
  {
   "cell_type": "code",
   "execution_count": 22,
   "id": "5e96e409",
   "metadata": {},
   "outputs": [
    {
     "data": {
      "text/plain": [
       "'g'"
      ]
     },
     "execution_count": 22,
     "metadata": {},
     "output_type": "execute_result"
    }
   ],
   "source": [
    "my_string[lenght-1]"
   ]
  },
  {
   "cell_type": "code",
   "execution_count": 39,
   "id": "870b6a8a",
   "metadata": {},
   "outputs": [
    {
     "data": {
      "text/plain": [
       "'g'"
      ]
     },
     "execution_count": 39,
     "metadata": {},
     "output_type": "execute_result"
    }
   ],
   "source": [
    "# This will print the reversed first character of string or last character os a string.\n",
    "my_string[-1]"
   ]
  },
  {
   "cell_type": "code",
   "execution_count": 24,
   "id": "392517f3",
   "metadata": {},
   "outputs": [
    {
     "data": {
      "text/plain": [
       "'t'"
      ]
     },
     "execution_count": 24,
     "metadata": {},
     "output_type": "execute_result"
    }
   ],
   "source": [
    "my_string[-14]"
   ]
  },
  {
   "cell_type": "markdown",
   "id": "3e61d12c",
   "metadata": {},
   "source": [
    "# String Slicing \n"
   ]
  },
  {
   "cell_type": "markdown",
   "id": "9a5e5b9e",
   "metadata": {},
   "source": [
    "It is used to break the string into small parts with the help of its index numbers  or breaking the string in n numbers."
   ]
  },
  {
   "cell_type": "code",
   "execution_count": 25,
   "id": "d38a3cf5",
   "metadata": {},
   "outputs": [
    {
     "data": {
      "text/plain": [
       "'his is string'"
      ]
     },
     "execution_count": 25,
     "metadata": {},
     "output_type": "execute_result"
    }
   ],
   "source": [
    "# ths string starts from 'h'becaz the the starting index has assign to 1 till last\n",
    "my_string[1:]"
   ]
  },
  {
   "cell_type": "code",
   "execution_count": 26,
   "id": "9de84866",
   "metadata": {},
   "outputs": [
    {
     "data": {
      "text/plain": [
       "'this is'"
      ]
     },
     "execution_count": 26,
     "metadata": {},
     "output_type": "execute_result"
    }
   ],
   "source": [
    "# here we have assign the both starting and ending index to print the string from \n",
    "my_string[0:7]"
   ]
  },
  {
   "cell_type": "code",
   "execution_count": 27,
   "id": "a823e86d",
   "metadata": {},
   "outputs": [
    {
     "data": {
      "text/plain": [
       "'ti ss'"
      ]
     },
     "execution_count": 27,
     "metadata": {},
     "output_type": "execute_result"
    }
   ],
   "source": [
    "# now with the starting and ending we have uses another : to step the string or skip the string\n",
    "my_string[0:10:2]"
   ]
  },
  {
   "cell_type": "code",
   "execution_count": 43,
   "id": "793e215f",
   "metadata": {},
   "outputs": [
    {
     "data": {
      "text/plain": [
       "''"
      ]
     },
     "execution_count": 43,
     "metadata": {},
     "output_type": "execute_result"
    }
   ],
   "source": [
    "# this will show empty beacaz as we are moving towards the right and steps we are providing is in left . due to mismatch\n",
    "my_string[0:15:-1]"
   ]
  },
  {
   "cell_type": "code",
   "execution_count": 41,
   "id": "f902788c",
   "metadata": {},
   "outputs": [
    {
     "data": {
      "text/plain": [
       "'git ms '"
      ]
     },
     "execution_count": 41,
     "metadata": {},
     "output_type": "execute_result"
    }
   ],
   "source": [
    "my_string[-1:-15:-2]"
   ]
  },
  {
   "cell_type": "code",
   "execution_count": 49,
   "id": "0b914896",
   "metadata": {},
   "outputs": [
    {
     "data": {
      "text/plain": [
       "'gnirts ym si sih'"
      ]
     },
     "execution_count": 49,
     "metadata": {},
     "output_type": "execute_result"
    }
   ],
   "source": [
    "my_string[16:0:-1]"
   ]
  },
  {
   "cell_type": "code",
   "execution_count": 30,
   "id": "8666603b",
   "metadata": {},
   "outputs": [
    {
     "data": {
      "text/plain": [
       "'this is string'"
      ]
     },
     "execution_count": 30,
     "metadata": {},
     "output_type": "execute_result"
    }
   ],
   "source": [
    "my_string"
   ]
  },
  {
   "cell_type": "code",
   "execution_count": 31,
   "id": "068712ba",
   "metadata": {},
   "outputs": [
    {
     "name": "stdout",
     "output_type": "stream",
     "text": [
      " Python is a advanced language\t uses to create a porgrams.\n"
     ]
    }
   ],
   "source": [
    "print(\" Python is a advanced language\\t uses to create a porgrams.\")"
   ]
  },
  {
   "cell_type": "code",
   "execution_count": 32,
   "id": "930bbf49",
   "metadata": {},
   "outputs": [
    {
     "name": "stdout",
     "output_type": "stream",
     "text": [
      " Python is a advanced language\n",
      " uses to create a porgrams.\n"
     ]
    }
   ],
   "source": [
    "print(\" Python is a advanced language\\n uses to create a porgrams.\")"
   ]
  },
  {
   "cell_type": "code",
   "execution_count": 33,
   "id": "be655ef1",
   "metadata": {},
   "outputs": [],
   "source": [
    "my_string=\"this is string\""
   ]
  },
  {
   "cell_type": "code",
   "execution_count": 34,
   "id": "b806f1b6",
   "metadata": {},
   "outputs": [
    {
     "data": {
      "text/plain": [
       "True"
      ]
     },
     "execution_count": 34,
     "metadata": {},
     "output_type": "execute_result"
    }
   ],
   "source": [
    "# checks whether the character present in string or not.\n",
    "'i'in my_string"
   ]
  },
  {
   "cell_type": "code",
   "execution_count": 35,
   "id": "0a6995af",
   "metadata": {},
   "outputs": [
    {
     "data": {
      "text/plain": [
       "False"
      ]
     },
     "execution_count": 35,
     "metadata": {},
     "output_type": "execute_result"
    }
   ],
   "source": [
    "'V'in my_string"
   ]
  },
  {
   "cell_type": "code",
   "execution_count": 36,
   "id": "3444d86f",
   "metadata": {},
   "outputs": [],
   "source": [
    "my_string='This is my string'"
   ]
  },
  {
   "cell_type": "code",
   "execution_count": 37,
   "id": "041952bb",
   "metadata": {},
   "outputs": [
    {
     "ename": "TypeError",
     "evalue": "'str' object does not support item assignment",
     "output_type": "error",
     "traceback": [
      "\u001b[1;31m---------------------------------------------------------------------------\u001b[0m",
      "\u001b[1;31mTypeError\u001b[0m                                 Traceback (most recent call last)",
      "Cell \u001b[1;32mIn[37], line 3\u001b[0m\n\u001b[0;32m      1\u001b[0m \u001b[38;5;66;03m# Trying to replace the first character of a string with the new ones by using its index number.\u001b[39;00m\n\u001b[0;32m      2\u001b[0m \u001b[38;5;66;03m#so it is not possible to replace it by \u001b[39;00m\n\u001b[1;32m----> 3\u001b[0m my_string[\u001b[38;5;241m0\u001b[39m]\u001b[38;5;241m=\u001b[39m\u001b[38;5;124m\"\u001b[39m\u001b[38;5;124mF\u001b[39m\u001b[38;5;124m\"\u001b[39m\n",
      "\u001b[1;31mTypeError\u001b[0m: 'str' object does not support item assignment"
     ]
    }
   ],
   "source": [
    "# Trying to replace the first character of a string with the new ones by using its index number.\n",
    "#so it is not possible to replace it by \n",
    "my_string[0]=\"F\""
   ]
  },
  {
   "cell_type": "code",
   "execution_count": 50,
   "id": "9c8aaaca",
   "metadata": {},
   "outputs": [
    {
     "data": {
      "text/plain": [
       "'Fhis is my string'"
      ]
     },
     "execution_count": 50,
     "metadata": {},
     "output_type": "execute_result"
    }
   ],
   "source": [
    "# this can be done to add the character in the string .\n",
    "\"F\"+my_string[1:]"
   ]
  },
  {
   "cell_type": "code",
   "execution_count": 56,
   "id": "f9a719db",
   "metadata": {},
   "outputs": [
    {
     "name": "stdout",
     "output_type": "stream",
     "text": [
      "Write the sentence here!!!\n",
      "O My God\n",
      "Lenght of string =  8\n",
      "old string :-  O My God\n",
      "new string after replacing the character \n",
      "S My God\n"
     ]
    }
   ],
   "source": [
    "# proper way to do the replace of string\n",
    "\n",
    "my_str=input(\"Write the sentence here!!!\\n\")\n",
    "print(\"Lenght of string = \",len(my_str))\n",
    "print(\"old string :- \",my_str)\n",
    "new_my_str=\"S\"+my_str[1:]\n",
    "print(\"new string after replacing the character \")\n",
    "print(new_my_str)"
   ]
  },
  {
   "cell_type": "code",
   "execution_count": 57,
   "id": "a0dfa9fd",
   "metadata": {},
   "outputs": [],
   "source": [
    "my_string=\"Python is beautiful\""
   ]
  },
  {
   "cell_type": "code",
   "execution_count": 61,
   "id": "3b42f116",
   "metadata": {},
   "outputs": [
    {
     "name": "stdout",
     "output_type": "stream",
     "text": [
      "P y t h o n   i s   b e a u t i f u l "
     ]
    }
   ],
   "source": [
    "# this shows that string is a loop or can be itterable .\n",
    "for i in my_string:\n",
    "    print(i,end=\" \")"
   ]
  },
  {
   "cell_type": "code",
   "execution_count": 62,
   "id": "bf45d691",
   "metadata": {},
   "outputs": [
    {
     "name": "stdout",
     "output_type": "stream",
     "text": [
      "( 0 ) Characters ---------> P\n",
      "( 1 ) Characters ---------> y\n",
      "( 2 ) Characters ---------> t\n",
      "( 3 ) Characters ---------> h\n",
      "( 4 ) Characters ---------> o\n",
      "( 5 ) Characters ---------> n\n",
      "( 6 ) Characters --------->  \n",
      "( 7 ) Characters ---------> i\n",
      "( 8 ) Characters ---------> s\n",
      "( 9 ) Characters --------->  \n",
      "( 10 ) Characters ---------> b\n",
      "( 11 ) Characters ---------> e\n",
      "( 12 ) Characters ---------> a\n",
      "( 13 ) Characters ---------> u\n",
      "( 14 ) Characters ---------> t\n",
      "( 15 ) Characters ---------> i\n",
      "( 16 ) Characters ---------> f\n",
      "( 17 ) Characters ---------> u\n",
      "( 18 ) Characters ---------> l\n"
     ]
    }
   ],
   "source": [
    "for i in range(len(my_string)):\n",
    "    print(\"(\",i,\") Characters --------->\",my_string[i])"
   ]
  },
  {
   "cell_type": "code",
   "execution_count": 63,
   "id": "41034471",
   "metadata": {},
   "outputs": [
    {
     "data": {
      "text/plain": [
       "19"
      ]
     },
     "execution_count": 63,
     "metadata": {},
     "output_type": "execute_result"
    }
   ],
   "source": [
    "len(my_string)"
   ]
  },
  {
   "cell_type": "code",
   "execution_count": 64,
   "id": "f4ab0028",
   "metadata": {},
   "outputs": [
    {
     "data": {
      "text/plain": [
       "'P'"
      ]
     },
     "execution_count": 64,
     "metadata": {},
     "output_type": "execute_result"
    }
   ],
   "source": [
    "my_string[0]"
   ]
  },
  {
   "cell_type": "code",
   "execution_count": 65,
   "id": "6f09368f",
   "metadata": {},
   "outputs": [
    {
     "name": "stdout",
     "output_type": "stream",
     "text": [
      "Plase enter the string\n",
      " First three character of string\n",
      "Length of string---->  32\n",
      "\n",
      "String repeated 5 times ---->   First three character of string  First three character of string  First three character of string  First three character of string  First three character of string \n",
      "\n",
      "First character of string---->   \n",
      "Last character of string---->  g\n",
      "\n",
      "First three characters of string---->   Fi\n",
      "Last three characters of string---->  ing\n",
      "\n",
      "String reversed ----> gnirts fo retcarahc eerht tsriF \n",
      "\n",
      "Original string ---->  First three character of string\n",
      "Modified string ---->  First three character of stri\n"
     ]
    }
   ],
   "source": [
    "user_string = input('Plase enter the string\\n')\n",
    "\n",
    "print(\"Length of string----> \", len(user_string))\n",
    "print(\"\")\n",
    "\n",
    "print(\"String repeated 5 times ----> \", (user_string+\" \") * 5)\n",
    "print(\"\")\n",
    "\n",
    "print(\"First character of string----> \", user_string[0])\n",
    "print(\"Last character of string----> \", user_string[-1])\n",
    "print(\"\")\n",
    "\n",
    "print(\"First three characters of string----> \", user_string[ 0 : 3 ])\n",
    "print(\"Last three characters of string----> \", user_string[ -3 : ])\n",
    "print(\"\")\n",
    "\n",
    "print(\"String reversed ---->\", user_string[ : : -1])\n",
    "print(\"\")\n",
    "\n",
    "new_string = user_string[ 0 : len(user_string) - 2]\n",
    "print(\"Original string ---->\", user_string)\n",
    "print(\"Modified string ---->\", new_string)"
   ]
  },
  {
   "cell_type": "markdown",
   "id": "98b7c91e",
   "metadata": {},
   "source": [
    "# String Function"
   ]
  },
  {
   "cell_type": "code",
   "execution_count": 66,
   "id": "c15d3cd6",
   "metadata": {},
   "outputs": [
    {
     "data": {
      "text/plain": [
       "['__add__',\n",
       " '__class__',\n",
       " '__contains__',\n",
       " '__delattr__',\n",
       " '__dir__',\n",
       " '__doc__',\n",
       " '__eq__',\n",
       " '__format__',\n",
       " '__ge__',\n",
       " '__getattribute__',\n",
       " '__getitem__',\n",
       " '__getnewargs__',\n",
       " '__gt__',\n",
       " '__hash__',\n",
       " '__init__',\n",
       " '__init_subclass__',\n",
       " '__iter__',\n",
       " '__le__',\n",
       " '__len__',\n",
       " '__lt__',\n",
       " '__mod__',\n",
       " '__mul__',\n",
       " '__ne__',\n",
       " '__new__',\n",
       " '__reduce__',\n",
       " '__reduce_ex__',\n",
       " '__repr__',\n",
       " '__rmod__',\n",
       " '__rmul__',\n",
       " '__setattr__',\n",
       " '__sizeof__',\n",
       " '__str__',\n",
       " '__subclasshook__',\n",
       " 'capitalize',\n",
       " 'casefold',\n",
       " 'center',\n",
       " 'count',\n",
       " 'encode',\n",
       " 'endswith',\n",
       " 'expandtabs',\n",
       " 'find',\n",
       " 'format',\n",
       " 'format_map',\n",
       " 'index',\n",
       " 'isalnum',\n",
       " 'isalpha',\n",
       " 'isascii',\n",
       " 'isdecimal',\n",
       " 'isdigit',\n",
       " 'isidentifier',\n",
       " 'islower',\n",
       " 'isnumeric',\n",
       " 'isprintable',\n",
       " 'isspace',\n",
       " 'istitle',\n",
       " 'isupper',\n",
       " 'join',\n",
       " 'ljust',\n",
       " 'lower',\n",
       " 'lstrip',\n",
       " 'maketrans',\n",
       " 'partition',\n",
       " 'removeprefix',\n",
       " 'removesuffix',\n",
       " 'replace',\n",
       " 'rfind',\n",
       " 'rindex',\n",
       " 'rjust',\n",
       " 'rpartition',\n",
       " 'rsplit',\n",
       " 'rstrip',\n",
       " 'split',\n",
       " 'splitlines',\n",
       " 'startswith',\n",
       " 'strip',\n",
       " 'swapcase',\n",
       " 'title',\n",
       " 'translate',\n",
       " 'upper',\n",
       " 'zfill']"
      ]
     },
     "execution_count": 66,
     "metadata": {},
     "output_type": "execute_result"
    }
   ],
   "source": [
    "dir(str)"
   ]
  },
  {
   "cell_type": "code",
   "execution_count": 1,
   "id": "46f2f16b",
   "metadata": {},
   "outputs": [
    {
     "ename": "NameError",
     "evalue": "name 'my_string' is not defined",
     "output_type": "error",
     "traceback": [
      "\u001b[1;31m---------------------------------------------------------------------------\u001b[0m",
      "\u001b[1;31mNameError\u001b[0m                                 Traceback (most recent call last)",
      "Cell \u001b[1;32mIn[1], line 1\u001b[0m\n\u001b[1;32m----> 1\u001b[0m \u001b[43mmy_string\u001b[49m\n",
      "\u001b[1;31mNameError\u001b[0m: name 'my_string' is not defined"
     ]
    }
   ],
   "source": [
    "my_string"
   ]
  },
  {
   "cell_type": "code",
   "execution_count": 69,
   "id": "03572e4a",
   "metadata": {},
   "outputs": [
    {
     "data": {
      "text/plain": [
       "'PYTHON IS BEAUTIFUL'"
      ]
     },
     "execution_count": 69,
     "metadata": {},
     "output_type": "execute_result"
    }
   ],
   "source": [
    "# to make the string capital\n",
    "my_string.upper()"
   ]
  },
  {
   "cell_type": "code",
   "execution_count": 70,
   "id": "c9b2604f",
   "metadata": {},
   "outputs": [
    {
     "data": {
      "text/plain": [
       "'python is beautiful'"
      ]
     },
     "execution_count": 70,
     "metadata": {},
     "output_type": "execute_result"
    }
   ],
   "source": [
    "# To lower the string alphabet\n",
    "my_string.lower()"
   ]
  },
  {
   "cell_type": "code",
   "execution_count": 72,
   "id": "ed090403",
   "metadata": {},
   "outputs": [
    {
     "data": {
      "text/plain": [
       "'Python is beautiful'"
      ]
     },
     "execution_count": 72,
     "metadata": {},
     "output_type": "execute_result"
    }
   ],
   "source": [
    "# This method or function are used to capitalized the strating first character of a string.\n",
    "my_string.capitalize()"
   ]
  },
  {
   "cell_type": "code",
   "execution_count": 73,
   "id": "ad11966c",
   "metadata": {},
   "outputs": [
    {
     "data": {
      "text/plain": [
       "False"
      ]
     },
     "execution_count": 73,
     "metadata": {},
     "output_type": "execute_result"
    }
   ],
   "source": [
    "#this function  check whether the string is in lower case or not \n",
    "my_string.islower()"
   ]
  },
  {
   "cell_type": "code",
   "execution_count": 75,
   "id": "e774e52c",
   "metadata": {},
   "outputs": [
    {
     "data": {
      "text/plain": [
       "False"
      ]
     },
     "execution_count": 75,
     "metadata": {},
     "output_type": "execute_result"
    }
   ],
   "source": [
    "#this function  check whether the string is in upper case or not \n",
    "my_string.isupper()"
   ]
  },
  {
   "cell_type": "code",
   "execution_count": 76,
   "id": "4475f457",
   "metadata": {},
   "outputs": [
    {
     "data": {
      "text/plain": [
       "True"
      ]
     },
     "execution_count": 76,
     "metadata": {},
     "output_type": "execute_result"
    }
   ],
   "source": [
    "#this check whether the string index character  is in upper case or not \n",
    "my_string[0].isupper()"
   ]
  },
  {
   "cell_type": "code",
   "execution_count": 80,
   "id": "ab740d35",
   "metadata": {},
   "outputs": [
    {
     "data": {
      "text/plain": [
       "2"
      ]
     },
     "execution_count": 80,
     "metadata": {},
     "output_type": "execute_result"
    }
   ],
   "source": [
    "# This function will check for how many repeated character are present in a given string.\n",
    "my_string.count('t')"
   ]
  },
  {
   "cell_type": "code",
   "execution_count": 82,
   "id": "17068c6c",
   "metadata": {},
   "outputs": [
    {
     "data": {
      "text/plain": [
       "0"
      ]
     },
     "execution_count": 82,
     "metadata": {},
     "output_type": "execute_result"
    }
   ],
   "source": [
    "my_string.count('this')"
   ]
  },
  {
   "cell_type": "code",
   "execution_count": 83,
   "id": "cd5c8e91",
   "metadata": {},
   "outputs": [
    {
     "data": {
      "text/plain": [
       "12"
      ]
     },
     "execution_count": 83,
     "metadata": {},
     "output_type": "execute_result"
    }
   ],
   "source": [
    "# this function is used to find the character present in a given string or not \n",
    "# If present than it gives us the index number of that character.\n",
    "my_string.find('a')"
   ]
  },
  {
   "cell_type": "code",
   "execution_count": 84,
   "id": "b12185ea",
   "metadata": {},
   "outputs": [
    {
     "data": {
      "text/plain": [
       "'a'"
      ]
     },
     "execution_count": 84,
     "metadata": {},
     "output_type": "execute_result"
    }
   ],
   "source": [
    "my_string[12]"
   ]
  },
  {
   "cell_type": "code",
   "execution_count": 85,
   "id": "78ea2c63",
   "metadata": {},
   "outputs": [
    {
     "ename": "ValueError",
     "evalue": "substring not found",
     "output_type": "error",
     "traceback": [
      "\u001b[1;31m---------------------------------------------------------------------------\u001b[0m",
      "\u001b[1;31mValueError\u001b[0m                                Traceback (most recent call last)",
      "Cell \u001b[1;32mIn[85], line 1\u001b[0m\n\u001b[1;32m----> 1\u001b[0m \u001b[43mmy_string\u001b[49m\u001b[38;5;241;43m.\u001b[39;49m\u001b[43mindex\u001b[49m\u001b[43m(\u001b[49m\u001b[38;5;124;43m'\u001b[39;49m\u001b[38;5;124;43mT\u001b[39;49m\u001b[38;5;124;43m'\u001b[39;49m\u001b[43m)\u001b[49m\n",
      "\u001b[1;31mValueError\u001b[0m: substring not found"
     ]
    }
   ],
   "source": [
    "my_string.index('T')"
   ]
  },
  {
   "cell_type": "code",
   "execution_count": 86,
   "id": "3777ed55",
   "metadata": {},
   "outputs": [
    {
     "data": {
      "text/plain": [
       "12"
      ]
     },
     "execution_count": 86,
     "metadata": {},
     "output_type": "execute_result"
    }
   ],
   "source": [
    "# this is just a similar as like find.\n",
    "my_string.index('a')"
   ]
  },
  {
   "cell_type": "code",
   "execution_count": 88,
   "id": "71738ae0",
   "metadata": {},
   "outputs": [
    {
     "data": {
      "text/plain": [
       "14"
      ]
     },
     "execution_count": 88,
     "metadata": {},
     "output_type": "execute_result"
    }
   ],
   "source": [
    "# this will provide us the index of first alphabet from the mentioned  below string \n",
    "my_string.index(\"tiful\")"
   ]
  },
  {
   "cell_type": "code",
   "execution_count": 89,
   "id": "a45c06fb",
   "metadata": {},
   "outputs": [
    {
     "data": {
      "text/plain": [
       "14"
      ]
     },
     "execution_count": 89,
     "metadata": {},
     "output_type": "execute_result"
    }
   ],
   "source": [
    "my_string.find(\"tiful\")"
   ]
  },
  {
   "cell_type": "code",
   "execution_count": 90,
   "id": "283ea3ba",
   "metadata": {},
   "outputs": [
    {
     "data": {
      "text/plain": [
       "False"
      ]
     },
     "execution_count": 90,
     "metadata": {},
     "output_type": "execute_result"
    }
   ],
   "source": [
    "# This function is used to check whether the provided string is ended with 'is' or not.\n",
    "my_string.endswith('is')"
   ]
  },
  {
   "cell_type": "code",
   "execution_count": 91,
   "id": "24167c79",
   "metadata": {},
   "outputs": [
    {
     "data": {
      "text/plain": [
       "True"
      ]
     },
     "execution_count": 91,
     "metadata": {},
     "output_type": "execute_result"
    }
   ],
   "source": [
    "# This function is used to check whether the provided string is started with 'Py' or not.\n",
    "my_string.startswith('Py')"
   ]
  },
  {
   "cell_type": "code",
   "execution_count": 97,
   "id": "b4d4e8fc",
   "metadata": {},
   "outputs": [
    {
     "data": {
      "text/plain": [
       "False"
      ]
     },
     "execution_count": 97,
     "metadata": {},
     "output_type": "execute_result"
    }
   ],
   "source": [
    "# this will check whether the string contains numeric or letter in it or not\n",
    "my_string.isalnum()"
   ]
  },
  {
   "cell_type": "code",
   "execution_count": 98,
   "id": "a03532e9",
   "metadata": {},
   "outputs": [
    {
     "data": {
      "text/plain": [
       "True"
      ]
     },
     "execution_count": 98,
     "metadata": {},
     "output_type": "execute_result"
    }
   ],
   "source": [
    "my_string[2].isalnum()"
   ]
  },
  {
   "cell_type": "code",
   "execution_count": 103,
   "id": "df609a1a",
   "metadata": {},
   "outputs": [
    {
     "data": {
      "text/plain": [
       "True"
      ]
     },
     "execution_count": 103,
     "metadata": {},
     "output_type": "execute_result"
    }
   ],
   "source": [
    "sa='Sau123'\n",
    "sa.isalnum()\n"
   ]
  },
  {
   "cell_type": "code",
   "execution_count": 95,
   "id": "6cdb93fe",
   "metadata": {},
   "outputs": [],
   "source": [
    "sa='Sau123'"
   ]
  },
  {
   "cell_type": "code",
   "execution_count": 96,
   "id": "3122a15e",
   "metadata": {},
   "outputs": [
    {
     "data": {
      "text/plain": [
       "False"
      ]
     },
     "execution_count": 96,
     "metadata": {},
     "output_type": "execute_result"
    }
   ],
   "source": [
    "p"
   ]
  },
  {
   "cell_type": "code",
   "execution_count": 99,
   "id": "6be33f94",
   "metadata": {},
   "outputs": [
    {
     "data": {
      "text/plain": [
       "True"
      ]
     },
     "execution_count": 99,
     "metadata": {},
     "output_type": "execute_result"
    }
   ],
   "source": [
    "my_string[8].isalnum()"
   ]
  },
  {
   "cell_type": "code",
   "execution_count": 100,
   "id": "876c1617",
   "metadata": {},
   "outputs": [
    {
     "data": {
      "text/plain": [
       "False"
      ]
     },
     "execution_count": 100,
     "metadata": {},
     "output_type": "execute_result"
    }
   ],
   "source": [
    "my_string.isalpha()"
   ]
  },
  {
   "cell_type": "code",
   "execution_count": 101,
   "id": "e78c948b",
   "metadata": {},
   "outputs": [
    {
     "data": {
      "text/plain": [
       "True"
      ]
     },
     "execution_count": 101,
     "metadata": {},
     "output_type": "execute_result"
    }
   ],
   "source": [
    "my_string[4].isalpha()"
   ]
  },
  {
   "cell_type": "code",
   "execution_count": 104,
   "id": "4d3add82",
   "metadata": {},
   "outputs": [
    {
     "data": {
      "text/plain": [
       "False"
      ]
     },
     "execution_count": 104,
     "metadata": {},
     "output_type": "execute_result"
    }
   ],
   "source": [
    "my_string[5].isdecimal()"
   ]
  },
  {
   "cell_type": "code",
   "execution_count": 105,
   "id": "156a8c78",
   "metadata": {},
   "outputs": [
    {
     "data": {
      "text/plain": [
       "'Chennai Super Kings are going to win IPL this time.'"
      ]
     },
     "execution_count": 105,
     "metadata": {},
     "output_type": "execute_result"
    }
   ],
   "source": [
    "# it is used to remove leading and trailing whitespace characters (such as spaces, tabs, and newline characters) from a string\n",
    "st = \"Chennai Super Kings are going to win IPL this time.    \"\n",
    "st.strip()"
   ]
  },
  {
   "cell_type": "code",
   "execution_count": 106,
   "id": "c6e2b141",
   "metadata": {},
   "outputs": [
    {
     "data": {
      "text/plain": [
       "'Looking at the stars in the night sky is magical.    '"
      ]
     },
     "execution_count": 106,
     "metadata": {},
     "output_type": "execute_result"
    }
   ],
   "source": [
    "#it will remove from left\n",
    "left_st=\"     Looking at the stars in the night sky is magical.    \"\n",
    "left_st.lstrip()"
   ]
  },
  {
   "cell_type": "code",
   "execution_count": 111,
   "id": "02fb7cc7",
   "metadata": {},
   "outputs": [
    {
     "data": {
      "text/plain": [
       "'Watching the clouds change in the sky is peaceful.'"
      ]
     },
     "execution_count": 111,
     "metadata": {},
     "output_type": "execute_result"
    }
   ],
   "source": [
    "rt_st=\"Watching the clouds change in the sky is peaceful.#@  \"\n",
    "rt_st.rstrip(' @#')\n"
   ]
  },
  {
   "cell_type": "code",
   "execution_count": 112,
   "id": "5be7c94c",
   "metadata": {},
   "outputs": [
    {
     "data": {
      "text/plain": [
       "'Python Is beautIful'"
      ]
     },
     "execution_count": 112,
     "metadata": {},
     "output_type": "execute_result"
    }
   ],
   "source": [
    "# used to replace the old characters with the new ones.\n",
    "my_string.replace(\"i\", \"I\")"
   ]
  },
  {
   "cell_type": "code",
   "execution_count": 118,
   "id": "822b1182",
   "metadata": {},
   "outputs": [
    {
     "data": {
      "text/plain": [
       "'ython is beautiful'"
      ]
     },
     "execution_count": 118,
     "metadata": {},
     "output_type": "execute_result"
    }
   ],
   "source": [
    "my_string.removeprefix(\"P\")"
   ]
  },
  {
   "cell_type": "code",
   "execution_count": 116,
   "id": "b665fc85",
   "metadata": {},
   "outputs": [
    {
     "data": {
      "text/plain": [
       "'Python is beauti'"
      ]
     },
     "execution_count": 116,
     "metadata": {},
     "output_type": "execute_result"
    }
   ],
   "source": [
    "my_string.removesuffix('ful')"
   ]
  },
  {
   "cell_type": "code",
   "execution_count": 119,
   "id": "c8126894",
   "metadata": {},
   "outputs": [
    {
     "data": {
      "text/plain": [
       "['Python', 'is', 'beautiful']"
      ]
     },
     "execution_count": 119,
     "metadata": {},
     "output_type": "execute_result"
    }
   ],
   "source": [
    "# split is used to break the string \n",
    "# it gives result in list type\n",
    "my_string.split()"
   ]
  },
  {
   "cell_type": "code",
   "execution_count": 120,
   "id": "f6bd8ad6",
   "metadata": {},
   "outputs": [
    {
     "data": {
      "text/plain": [
       "['Python ', 's beaut', 'ful']"
      ]
     },
     "execution_count": 120,
     "metadata": {},
     "output_type": "execute_result"
    }
   ],
   "source": [
    "my_string.split(\"i\")"
   ]
  },
  {
   "cell_type": "code",
   "execution_count": 121,
   "id": "451f1f24",
   "metadata": {},
   "outputs": [
    {
     "data": {
      "text/plain": [
       "('Python ', 'is', ' beautiful')"
      ]
     },
     "execution_count": 121,
     "metadata": {},
     "output_type": "execute_result"
    }
   ],
   "source": [
    "#it is works same as split but the main difference is it gives result in tuple type\n",
    "my_string.partition(\"is\")"
   ]
  },
  {
   "cell_type": "code",
   "execution_count": 122,
   "id": "c9ae3074",
   "metadata": {},
   "outputs": [
    {
     "data": {
      "text/plain": [
       "'aPython is beautifulb'"
      ]
     },
     "execution_count": 122,
     "metadata": {},
     "output_type": "execute_result"
    }
   ],
   "source": [
    "my_string.join([\"a\",\"b\"])"
   ]
  },
  {
   "cell_type": "code",
   "execution_count": 123,
   "id": "ef3b7fb7",
   "metadata": {},
   "outputs": [
    {
     "data": {
      "text/plain": [
       "'   Python is beautiful   '"
      ]
     },
     "execution_count": 123,
     "metadata": {},
     "output_type": "execute_result"
    }
   ],
   "source": [
    "# It hepls us to allign the string in the center.\n",
    "my_string.center(25)"
   ]
  },
  {
   "cell_type": "code",
   "execution_count": null,
   "id": "f77fc24c",
   "metadata": {},
   "outputs": [],
   "source": []
  }
 ],
 "metadata": {
  "kernelspec": {
   "display_name": "Python 3 (ipykernel)",
   "language": "python",
   "name": "python3"
  },
  "language_info": {
   "codemirror_mode": {
    "name": "ipython",
    "version": 3
   },
   "file_extension": ".py",
   "mimetype": "text/x-python",
   "name": "python",
   "nbconvert_exporter": "python",
   "pygments_lexer": "ipython3",
   "version": "3.10.9"
  }
 },
 "nbformat": 4,
 "nbformat_minor": 5
}
