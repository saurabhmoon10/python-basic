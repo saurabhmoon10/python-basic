{
 "cells": [
  {
   "cell_type": "markdown",
   "id": "10d79faf",
   "metadata": {},
   "source": [
    "### input( ) function\n",
    "\n",
    "It is a built-in function.Which is used to take input from the users. "
   ]
  },
  {
   "cell_type": "code",
   "execution_count": 1,
   "id": "4306f2be",
   "metadata": {},
   "outputs": [
    {
     "name": "stdout",
     "output_type": "stream",
     "text": [
      "50\n"
     ]
    },
    {
     "data": {
      "text/plain": [
       "'50'"
      ]
     },
     "execution_count": 1,
     "metadata": {},
     "output_type": "execute_result"
    }
   ],
   "source": [
    "input()"
   ]
  },
  {
   "cell_type": "code",
   "execution_count": 2,
   "id": "7053a75e",
   "metadata": {},
   "outputs": [
    {
     "name": "stdout",
     "output_type": "stream",
     "text": [
      "50\n"
     ]
    },
    {
     "data": {
      "text/plain": [
       "str"
      ]
     },
     "execution_count": 2,
     "metadata": {},
     "output_type": "execute_result"
    }
   ],
   "source": [
    "# by-default input take the type str \n",
    "type(input())"
   ]
  },
  {
   "cell_type": "code",
   "execution_count": 3,
   "id": "66715807",
   "metadata": {},
   "outputs": [
    {
     "name": "stdout",
     "output_type": "stream",
     "text": [
      "saurabhmoon\n"
     ]
    },
    {
     "data": {
      "text/plain": [
       "'moon'"
      ]
     },
     "execution_count": 3,
     "metadata": {},
     "output_type": "execute_result"
    }
   ],
   "source": [
    "input('saurabh')"
   ]
  },
  {
   "cell_type": "code",
   "execution_count": null,
   "id": "33b2926d",
   "metadata": {},
   "outputs": [],
   "source": [
    "#assigning or storing the information in a variable\n",
    "a1=input('Enter your name here ')\n",
    "print(\"Hello \",a1)\n",
    "print(\"Welcome to the input class\")\n",
    "b1=input(\"How was the class\")\n",
    "print(\"The class was\",b1)\n",
    "\n",
    "print(\"Thank you for the feedback\",a1)"
   ]
  },
  {
   "cell_type": "code",
   "execution_count": 1,
   "id": "2ae8f236",
   "metadata": {},
   "outputs": [
    {
     "name": "stdout",
     "output_type": "stream",
     "text": [
      "Enter your name here Saurabh\n",
      "Hello  Saurabh\n",
      "Welcome to the input class\n",
      "How was the classgreat & informative\n",
      "The class was great & informative\n",
      "Thank you for the feedback Saurabh\n"
     ]
    }
   ],
   "source": [
    "#assigning or storing the information in a variable\n",
    "a1=input('Enter your name here ')\n",
    "print(\"Hello \",a1)\n",
    "print(\"Welcome to the input class\")\n",
    "b1=input(\"How was the class\")\n",
    "print(\"The class was\",b1)\n",
    "\n",
    "print(\"Thank you for the feedback\",a1)"
   ]
  },
  {
   "cell_type": "code",
   "execution_count": 3,
   "id": "505eaaef",
   "metadata": {},
   "outputs": [
    {
     "name": "stdout",
     "output_type": "stream",
     "text": [
      "Saurabh <class 'str'>\n",
      "great & informative <class 'str'>\n"
     ]
    }
   ],
   "source": [
    "print(a1,type(a1))\n",
    "print(b1,type(b1))"
   ]
  },
  {
   "cell_type": "code",
   "execution_count": 4,
   "id": "d665948f",
   "metadata": {},
   "outputs": [
    {
     "name": "stdout",
     "output_type": "stream",
     "text": [
      "7\n"
     ]
    }
   ],
   "source": [
    "print(len(a1))"
   ]
  },
  {
   "cell_type": "code",
   "execution_count": 5,
   "id": "b58705dd",
   "metadata": {},
   "outputs": [
    {
     "name": "stdout",
     "output_type": "stream",
     "text": [
      "19\n"
     ]
    }
   ],
   "source": [
    "print(len(b1))"
   ]
  },
  {
   "cell_type": "code",
   "execution_count": 6,
   "id": "3ea02869",
   "metadata": {},
   "outputs": [
    {
     "data": {
      "text/plain": [
       "['g',\n",
       " 'r',\n",
       " 'e',\n",
       " 'a',\n",
       " 't',\n",
       " ' ',\n",
       " '&',\n",
       " ' ',\n",
       " 'i',\n",
       " 'n',\n",
       " 'f',\n",
       " 'o',\n",
       " 'r',\n",
       " 'm',\n",
       " 'a',\n",
       " 't',\n",
       " 'i',\n",
       " 'v',\n",
       " 'e']"
      ]
     },
     "execution_count": 6,
     "metadata": {},
     "output_type": "execute_result"
    }
   ],
   "source": [
    "list(b1)"
   ]
  },
  {
   "cell_type": "code",
   "execution_count": 7,
   "id": "4008fd0a",
   "metadata": {},
   "outputs": [
    {
     "data": {
      "text/plain": [
       "['S', 'a', 'u', 'r', 'a', 'b', 'h']"
      ]
     },
     "execution_count": 7,
     "metadata": {},
     "output_type": "execute_result"
    }
   ],
   "source": [
    "list(a1)"
   ]
  },
  {
   "cell_type": "code",
   "execution_count": 18,
   "id": "d421e3fe",
   "metadata": {},
   "outputs": [
    {
     "name": "stdout",
     "output_type": "stream",
     "text": [
      "Enter the number 3\n",
      "3\n",
      "The square of 3 is  9\n",
      "The cube of 3 is  27\n"
     ]
    }
   ],
   "source": [
    "# taking the integer and float values in input function\n",
    "a=int(input(\"Enter the number \"))\n",
    "print(a)\n",
    "#sqauring the given number \n",
    "sq=a**2\n",
    "print(\"The square of \"+ str(a) +\" is \" ,str(sq))\n",
    "#cubing the number \n",
    "cube= pow(a,3)\n",
    "print(\"The cube of \"+str(a )+\" is \",str(cube))\n"
   ]
  },
  {
   "cell_type": "code",
   "execution_count": 20,
   "id": "e8600e59",
   "metadata": {},
   "outputs": [
    {
     "name": "stdout",
     "output_type": "stream",
     "text": [
      "enter the value 20.6\n"
     ]
    },
    {
     "data": {
      "text/plain": [
       "float"
      ]
     },
     "execution_count": 20,
     "metadata": {},
     "output_type": "execute_result"
    }
   ],
   "source": [
    "c=float(input(\"enter the value \"))\n",
    "type(c)"
   ]
  },
  {
   "cell_type": "code",
   "execution_count": null,
   "id": "a116fad0",
   "metadata": {},
   "outputs": [],
   "source": [
    "age=input(\"what is your age\")\n",
    "print(\"you have entered age as\",age)\n",
    "print(\"type :- \",type(age))"
   ]
  },
  {
   "cell_type": "code",
   "execution_count": 24,
   "id": "c37b2f26",
   "metadata": {},
   "outputs": [
    {
     "name": "stdout",
     "output_type": "stream",
     "text": [
      "enter your age here 45.6\n",
      "Your age is  45.6\n",
      "Type :-  <class 'float'>\n"
     ]
    }
   ],
   "source": [
    "age=float(input(\"enter your age here \"))\n",
    "print(\"Your age is \",age)\n",
    "print(\"Type :- \",type(age))"
   ]
  },
  {
   "cell_type": "code",
   "execution_count": 1,
   "id": "35be0ad7",
   "metadata": {},
   "outputs": [
    {
     "name": "stdout",
     "output_type": "stream",
     "text": [
      "20\n"
     ]
    },
    {
     "data": {
      "text/plain": [
       "int"
      ]
     },
     "execution_count": 1,
     "metadata": {},
     "output_type": "execute_result"
    }
   ],
   "source": [
    "#eval :- this bulit-in function is used to automatically convert the  correct datatype \n",
    "\n",
    "eval_1=eval(input())\n",
    "type(eval_1)"
   ]
  },
  {
   "cell_type": "code",
   "execution_count": 3,
   "id": "8399b840",
   "metadata": {},
   "outputs": [
    {
     "name": "stdout",
     "output_type": "stream",
     "text": [
      "Enter your age please 36.8\n",
      "your age is  36.8\n",
      "type :-  <class 'float'>\n"
     ]
    }
   ],
   "source": [
    "my_age=eval(input(\"Enter your age please \"))\n",
    "print(\"your age is \",my_age)\n",
    "print(\"type :- \",type(my_age))"
   ]
  },
  {
   "cell_type": "code",
   "execution_count": 8,
   "id": "d4391edb",
   "metadata": {},
   "outputs": [
    {
     "name": "stdout",
     "output_type": "stream",
     "text": [
      "enter your marks here 50+30+40\n",
      "your total marks are :- 120\n"
     ]
    }
   ],
   "source": [
    "total_mark=eval(input(\"enter your marks here \"))\n",
    "print(\"your total marks are :-\",total_mark)"
   ]
  },
  {
   "cell_type": "code",
   "execution_count": 2,
   "id": "85b5f05a",
   "metadata": {},
   "outputs": [
    {
     "name": "stdout",
     "output_type": "stream",
     "text": [
      "enter the  first number20\n",
      "enter the second number20\n",
      "enter the 3rd number20\n",
      "The addtion of values are  60\n",
      "Type :- <class 'int'>\n",
      "The average of given numbers are  20.0\n",
      "Type :- <class 'float'>\n"
     ]
    }
   ],
   "source": [
    "# finding average of number using eval built_in function\n",
    "num_1=eval(input(\"enter the  first number\"))\n",
    "num_2=eval(input(\"enter the second number\"))\n",
    "num_3=eval(input(\"enter the 3rd number\"))\n",
    "total=num_1+num_2+num_3\n",
    "avg=total/3\n",
    "\n",
    "print(\"The addtion of values are \",total)\n",
    "print(\"Type :-\",type(total))\n",
    "print(\"The average of given numbers are \",(avg))\n",
    "print(\"Type :-\",type(avg))\n"
   ]
  },
  {
   "cell_type": "code",
   "execution_count": 4,
   "id": "ab4fc0b8",
   "metadata": {},
   "outputs": [
    {
     "name": "stdout",
     "output_type": "stream",
     "text": [
      "enter your salary :-30000.50\n",
      "Basic Salary is :-  30000.5\n",
      "Type :- <class 'float'>\n",
      "--------\n",
      "HRA is :-  3000.05\n",
      "type :-  <class 'float'>\n",
      "---------\n",
      "conv_allowence :-  9000.15\n",
      "Type :-  <class 'float'>\n",
      "---------\n",
      "Gross Salary :-  42000.700000000004\n"
     ]
    }
   ],
   "source": [
    "# doubt about eval does it takes by default float as its data type ?\n",
    "basic_sal=eval(input(\"enter your salary :-\"))\n",
    "hra=0.1 *basic_sal\n",
    "conv_allowence=0.3 * basic_sal\n",
    "total_gross_sal=basic_sal + hra+ conv_allowence\n",
    "\n",
    "print(\"Basic Salary is :- \",basic_sal)\n",
    "\n",
    "print(\"Type :-\",type(basic_sal))\n",
    "print(\"--------\")\n",
    "print(\"HRA is :- \",hra)\n",
    "print(\"type :- \",type(hra))\n",
    "print(\"---------\")\n",
    "print(\"conv_allowence :- \",str(conv_allowence))\n",
    "print(\"Type :- \",type(conv_allowence))\n",
    "print(\"---------\")\n",
    "print(\"Gross Salary :- \",total_gross_sal)"
   ]
  },
  {
   "cell_type": "code",
   "execution_count": 5,
   "id": "59ad6433",
   "metadata": {},
   "outputs": [
    {
     "data": {
      "text/plain": [
       "range(0, 10)"
      ]
     },
     "execution_count": 5,
     "metadata": {},
     "output_type": "execute_result"
    }
   ],
   "source": [
    "# range() is a built-in function uses in itterate or loop for going from start point to the end point of the loop.\n",
    "# So,the range() function is always n-1\n",
    "range(10)"
   ]
  },
  {
   "cell_type": "code",
   "execution_count": 6,
   "id": "923f1c09",
   "metadata": {},
   "outputs": [
    {
     "name": "stdout",
     "output_type": "stream",
     "text": [
      "range(0, 10)\n"
     ]
    }
   ],
   "source": [
    "print(range(10))"
   ]
  },
  {
   "cell_type": "code",
   "execution_count": 7,
   "id": "6dfb61d6",
   "metadata": {},
   "outputs": [
    {
     "data": {
      "text/plain": [
       "[0, 1, 2, 3, 4, 5, 6, 7, 8, 9]"
      ]
     },
     "execution_count": 7,
     "metadata": {},
     "output_type": "execute_result"
    }
   ],
   "source": [
    "list(range(10))"
   ]
  },
  {
   "cell_type": "code",
   "execution_count": 8,
   "id": "fafb0a33",
   "metadata": {},
   "outputs": [
    {
     "data": {
      "text/plain": [
       "[2, 3, 4, 5, 6, 7, 8, 9]"
      ]
     },
     "execution_count": 8,
     "metadata": {},
     "output_type": "execute_result"
    }
   ],
   "source": [
    "list(range(2,10))"
   ]
  },
  {
   "cell_type": "code",
   "execution_count": 9,
   "id": "0d0db0cb",
   "metadata": {},
   "outputs": [
    {
     "data": {
      "text/plain": [
       "[1,\n",
       " 3,\n",
       " 5,\n",
       " 7,\n",
       " 9,\n",
       " 11,\n",
       " 13,\n",
       " 15,\n",
       " 17,\n",
       " 19,\n",
       " 21,\n",
       " 23,\n",
       " 25,\n",
       " 27,\n",
       " 29,\n",
       " 31,\n",
       " 33,\n",
       " 35,\n",
       " 37,\n",
       " 39,\n",
       " 41,\n",
       " 43,\n",
       " 45,\n",
       " 47,\n",
       " 49]"
      ]
     },
     "execution_count": 9,
     "metadata": {},
     "output_type": "execute_result"
    }
   ],
   "source": [
    "list(range(1,50,2)) # here 2 is mention just to skip the values by 2 numbers or to step the values by 2."
   ]
  },
  {
   "cell_type": "code",
   "execution_count": 10,
   "id": "77692a31",
   "metadata": {},
   "outputs": [
    {
     "data": {
      "text/plain": [
       "[5, 10, 15]"
      ]
     },
     "execution_count": 10,
     "metadata": {},
     "output_type": "execute_result"
    }
   ],
   "source": [
    "list(range(5,20,5))"
   ]
  },
  {
   "cell_type": "code",
   "execution_count": 11,
   "id": "617a405e",
   "metadata": {},
   "outputs": [
    {
     "ename": "TypeError",
     "evalue": "'float' object cannot be interpreted as an integer",
     "output_type": "error",
     "traceback": [
      "\u001b[1;31m---------------------------------------------------------------------------\u001b[0m",
      "\u001b[1;31mTypeError\u001b[0m                                 Traceback (most recent call last)",
      "Cell \u001b[1;32mIn[11], line 1\u001b[0m\n\u001b[1;32m----> 1\u001b[0m \u001b[38;5;28mlist\u001b[39m(\u001b[38;5;28;43mrange\u001b[39;49m\u001b[43m(\u001b[49m\u001b[38;5;241;43m2\u001b[39;49m\u001b[43m,\u001b[49m\u001b[38;5;241;43m9.8\u001b[39;49m\u001b[43m,\u001b[49m\u001b[38;5;241;43m2\u001b[39;49m\u001b[43m)\u001b[49m)\n",
      "\u001b[1;31mTypeError\u001b[0m: 'float' object cannot be interpreted as an integer"
     ]
    }
   ],
   "source": [
    "list(range(2,9.8,2))# here it will give us the error becaz our end piont of range is in the float ."
   ]
  },
  {
   "cell_type": "code",
   "execution_count": 14,
   "id": "d6890ebd",
   "metadata": {},
   "outputs": [
    {
     "data": {
      "text/plain": [
       "[2, 3, 4, 5, 6, 7, 8, 9, 10, 11, 12, 13, 14, 15, 16, 17, 18, 19]"
      ]
     },
     "execution_count": 14,
     "metadata": {},
     "output_type": "execute_result"
    }
   ],
   "source": [
    "list(range(int(2.4),int(20.8),1))"
   ]
  },
  {
   "cell_type": "code",
   "execution_count": 15,
   "id": "7b6e2ceb",
   "metadata": {},
   "outputs": [
    {
     "data": {
      "text/plain": [
       "[]"
      ]
     },
     "execution_count": 15,
     "metadata": {},
     "output_type": "execute_result"
    }
   ],
   "source": [
    "list(range(1,20,-3)) # it will give the empty list becaz the loop goes in reverse "
   ]
  },
  {
   "cell_type": "code",
   "execution_count": 16,
   "id": "03174954",
   "metadata": {},
   "outputs": [
    {
     "data": {
      "text/plain": [
       "[20, 19, 18, 17, 16, 15, 14, 13, 12, 11, 10, 9, 8, 7, 6, 5, 4, 3, 2]"
      ]
     },
     "execution_count": 16,
     "metadata": {},
     "output_type": "execute_result"
    }
   ],
   "source": [
    "list(range(20,1,-1))"
   ]
  },
  {
   "cell_type": "code",
   "execution_count": 17,
   "id": "4cd3f674",
   "metadata": {},
   "outputs": [
    {
     "name": "stdout",
     "output_type": "stream",
     "text": [
      "<class 'str'>\n"
     ]
    }
   ],
   "source": [
    "name=\"Saurabh\"\n",
    "print(type(name))"
   ]
  },
  {
   "cell_type": "code",
   "execution_count": 18,
   "id": "ae3fbf51",
   "metadata": {},
   "outputs": [
    {
     "data": {
      "text/plain": [
       "7"
      ]
     },
     "execution_count": 18,
     "metadata": {},
     "output_type": "execute_result"
    }
   ],
   "source": [
    "len(name)"
   ]
  },
  {
   "cell_type": "code",
   "execution_count": 24,
   "id": "33a7bf5f",
   "metadata": {},
   "outputs": [
    {
     "data": {
      "text/plain": [
       "[0, 1, 2, 3, 4]"
      ]
     },
     "execution_count": 24,
     "metadata": {},
     "output_type": "execute_result"
    }
   ],
   "source": [
    "list(range(len(name)-2))"
   ]
  },
  {
   "cell_type": "code",
   "execution_count": 25,
   "id": "dcc6534f",
   "metadata": {},
   "outputs": [],
   "source": [
    "list1=range(0,10) "
   ]
  },
  {
   "cell_type": "code",
   "execution_count": 26,
   "id": "98b4ecd5",
   "metadata": {},
   "outputs": [
    {
     "name": "stdout",
     "output_type": "stream",
     "text": [
      "range(0, 10)\n"
     ]
    }
   ],
   "source": [
    "print(list1)"
   ]
  },
  {
   "cell_type": "code",
   "execution_count": 27,
   "id": "39431fd6",
   "metadata": {},
   "outputs": [
    {
     "name": "stdout",
     "output_type": "stream",
     "text": [
      "maximum number in list :-  9\n",
      "Minimum number in list :-  1\n"
     ]
    }
   ],
   "source": [
    "list1=[1,2,3,4,5,6,7,8,9]\n",
    "print(\"maximum number in list :- \",max(list1))\n",
    "print(\"Minimum number in list :- \",min(list1))"
   ]
  },
  {
   "cell_type": "code",
   "execution_count": 28,
   "id": "a76088eb",
   "metadata": {},
   "outputs": [
    {
     "data": {
      "text/plain": [
       "45"
      ]
     },
     "execution_count": 28,
     "metadata": {},
     "output_type": "execute_result"
    }
   ],
   "source": [
    "sum(list1)"
   ]
  },
  {
   "cell_type": "code",
   "execution_count": 33,
   "id": "9f052195",
   "metadata": {},
   "outputs": [
    {
     "data": {
      "text/plain": [
       "[1, 2, 3, 4, 5, 6, 7, 8, 9]"
      ]
     },
     "execution_count": 33,
     "metadata": {},
     "output_type": "execute_result"
    }
   ],
   "source": [
    "sorted(list1,reverse=False)"
   ]
  },
  {
   "cell_type": "code",
   "execution_count": 32,
   "id": "14da2228",
   "metadata": {},
   "outputs": [
    {
     "data": {
      "text/plain": [
       "[9, 8, 7, 6, 5, 4, 3, 2, 1]"
      ]
     },
     "execution_count": 32,
     "metadata": {},
     "output_type": "execute_result"
    }
   ],
   "source": [
    "sorted(list1,reverse=True)"
   ]
  },
  {
   "cell_type": "code",
   "execution_count": null,
   "id": "98b3bb8f",
   "metadata": {},
   "outputs": [],
   "source": [
    "\n"
   ]
  }
 ],
 "metadata": {
  "kernelspec": {
   "display_name": "Python 3 (ipykernel)",
   "language": "python",
   "name": "python3"
  },
  "language_info": {
   "codemirror_mode": {
    "name": "ipython",
    "version": 3
   },
   "file_extension": ".py",
   "mimetype": "text/x-python",
   "name": "python",
   "nbconvert_exporter": "python",
   "pygments_lexer": "ipython3",
   "version": "3.10.9"
  }
 },
 "nbformat": 4,
 "nbformat_minor": 5
}
