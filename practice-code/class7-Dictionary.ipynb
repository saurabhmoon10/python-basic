{
 "cells": [
  {
   "cell_type": "markdown",
   "id": "acf2cc8b",
   "metadata": {},
   "source": [
    "# Dictionary"
   ]
  },
  {
   "cell_type": "markdown",
   "id": "9b7e0d4e",
   "metadata": {},
   "source": [
    "(1) In Python, a dictionary is a built-in data type that allows you to store a collection of key-value pairs.\n",
    "\n",
    "(2) Each key in a dictionary is unique and associated with a specific value.\n",
    "\n",
    "(3) dictionaries are mutable in Python.\n",
    "\n",
    "(4) Syntax :-\n",
    "    variable_name={key:value}\n",
    "\n",
    "example:- my_name={name:\"Saurabh\"}"
   ]
  },
  {
   "cell_type": "code",
   "execution_count": 1,
   "id": "db1ae927",
   "metadata": {},
   "outputs": [
    {
     "name": "stdout",
     "output_type": "stream",
     "text": [
      "{}\n"
     ]
    }
   ],
   "source": [
    "empty_dict={}\n",
    "print(empty_dict)"
   ]
  },
  {
   "cell_type": "code",
   "execution_count": 2,
   "id": "13f9b8b3",
   "metadata": {},
   "outputs": [],
   "source": [
    "my_dict={'Jan':31,'Feb':28,'March':30,'April':31}"
   ]
  },
  {
   "cell_type": "code",
   "execution_count": 3,
   "id": "87208e49",
   "metadata": {},
   "outputs": [
    {
     "data": {
      "text/plain": [
       "{'Jan': 31, 'Feb': 28, 'March': 30, 'April': 31}"
      ]
     },
     "execution_count": 3,
     "metadata": {},
     "output_type": "execute_result"
    }
   ],
   "source": [
    "my_dict"
   ]
  },
  {
   "cell_type": "code",
   "execution_count": 4,
   "id": "83c24675",
   "metadata": {},
   "outputs": [
    {
     "data": {
      "text/plain": [
       "31"
      ]
     },
     "execution_count": 4,
     "metadata": {},
     "output_type": "execute_result"
    }
   ],
   "source": [
    "# indexing can be done through it key \n",
    "my_dict['Jan']"
   ]
  },
  {
   "cell_type": "code",
   "execution_count": 5,
   "id": "d76dbe54",
   "metadata": {},
   "outputs": [
    {
     "data": {
      "text/plain": [
       "28"
      ]
     },
     "execution_count": 5,
     "metadata": {},
     "output_type": "execute_result"
    }
   ],
   "source": [
    "my_dict.get('Feb')"
   ]
  },
  {
   "cell_type": "code",
   "execution_count": 6,
   "id": "0b16c89a",
   "metadata": {},
   "outputs": [],
   "source": [
    "# it will note give error as like discard we saw in set\n",
    "\n",
    "my_dict.get('Aug')"
   ]
  },
  {
   "cell_type": "code",
   "execution_count": 8,
   "id": "76413e3d",
   "metadata": {},
   "outputs": [
    {
     "data": {
      "text/plain": [
       "{1: 'Jan', 2: 'Feb', 3: 'March', 4: 'April'}"
      ]
     },
     "execution_count": 8,
     "metadata": {},
     "output_type": "execute_result"
    }
   ],
   "source": [
    "# keys can be anything number or string\n",
    "\n",
    "my_dict2={1:'Jan',2:'Feb',3:'March',4:'April'}\n",
    "my_dict2"
   ]
  },
  {
   "cell_type": "code",
   "execution_count": 15,
   "id": "b1fab368",
   "metadata": {},
   "outputs": [
    {
     "data": {
      "text/plain": [
       "'Jan'"
      ]
     },
     "execution_count": 15,
     "metadata": {},
     "output_type": "execute_result"
    }
   ],
   "source": [
    "my_dict2[1]"
   ]
  },
  {
   "cell_type": "code",
   "execution_count": 16,
   "id": "f2daa7fc",
   "metadata": {},
   "outputs": [
    {
     "data": {
      "text/plain": [
       "{(1, 2019): 'Jan', (2, 2019): 'Feb'}"
      ]
     },
     "execution_count": 16,
     "metadata": {},
     "output_type": "execute_result"
    }
   ],
   "source": [
    "# taking tuple as a key \n",
    "dict3 = {(1, 2019) : 'Jan', (2, 2019):'Feb'}  \n",
    "dict3"
   ]
  },
  {
   "cell_type": "code",
   "execution_count": 18,
   "id": "cfbe5ddd",
   "metadata": {},
   "outputs": [
    {
     "ename": "TypeError",
     "evalue": "unhashable type: 'list'",
     "output_type": "error",
     "traceback": [
      "\u001b[1;31m---------------------------------------------------------------------------\u001b[0m",
      "\u001b[1;31mTypeError\u001b[0m                                 Traceback (most recent call last)",
      "Cell \u001b[1;32mIn[18], line 2\u001b[0m\n\u001b[0;32m      1\u001b[0m \u001b[38;5;66;03m# List can't take as a key in dictionary becaz list is mutable in nature.\u001b[39;00m\n\u001b[1;32m----> 2\u001b[0m dict4 \u001b[38;5;241m=\u001b[39m {[\u001b[38;5;241m1\u001b[39m, \u001b[38;5;241m2019\u001b[39m] : \u001b[38;5;124m'\u001b[39m\u001b[38;5;124mJan\u001b[39m\u001b[38;5;124m'\u001b[39m, [\u001b[38;5;241m2\u001b[39m, \u001b[38;5;241m2019\u001b[39m]:\u001b[38;5;124m'\u001b[39m\u001b[38;5;124mFeb\u001b[39m\u001b[38;5;124m'\u001b[39m}  \u001b[38;5;66;03m#keys cannot be list\u001b[39;00m\n\u001b[0;32m      3\u001b[0m dict4\n",
      "\u001b[1;31mTypeError\u001b[0m: unhashable type: 'list'"
     ]
    }
   ],
   "source": [
    "# List can't take as a key in dictionary becaz list is mutable in nature.\n",
    "dict4 = {[1, 2019] : 'Jan', [2, 2019]:'Feb'}  #keys cannot be list\n",
    "dict4"
   ]
  },
  {
   "cell_type": "code",
   "execution_count": 19,
   "id": "a24016da",
   "metadata": {},
   "outputs": [
    {
     "data": {
      "text/plain": [
       "{'A': 1, 'B': 2, 'C': 3}"
      ]
     },
     "execution_count": 19,
     "metadata": {},
     "output_type": "execute_result"
    }
   ],
   "source": [
    "# Converting list into dictionary\n",
    "d = dict([('A',1), ('B',2), ('C',3)])\n",
    "d"
   ]
  },
  {
   "cell_type": "code",
   "execution_count": 102,
   "id": "cce57268",
   "metadata": {},
   "outputs": [
    {
     "data": {
      "text/plain": [
       "{'Jan': 31, 'Feb': 28, 'March': 31, 'Apr': 30}"
      ]
     },
     "execution_count": 102,
     "metadata": {},
     "output_type": "execute_result"
    }
   ],
   "source": [
    "my_dict = {'Jan': 31, 'Feb':28, 'March': 31, 'Apr':30} # keys are strings\n",
    "my_dict"
   ]
  },
  {
   "cell_type": "code",
   "execution_count": 22,
   "id": "6b1fdf76",
   "metadata": {},
   "outputs": [
    {
     "data": {
      "text/plain": [
       "dict_keys(['Jan', 'Feb', 'March', 'Apr'])"
      ]
     },
     "execution_count": 22,
     "metadata": {},
     "output_type": "execute_result"
    }
   ],
   "source": [
    "# to access the key we have a function called key() used to get all the keys from dictionary. \n",
    "my_dict.keys()"
   ]
  },
  {
   "cell_type": "code",
   "execution_count": 25,
   "id": "4fd579b0",
   "metadata": {},
   "outputs": [
    {
     "data": {
      "text/plain": [
       "dict_values([31, 28, 31, 30])"
      ]
     },
     "execution_count": 25,
     "metadata": {},
     "output_type": "execute_result"
    }
   ],
   "source": [
    "# To access the values of a key we have a values() function to get all the values.\n",
    "my_dict.values()"
   ]
  },
  {
   "cell_type": "code",
   "execution_count": 29,
   "id": "d1265485",
   "metadata": {},
   "outputs": [
    {
     "data": {
      "text/plain": [
       "30"
      ]
     },
     "execution_count": 29,
     "metadata": {},
     "output_type": "execute_result"
    }
   ],
   "source": [
    "# get () function is used to get the particular keys value from a dictionary.\n",
    "my_dict.get('Apr')"
   ]
  },
  {
   "cell_type": "code",
   "execution_count": 31,
   "id": "e0065cef",
   "metadata": {},
   "outputs": [
    {
     "data": {
      "text/plain": [
       "dict_items([('Jan', 31), ('Feb', 28), ('March', 31), ('Apr', 30)])"
      ]
     },
     "execution_count": 31,
     "metadata": {},
     "output_type": "execute_result"
    }
   ],
   "source": [
    "# itmems() function is used to get all the keys and values from a dictionary.\n",
    "my_dict.items()"
   ]
  },
  {
   "cell_type": "code",
   "execution_count": 41,
   "id": "72e149c7",
   "metadata": {},
   "outputs": [],
   "source": [
    "#update() function is used to update the dictionary when we have atleast 2 dictionary. & updating 2nd dictionary elements in 1st dictionary.\n",
    "my_dict.update(my_dict2)"
   ]
  },
  {
   "cell_type": "code",
   "execution_count": 40,
   "id": "e865ee11",
   "metadata": {},
   "outputs": [
    {
     "data": {
      "text/plain": [
       "{'Jan': 31,\n",
       " 'Feb': 28,\n",
       " 'March': 31,\n",
       " 'Apr': 30,\n",
       " 1: 'Jan',\n",
       " 2: 'Feb',\n",
       " 3: 'March',\n",
       " 4: 'April'}"
      ]
     },
     "execution_count": 40,
     "metadata": {},
     "output_type": "execute_result"
    }
   ],
   "source": [
    "my_dict"
   ]
  },
  {
   "cell_type": "code",
   "execution_count": 103,
   "id": "d3eecea8",
   "metadata": {},
   "outputs": [
    {
     "data": {
      "text/plain": [
       "31"
      ]
     },
     "execution_count": 103,
     "metadata": {},
     "output_type": "execute_result"
    }
   ],
   "source": [
    "# pop() function is used to remove out the particular key and its value from a dictionary\n",
    "my_dict.pop('Jan')"
   ]
  },
  {
   "cell_type": "code",
   "execution_count": 104,
   "id": "fd86b82f",
   "metadata": {},
   "outputs": [
    {
     "data": {
      "text/plain": [
       "{'Feb': 28, 'March': 31, 'Apr': 30}"
      ]
     },
     "execution_count": 104,
     "metadata": {},
     "output_type": "execute_result"
    }
   ],
   "source": [
    "my_dict"
   ]
  },
  {
   "cell_type": "code",
   "execution_count": 47,
   "id": "45668714",
   "metadata": {},
   "outputs": [
    {
     "data": {
      "text/plain": [
       "(4, 'April')"
      ]
     },
     "execution_count": 47,
     "metadata": {},
     "output_type": "execute_result"
    }
   ],
   "source": [
    "#if not provided anything then automatically removes the last element of a dictionary.\n",
    "my_dict.popitem()"
   ]
  },
  {
   "cell_type": "code",
   "execution_count": 53,
   "id": "8bc9283a",
   "metadata": {},
   "outputs": [],
   "source": [
    "#setfault() function is used to provide the default value to a value of key when not present.\n",
    "my_dict.setdefault(\"May\")"
   ]
  },
  {
   "cell_type": "code",
   "execution_count": 52,
   "id": "1bcdab47",
   "metadata": {},
   "outputs": [
    {
     "data": {
      "text/plain": [
       "{'Jan': 31,\n",
       " 'Feb': 28,\n",
       " 'March': 31,\n",
       " 'Apr': 30,\n",
       " 2: 'Feb',\n",
       " 3: 'March',\n",
       " 'May': None}"
      ]
     },
     "execution_count": 52,
     "metadata": {},
     "output_type": "execute_result"
    }
   ],
   "source": [
    "my_dict"
   ]
  },
  {
   "cell_type": "code",
   "execution_count": 54,
   "id": "f6a8f544",
   "metadata": {},
   "outputs": [
    {
     "data": {
      "text/plain": [
       "True"
      ]
     },
     "execution_count": 54,
     "metadata": {},
     "output_type": "execute_result"
    }
   ],
   "source": [
    "# checking for element present or not\n",
    "'Jan' in my_dict"
   ]
  },
  {
   "cell_type": "code",
   "execution_count": 55,
   "id": "0e936ee6",
   "metadata": {},
   "outputs": [
    {
     "data": {
      "text/plain": [
       "False"
      ]
     },
     "execution_count": 55,
     "metadata": {},
     "output_type": "execute_result"
    }
   ],
   "source": [
    "'sept' in my_dict"
   ]
  },
  {
   "cell_type": "code",
   "execution_count": 56,
   "id": "eecdb620",
   "metadata": {},
   "outputs": [
    {
     "data": {
      "text/plain": [
       "True"
      ]
     },
     "execution_count": 56,
     "metadata": {},
     "output_type": "execute_result"
    }
   ],
   "source": [
    "'Aug' not in my_dict"
   ]
  },
  {
   "cell_type": "code",
   "execution_count": 89,
   "id": "58ac6775",
   "metadata": {},
   "outputs": [
    {
     "name": "stdout",
     "output_type": "stream",
     "text": [
      "('Jan', 31)\n",
      "('Feb', 28)\n",
      "('March', 31)\n",
      "('Apr', 30)\n",
      "(2, 'Feb')\n",
      "(3, 'March')\n",
      "('May', None)\n",
      "<class 'tuple'>\n"
     ]
    },
    {
     "data": {
      "text/plain": [
       "dict"
      ]
     },
     "execution_count": 89,
     "metadata": {},
     "output_type": "execute_result"
    }
   ],
   "source": [
    "# itterating the dictionary\n",
    "for i in my_dict.items():\n",
    "    print(i)\n",
    "    \n",
    "print(type(i))\n",
    "\n",
    "type(my_dict)\n"
   ]
  },
  {
   "cell_type": "code",
   "execution_count": 96,
   "id": "dff21347",
   "metadata": {},
   "outputs": [
    {
     "name": "stdout",
     "output_type": "stream",
     "text": [
      "(('Jan', 31), ('Feb', 28), ('March', 31), ('Apr', 30), (2, 'Feb'), (3, 'March'), ('May', None))\n",
      "31\n"
     ]
    }
   ],
   "source": [
    "#converting the dict into tuple then indexing to get the particular values\n",
    "\n",
    "t_dict=tuple(my_dict.items())\n",
    "\n",
    "print(t_dict)\n",
    "\n",
    "t_dict[0:4:2]\n",
    "\n",
    "print(t_dict[0][1]) # here i get the value of Jan"
   ]
  },
  {
   "cell_type": "code",
   "execution_count": 97,
   "id": "b7c85f93",
   "metadata": {},
   "outputs": [
    {
     "data": {
      "text/plain": [
       "dict"
      ]
     },
     "execution_count": 97,
     "metadata": {},
     "output_type": "execute_result"
    }
   ],
   "source": [
    "type(my_dict)"
   ]
  },
  {
   "cell_type": "code",
   "execution_count": 107,
   "id": "82d45ec6",
   "metadata": {},
   "outputs": [
    {
     "ename": "IndentationError",
     "evalue": "unexpected indent (2906541089.py, line 2)",
     "output_type": "error",
     "traceback": [
      "\u001b[1;36m  Cell \u001b[1;32mIn[107], line 2\u001b[1;36m\u001b[0m\n\u001b[1;33m    my_dict.clear()\u001b[0m\n\u001b[1;37m    ^\u001b[0m\n\u001b[1;31mIndentationError\u001b[0m\u001b[1;31m:\u001b[0m unexpected indent\n"
     ]
    }
   ],
   "source": [
    "# clear() function is  used to cleared the data of dictionary and gives us the empty dictionary.\n",
    " my_dict.clear()"
   ]
  },
  {
   "cell_type": "code",
   "execution_count": 108,
   "id": "804f1b42",
   "metadata": {},
   "outputs": [
    {
     "data": {
      "text/plain": [
       "{}"
      ]
     },
     "execution_count": 108,
     "metadata": {},
     "output_type": "execute_result"
    }
   ],
   "source": [
    "my_dict"
   ]
  },
  {
   "cell_type": "code",
   "execution_count": 109,
   "id": "c73b7b3d",
   "metadata": {},
   "outputs": [
    {
     "data": {
      "text/plain": [
       "{'I': 1, 'V': 5, 'X': 10, 'L': 50, 'C': 100, 'D': 500, 'M': 1000}"
      ]
     },
     "execution_count": 109,
     "metadata": {},
     "output_type": "execute_result"
    }
   ],
   "source": [
    "letter_dict = { 'I':1, 'V':5, 'X':10, 'L':50, 'C':100, 'D':500, \"M\":1000}\n",
    "letter_dict"
   ]
  },
  {
   "cell_type": "code",
   "execution_count": 110,
   "id": "06308661",
   "metadata": {},
   "outputs": [
    {
     "name": "stdout",
     "output_type": "stream",
     "text": [
      "I\n",
      "V\n",
      "X\n",
      "L\n",
      "C\n",
      "D\n",
      "M\n"
     ]
    }
   ],
   "source": [
    "for i in letter_dict:\n",
    "    print(i)"
   ]
  },
  {
   "cell_type": "code",
   "execution_count": 113,
   "id": "e35aa061",
   "metadata": {},
   "outputs": [
    {
     "name": "stdout",
     "output_type": "stream",
     "text": [
      "I\n",
      "V\n",
      "X\n",
      "L\n",
      "C\n",
      "D\n",
      "M\n"
     ]
    }
   ],
   "source": [
    "for i in letter_dict.keys():\n",
    "    print(i)"
   ]
  },
  {
   "cell_type": "code",
   "execution_count": 122,
   "id": "1ca6ab52",
   "metadata": {},
   "outputs": [
    {
     "name": "stdout",
     "output_type": "stream",
     "text": [
      "1\n",
      "5\n",
      "10\n",
      "50\n",
      "100\n",
      "500\n",
      "1000\n",
      "\n",
      "1000\n"
     ]
    }
   ],
   "source": [
    "# gettings it values \n",
    "for i in letter_dict.values():\n",
    "    print(i)\n",
    "\n",
    "   \n",
    "print()\n",
    "print(i)"
   ]
  },
  {
   "cell_type": "code",
   "execution_count": 121,
   "id": "f0b576c6",
   "metadata": {},
   "outputs": [
    {
     "name": "stdout",
     "output_type": "stream",
     "text": [
      "('I', 1)\n",
      "('V', 5)\n",
      "('X', 10)\n",
      "('L', 50)\n",
      "('C', 100)\n",
      "('D', 500)\n",
      "('M', 1000)\n",
      "\n",
      "('M', 1000)\n"
     ]
    }
   ],
   "source": [
    "# now getting both key and its values.\n",
    "for i in letter_dict.items():\n",
    "    print(i)\n",
    "    \n",
    "    \n",
    "\n",
    "print()    \n",
    "print(i)"
   ]
  },
  {
   "cell_type": "code",
   "execution_count": 124,
   "id": "4a467d6e",
   "metadata": {},
   "outputs": [
    {
     "name": "stdout",
     "output_type": "stream",
     "text": [
      "I    1\n",
      "V    5\n",
      "X    10\n",
      "L    50\n",
      "C    100\n",
      "D    500\n",
      "M    1000\n"
     ]
    }
   ],
   "source": [
    "#through indexing. getting keys and its value\n",
    "\n",
    "for i in letter_dict.keys():\n",
    "    print(i,\"  \",letter_dict[i])"
   ]
  },
  {
   "cell_type": "code",
   "execution_count": null,
   "id": "857cd52a",
   "metadata": {},
   "outputs": [],
   "source": []
  }
 ],
 "metadata": {
  "kernelspec": {
   "display_name": "Python 3 (ipykernel)",
   "language": "python",
   "name": "python3"
  },
  "language_info": {
   "codemirror_mode": {
    "name": "ipython",
    "version": 3
   },
   "file_extension": ".py",
   "mimetype": "text/x-python",
   "name": "python",
   "nbconvert_exporter": "python",
   "pygments_lexer": "ipython3",
   "version": "3.10.9"
  }
 },
 "nbformat": 4,
 "nbformat_minor": 5
}
