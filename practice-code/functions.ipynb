{
 "cells": [
  {
   "cell_type": "markdown",
   "id": "f92d40fd",
   "metadata": {},
   "source": [
    "### Function"
   ]
  },
  {
   "cell_type": "markdown",
   "id": "90d10dc0",
   "metadata": {},
   "source": [
    "(1).function can be built-in and user_defined functions or methods that are used to call the values present in a function.\n",
    "\n",
    "     \n",
    "       "
   ]
  },
  {
   "cell_type": "code",
   "execution_count": 4,
   "id": "9fa09aaa",
   "metadata": {},
   "outputs": [],
   "source": [
    "#Syntax:\n",
    "def a():\n",
    "    return"
   ]
  },
  {
   "cell_type": "code",
   "execution_count": 5,
   "id": "94486947",
   "metadata": {},
   "outputs": [],
   "source": [
    "# making name storing function.\n",
    "def name():\n",
    "    li=[]\n",
    "    num=5\n",
    "    for i in range(num):\n",
    "        user_name=input(\"Enter your name\\n\")\n",
    "        li.append(user_name)\n",
    "    return li\n"
   ]
  },
  {
   "cell_type": "code",
   "execution_count": 6,
   "id": "434c9005",
   "metadata": {},
   "outputs": [
    {
     "name": "stdout",
     "output_type": "stream",
     "text": [
      "Enter your name\n",
      "saurabh\n",
      "Enter your name\n",
      "yogesh\n",
      "Enter your name\n",
      "abhishek\n",
      "Enter your name\n",
      "vicky\n",
      "Enter your name\n",
      "lucas\n"
     ]
    },
    {
     "data": {
      "text/plain": [
       "['saurabh', 'yogesh', 'abhishek', 'vicky', 'lucas']"
      ]
     },
     "execution_count": 6,
     "metadata": {},
     "output_type": "execute_result"
    }
   ],
   "source": [
    "name()"
   ]
  },
  {
   "cell_type": "code",
   "execution_count": 10,
   "id": "b48d367b",
   "metadata": {},
   "outputs": [],
   "source": [
    "# making functions based on *args\n",
    "def add(a,b):\n",
    "    c=a+b\n",
    "    return c"
   ]
  },
  {
   "cell_type": "code",
   "execution_count": 11,
   "id": "6c77b1c0",
   "metadata": {},
   "outputs": [
    {
     "data": {
      "text/plain": [
       "5"
      ]
     },
     "execution_count": 11,
     "metadata": {},
     "output_type": "execute_result"
    }
   ],
   "source": [
    "add(2,3)"
   ]
  },
  {
   "cell_type": "code",
   "execution_count": 19,
   "id": "4adc33fd",
   "metadata": {},
   "outputs": [],
   "source": [
    "#basic substraction calculation code\n",
    "def sub(a,b):\n",
    "    print(\"Subtraction of given number\\n\")\n",
    "    return print(a,\"-\",b,\"=\",a-b)\n"
   ]
  },
  {
   "cell_type": "code",
   "execution_count": 21,
   "id": "61623e10",
   "metadata": {},
   "outputs": [
    {
     "name": "stdout",
     "output_type": "stream",
     "text": [
      "Subtraction of given number\n",
      "\n",
      "15 - 3 = 12\n"
     ]
    }
   ],
   "source": [
    "sub(15,3)"
   ]
  },
  {
   "cell_type": "code",
   "execution_count": 29,
   "id": "789b72d8",
   "metadata": {},
   "outputs": [],
   "source": [
    "# square number function\n",
    "def sqr(a):\n",
    "    print(\"Square number\")\n",
    "    b=a**2\n",
    "    return b\n",
    "    "
   ]
  },
  {
   "cell_type": "code",
   "execution_count": 30,
   "id": "057e1a15",
   "metadata": {},
   "outputs": [
    {
     "name": "stdout",
     "output_type": "stream",
     "text": [
      "Square number\n"
     ]
    },
    {
     "data": {
      "text/plain": [
       "100"
      ]
     },
     "execution_count": 30,
     "metadata": {},
     "output_type": "execute_result"
    }
   ],
   "source": [
    "sqr(10)"
   ]
  },
  {
   "cell_type": "code",
   "execution_count": 54,
   "id": "88227588",
   "metadata": {},
   "outputs": [],
   "source": [
    "# function for area of cricle:\n",
    "def circle_area(radius):\n",
    "    a_c=3.14*radius*radius\n",
    "    print(\"Area of circle\\n\")\n",
    "    return a_c\n",
    "        "
   ]
  },
  {
   "cell_type": "code",
   "execution_count": 57,
   "id": "868a1186",
   "metadata": {},
   "outputs": [
    {
     "name": "stdout",
     "output_type": "stream",
     "text": [
      "Area of circle\n",
      "\n"
     ]
    },
    {
     "data": {
      "text/plain": [
       "3.14"
      ]
     },
     "execution_count": 57,
     "metadata": {},
     "output_type": "execute_result"
    }
   ],
   "source": [
    "circle_area(1)"
   ]
  },
  {
   "cell_type": "code",
   "execution_count": 72,
   "id": "b14c3df0",
   "metadata": {},
   "outputs": [],
   "source": [
    "# table generating function:\n",
    "def table(a):\n",
    "    n=11\n",
    "    for i in range(n):\n",
    "        print(a,\"*\",i,\"=\",a*i)\n",
    "        \n",
    "    return "
   ]
  },
  {
   "cell_type": "code",
   "execution_count": 73,
   "id": "e31110cd",
   "metadata": {},
   "outputs": [
    {
     "name": "stdout",
     "output_type": "stream",
     "text": [
      "5 * 0 = 0\n",
      "5 * 1 = 5\n",
      "5 * 2 = 10\n",
      "5 * 3 = 15\n",
      "5 * 4 = 20\n",
      "5 * 5 = 25\n",
      "5 * 6 = 30\n",
      "5 * 7 = 35\n",
      "5 * 8 = 40\n",
      "5 * 9 = 45\n",
      "5 * 10 = 50\n"
     ]
    }
   ],
   "source": [
    "table(5)"
   ]
  },
  {
   "cell_type": "code",
   "execution_count": 74,
   "id": "f69423df",
   "metadata": {},
   "outputs": [
    {
     "name": "stdout",
     "output_type": "stream",
     "text": [
      "100 * 0 = 0\n",
      "100 * 1 = 100\n",
      "100 * 2 = 200\n",
      "100 * 3 = 300\n",
      "100 * 4 = 400\n",
      "100 * 5 = 500\n",
      "100 * 6 = 600\n",
      "100 * 7 = 700\n",
      "100 * 8 = 800\n",
      "100 * 9 = 900\n",
      "100 * 10 = 1000\n"
     ]
    }
   ],
   "source": [
    "table(100)"
   ]
  },
  {
   "cell_type": "code",
   "execution_count": 75,
   "id": "54c0668a",
   "metadata": {},
   "outputs": [
    {
     "ename": "SyntaxError",
     "evalue": "invalid syntax (1152782067.py, line 1)",
     "output_type": "error",
     "traceback": [
      "\u001b[1;36m  Cell \u001b[1;32mIn[75], line 1\u001b[1;36m\u001b[0m\n\u001b[1;33m    def if():\u001b[0m\n\u001b[1;37m        ^\u001b[0m\n\u001b[1;31mSyntaxError\u001b[0m\u001b[1;31m:\u001b[0m invalid syntax\n"
     ]
    }
   ],
   "source": []
  },
  {
   "cell_type": "code",
   "execution_count": 28,
   "id": "18615d36",
   "metadata": {},
   "outputs": [],
   "source": [
    "def even_num_list():\n",
    "    num=int(input(\"provide us the range of a number\\n\"))\n",
    "    print()\n",
    "    for i in range(num):\n",
    "        if i%2==0:\n",
    "            print(i)\n",
    "    return \n"
   ]
  },
  {
   "cell_type": "code",
   "execution_count": 29,
   "id": "b8d56fbf",
   "metadata": {},
   "outputs": [
    {
     "name": "stdout",
     "output_type": "stream",
     "text": [
      "provide us the range of a number\n",
      "22\n",
      "\n",
      "0\n",
      "2\n",
      "4\n",
      "6\n",
      "8\n",
      "10\n",
      "12\n",
      "14\n",
      "16\n",
      "18\n",
      "20\n"
     ]
    }
   ],
   "source": [
    "even_num_list()"
   ]
  },
  {
   "cell_type": "code",
   "execution_count": 22,
   "id": "f0ecf6b5",
   "metadata": {},
   "outputs": [],
   "source": [
    "def odd_num_list(num):\n",
    "    for i in range(num):\n",
    "        if i%2!=0:\n",
    "            print(i)\n",
    "            "
   ]
  },
  {
   "cell_type": "code",
   "execution_count": 23,
   "id": "142efa4e",
   "metadata": {},
   "outputs": [
    {
     "name": "stdout",
     "output_type": "stream",
     "text": [
      "1\n",
      "3\n",
      "5\n",
      "7\n",
      "9\n",
      "11\n",
      "13\n",
      "15\n",
      "17\n",
      "19\n"
     ]
    }
   ],
   "source": [
    "odd_num_list(21)"
   ]
  },
  {
   "cell_type": "markdown",
   "id": "dc5b934f",
   "metadata": {},
   "source": [
    "##### Write a function that takes two numbers as arguments and returns their sum."
   ]
  },
  {
   "cell_type": "code",
   "execution_count": 1,
   "id": "41ccea12",
   "metadata": {},
   "outputs": [],
   "source": [
    "def addition(a,b):\n",
    "    return a+b"
   ]
  },
  {
   "cell_type": "code",
   "execution_count": 2,
   "id": "4f2c9303",
   "metadata": {},
   "outputs": [
    {
     "data": {
      "text/plain": [
       "10"
      ]
     },
     "execution_count": 2,
     "metadata": {},
     "output_type": "execute_result"
    }
   ],
   "source": [
    "addition(5,5)"
   ]
  },
  {
   "cell_type": "code",
   "execution_count": null,
   "id": "67686b95",
   "metadata": {},
   "outputs": [],
   "source": []
  },
  {
   "cell_type": "markdown",
   "id": "04ff5357",
   "metadata": {},
   "source": [
    "##### 2.Create a function that calculates the factorial of a given number."
   ]
  },
  {
   "cell_type": "code",
   "execution_count": 3,
   "id": "eb8d7a72",
   "metadata": {},
   "outputs": [],
   "source": [
    "def factorial(num):\n",
    "    fact=1\n",
    "    for i in range(1,num+1):\n",
    "        fact=fact*i\n",
    "    return fact"
   ]
  },
  {
   "cell_type": "code",
   "execution_count": 5,
   "id": "3ec84eba",
   "metadata": {},
   "outputs": [
    {
     "data": {
      "text/plain": [
       "720"
      ]
     },
     "execution_count": 5,
     "metadata": {},
     "output_type": "execute_result"
    }
   ],
   "source": [
    "factorial(6)"
   ]
  },
  {
   "cell_type": "code",
   "execution_count": null,
   "id": "9c53d9d7",
   "metadata": {},
   "outputs": [],
   "source": []
  },
  {
   "cell_type": "markdown",
   "id": "79faad7f",
   "metadata": {},
   "source": [
    "##### 3.Define a function that checks whether a number is even or odd."
   ]
  },
  {
   "cell_type": "code",
   "execution_count": 6,
   "id": "523d8518",
   "metadata": {},
   "outputs": [],
   "source": [
    "def check_even_odd(num):\n",
    "    if num%2==0:\n",
    "        print(f\"{num} is a even number.\")\n",
    "    else:\n",
    "        print(f\"{num} is a odd number.\")\n",
    "    return"
   ]
  },
  {
   "cell_type": "code",
   "execution_count": 9,
   "id": "ccc92acd",
   "metadata": {},
   "outputs": [
    {
     "name": "stdout",
     "output_type": "stream",
     "text": [
      "1000 is a even number.\n"
     ]
    }
   ],
   "source": [
    "check_even_odd(1000)"
   ]
  },
  {
   "cell_type": "code",
   "execution_count": null,
   "id": "8be258cf",
   "metadata": {},
   "outputs": [],
   "source": []
  },
  {
   "cell_type": "markdown",
   "id": "33b64d03",
   "metadata": {},
   "source": [
    "##### 4.Write a function to find the maximum of three numbers."
   ]
  },
  {
   "cell_type": "code",
   "execution_count": 10,
   "id": "506c068e",
   "metadata": {},
   "outputs": [],
   "source": [
    "def maxi_num(a,b,c):\n",
    "    return max(a,b,c)"
   ]
  },
  {
   "cell_type": "code",
   "execution_count": 11,
   "id": "3f4c1abf",
   "metadata": {},
   "outputs": [
    {
     "data": {
      "text/plain": [
       "4"
      ]
     },
     "execution_count": 11,
     "metadata": {},
     "output_type": "execute_result"
    }
   ],
   "source": [
    "maxi_num(3,4,2)"
   ]
  },
  {
   "cell_type": "code",
   "execution_count": null,
   "id": "3348836f",
   "metadata": {},
   "outputs": [],
   "source": []
  },
  {
   "cell_type": "markdown",
   "id": "aba45d13",
   "metadata": {},
   "source": [
    "##### 5. Create a function that reverses a given string."
   ]
  },
  {
   "cell_type": "code",
   "execution_count": 12,
   "id": "81fd19c0",
   "metadata": {},
   "outputs": [],
   "source": [
    "def reverse_str(string):\n",
    "    c=string[::-1]\n",
    "    return c"
   ]
  },
  {
   "cell_type": "code",
   "execution_count": 13,
   "id": "4a078826",
   "metadata": {},
   "outputs": [
    {
     "data": {
      "text/plain": [
       "'hbaruaS'"
      ]
     },
     "execution_count": 13,
     "metadata": {},
     "output_type": "execute_result"
    }
   ],
   "source": [
    "reverse_str(\"Saurabh\")"
   ]
  },
  {
   "cell_type": "code",
   "execution_count": null,
   "id": "6ba0b0b9",
   "metadata": {},
   "outputs": [],
   "source": []
  },
  {
   "cell_type": "markdown",
   "id": "a5aa4a49",
   "metadata": {},
   "source": [
    "##### 6. Define a function that checks if a string is a palindrome."
   ]
  },
  {
   "cell_type": "code",
   "execution_count": 14,
   "id": "65c0e87d",
   "metadata": {},
   "outputs": [],
   "source": [
    "def palindrome(a):\n",
    "    if a==a[::-1]:\n",
    "        print(f\"{a} is a palindrome.\")\n",
    "        \n",
    "    else:\n",
    "        print(f\"{a} is not a palindrome.\")\n",
    "        \n",
    "    return"
   ]
  },
  {
   "cell_type": "code",
   "execution_count": 17,
   "id": "7b53c802",
   "metadata": {},
   "outputs": [
    {
     "name": "stdout",
     "output_type": "stream",
     "text": [
      "dzd is a palindrome.\n"
     ]
    }
   ],
   "source": [
    "palindrome('dzd')"
   ]
  },
  {
   "cell_type": "code",
   "execution_count": null,
   "id": "6e03c2a8",
   "metadata": {},
   "outputs": [],
   "source": []
  },
  {
   "cell_type": "markdown",
   "id": "14621aea",
   "metadata": {},
   "source": [
    "##### 7.Write a function that takes a list of numbers and returns the average."
   ]
  },
  {
   "cell_type": "code",
   "execution_count": 22,
   "id": "bd88863c",
   "metadata": {},
   "outputs": [],
   "source": [
    "def list_avg(*a):\n",
    "    l1=[]\n",
    "    for i in a:\n",
    "        l1.append(i)\n",
    "    c=sum(l1)//len(l1) # i used // to get the int division of a number.\n",
    "    return c"
   ]
  },
  {
   "cell_type": "code",
   "execution_count": 23,
   "id": "d5fd0a17",
   "metadata": {},
   "outputs": [
    {
     "data": {
      "text/plain": [
       "3"
      ]
     },
     "execution_count": 23,
     "metadata": {},
     "output_type": "execute_result"
    }
   ],
   "source": [
    "list_avg(1,2,3,4,5)"
   ]
  },
  {
   "cell_type": "code",
   "execution_count": null,
   "id": "bac11aa5",
   "metadata": {},
   "outputs": [],
   "source": []
  },
  {
   "cell_type": "markdown",
   "id": "ff431e05",
   "metadata": {},
   "source": [
    "##### 8. Define a function that calculates the area of a circle given its radius."
   ]
  },
  {
   "cell_type": "code",
   "execution_count": 27,
   "id": "abdbba66",
   "metadata": {},
   "outputs": [],
   "source": [
    "def area_of_circle(radius):\n",
    "    a_c=3.14*radius*radius  # here i can do radius**2 as well.\n",
    "    return a_c"
   ]
  },
  {
   "cell_type": "code",
   "execution_count": 26,
   "id": "40aaf366",
   "metadata": {},
   "outputs": [
    {
     "data": {
      "text/plain": [
       "78.5"
      ]
     },
     "execution_count": 26,
     "metadata": {},
     "output_type": "execute_result"
    }
   ],
   "source": [
    "area_of_circle(5)"
   ]
  },
  {
   "cell_type": "code",
   "execution_count": 28,
   "id": "48812227",
   "metadata": {},
   "outputs": [
    {
     "data": {
      "text/plain": [
       "78.5"
      ]
     },
     "execution_count": 28,
     "metadata": {},
     "output_type": "execute_result"
    }
   ],
   "source": [
    "area_of_circle(5)"
   ]
  },
  {
   "cell_type": "code",
   "execution_count": null,
   "id": "92309952",
   "metadata": {},
   "outputs": [],
   "source": []
  },
  {
   "cell_type": "markdown",
   "id": "2d570441",
   "metadata": {},
   "source": [
    "##### 9.Write a function to convert Celsius to Fahrenheit."
   ]
  },
  {
   "cell_type": "code",
   "execution_count": 40,
   "id": "5a63c19a",
   "metadata": {},
   "outputs": [],
   "source": [
    "def celsius_2_fahrenheit(a):\n",
    "    f=(a*9/5)+32    # fromula for converting cel to fahre\n",
    "    return print(f\"{f} F\")"
   ]
  },
  {
   "cell_type": "code",
   "execution_count": 41,
   "id": "63561746",
   "metadata": {},
   "outputs": [
    {
     "name": "stdout",
     "output_type": "stream",
     "text": [
      "33.8 F\n"
     ]
    }
   ],
   "source": [
    "celsius_2_fahrenheit(1)"
   ]
  },
  {
   "cell_type": "markdown",
   "id": "994d7c8b",
   "metadata": {},
   "source": [
    "##### 10. Create a function that counts the occurrences of a specific element in a list."
   ]
  },
  {
   "cell_type": "code",
   "execution_count": 60,
   "id": "84d1bfc2",
   "metadata": {},
   "outputs": [],
   "source": [
    "def count_list_occurance():\n",
    "    l1=[1,2,3,4,1]\n",
    "    s=set(l1)\n",
    "    for i in s:\n",
    "        c=l1.count(i)\n",
    "        print(i,\"=\",c,\"times\")\n",
    "        \n",
    "    return \n",
    "    "
   ]
  },
  {
   "cell_type": "code",
   "execution_count": 61,
   "id": "d3e670a6",
   "metadata": {},
   "outputs": [
    {
     "name": "stdout",
     "output_type": "stream",
     "text": [
      "1 = 2 times\n",
      "2 = 1 times\n",
      "3 = 1 times\n",
      "4 = 1 times\n"
     ]
    }
   ],
   "source": [
    "count_list_occurance()"
   ]
  },
  {
   "cell_type": "code",
   "execution_count": 88,
   "id": "ceeaa96f",
   "metadata": {},
   "outputs": [],
   "source": [
    "# user input list count function.\n",
    "def count_li(*a):\n",
    "    b=[]\n",
    "    for i in a:\n",
    "        b.append(i)\n",
    "    s=set(b)\n",
    "    for j in s:\n",
    "        c=b.count(j)\n",
    "        print(j,\" --> \",c,\"times\")\n",
    "        \n",
    "    return \n",
    "        "
   ]
  },
  {
   "cell_type": "code",
   "execution_count": 89,
   "id": "693a3e92",
   "metadata": {},
   "outputs": [
    {
     "name": "stdout",
     "output_type": "stream",
     "text": [
      "1  -->  2 times\n",
      "2  -->  2 times\n",
      "3  -->  1 times\n",
      "5  -->  1 times\n",
      "6  -->  1 times\n"
     ]
    }
   ],
   "source": [
    "count_li(1,2,3,2,1,5,6)"
   ]
  },
  {
   "cell_type": "code",
   "execution_count": null,
   "id": "d31d95c4",
   "metadata": {},
   "outputs": [],
   "source": []
  },
  {
   "cell_type": "markdown",
   "id": "92113363",
   "metadata": {},
   "source": [
    "##### 11.Define a function that takes a list of integers and returns a new list with only the even numbers."
   ]
  },
  {
   "cell_type": "code",
   "execution_count": 102,
   "id": "9d648ba3",
   "metadata": {},
   "outputs": [],
   "source": [
    "def even_num_list(*a):\n",
    "    l1_int=[]\n",
    "    for i in a:\n",
    "        l1_int.append(i) # appended the user provided number in a list\n",
    "        \n",
    "    l2_even=[]        # created a new list for stroing the even numbers in it from the user provided numbers\n",
    "    for j in l1_int:\n",
    "        if j%2==0:\n",
    "            l2_even.append(j)  # stored a numbers in a l2_even list\n",
    "    c=sorted(l2_even)          # sorted() is used here to arrange the data in a ascending order.\n",
    "    \n",
    "    return print(f\"original list\\n{l1_int}\\n\\nEven list\\n{c}\")"
   ]
  },
  {
   "cell_type": "code",
   "execution_count": 103,
   "id": "74fa9769",
   "metadata": {},
   "outputs": [
    {
     "name": "stdout",
     "output_type": "stream",
     "text": [
      "original list\n",
      "[1, 2, 3, 4, 5, 6, 7, 8, 9, 0, 100, 200, 13, 14]\n",
      "\n",
      "Even list\n",
      "[0, 2, 4, 6, 8, 14, 100, 200]\n"
     ]
    }
   ],
   "source": [
    "even_num_list(1,2,3,4,5,6,7,8,9,0,100,200,13,14)"
   ]
  },
  {
   "cell_type": "code",
   "execution_count": null,
   "id": "fa82b5a3",
   "metadata": {},
   "outputs": [],
   "source": []
  },
  {
   "cell_type": "markdown",
   "id": "daf7b120",
   "metadata": {},
   "source": [
    "##### 12. Write a function that concatenates two lists."
   ]
  },
  {
   "cell_type": "code",
   "execution_count": 116,
   "id": "dde1bc30",
   "metadata": {},
   "outputs": [],
   "source": [
    "def combine_list(list1,list2):\n",
    "    c=list1+list2\n",
    "    return c"
   ]
  },
  {
   "cell_type": "code",
   "execution_count": 117,
   "id": "53e1005e",
   "metadata": {},
   "outputs": [
    {
     "data": {
      "text/plain": [
       "[1, 2, 3, 4, 5, 6, 7, 8, 9, 0]"
      ]
     },
     "execution_count": 117,
     "metadata": {},
     "output_type": "execute_result"
    }
   ],
   "source": [
    "a=[1,2,3,4,5]\n",
    "b=[6,7,8,9,0]\n",
    "combine_list(a,b)\n",
    "\n"
   ]
  },
  {
   "cell_type": "code",
   "execution_count": null,
   "id": "1302ca47",
   "metadata": {},
   "outputs": [],
   "source": []
  },
  {
   "cell_type": "markdown",
   "id": "b523c5f6",
   "metadata": {},
   "source": [
    "##### 13. Define a function that takes a list of strings and returns the longest one."
   ]
  },
  {
   "cell_type": "code",
   "execution_count": 141,
   "id": "2ad317ca",
   "metadata": {},
   "outputs": [],
   "source": [
    "def longest_one(*a):\n",
    "    l1=[]\n",
    "    for i in a:\n",
    "        if type(i)==str:\n",
    "            l1.append(i)\n",
    "            \n",
    "    return max(l1,key=len)"
   ]
  },
  {
   "cell_type": "code",
   "execution_count": 143,
   "id": "077f320b",
   "metadata": {},
   "outputs": [
    {
     "data": {
      "text/plain": [
       "'asdfghkq'"
      ]
     },
     "execution_count": 143,
     "metadata": {},
     "output_type": "execute_result"
    }
   ],
   "source": [
    "longest_one('1','saurabh','asdfghkq')"
   ]
  },
  {
   "cell_type": "code",
   "execution_count": null,
   "id": "ceb9624a",
   "metadata": {},
   "outputs": [],
   "source": []
  },
  {
   "cell_type": "markdown",
   "id": "8c1e40b2",
   "metadata": {},
   "source": [
    "##### 14. Write a function that sorts a list of integers in ascending order."
   ]
  },
  {
   "cell_type": "code",
   "execution_count": 194,
   "id": "148eb9e5",
   "metadata": {},
   "outputs": [],
   "source": [
    "def sort_list(list1):\n",
    "    if type(list1)==list:\n",
    "        c=sorted(list1)\n",
    "    \n",
    " \n",
    "        \n",
    "    \n",
    "    return c "
   ]
  },
  {
   "cell_type": "code",
   "execution_count": 196,
   "id": "93be5a7c",
   "metadata": {},
   "outputs": [
    {
     "ename": "UnboundLocalError",
     "evalue": "local variable 'c' referenced before assignment",
     "output_type": "error",
     "traceback": [
      "\u001b[1;31m---------------------------------------------------------------------------\u001b[0m",
      "\u001b[1;31mUnboundLocalError\u001b[0m                         Traceback (most recent call last)",
      "Cell \u001b[1;32mIn[196], line 3\u001b[0m\n\u001b[0;32m      1\u001b[0m a\u001b[38;5;241m=\u001b[39m[\u001b[38;5;241m1\u001b[39m,\u001b[38;5;241m5\u001b[39m,\u001b[38;5;241m6\u001b[39m,\u001b[38;5;241m7\u001b[39m,\u001b[38;5;241m2\u001b[39m,\u001b[38;5;241m3\u001b[39m,\u001b[38;5;241m4\u001b[39m,\u001b[38;5;241m9\u001b[39m,\u001b[38;5;241m0\u001b[39m]\n\u001b[0;32m      2\u001b[0m b\u001b[38;5;241m=\u001b[39m(\u001b[38;5;241m0\u001b[39m,\u001b[38;5;241m9\u001b[39m,\u001b[38;5;241m8\u001b[39m,\u001b[38;5;241m7\u001b[39m,\u001b[38;5;241m23\u001b[39m,\u001b[38;5;241m4\u001b[39m)\n\u001b[1;32m----> 3\u001b[0m \u001b[43msort_list\u001b[49m\u001b[43m(\u001b[49m\u001b[43mb\u001b[49m\u001b[43m)\u001b[49m\n",
      "Cell \u001b[1;32mIn[194], line 8\u001b[0m, in \u001b[0;36msort_list\u001b[1;34m(list1)\u001b[0m\n\u001b[0;32m      2\u001b[0m \u001b[38;5;28;01mif\u001b[39;00m \u001b[38;5;28mtype\u001b[39m(list1)\u001b[38;5;241m==\u001b[39m\u001b[38;5;28mlist\u001b[39m:\n\u001b[0;32m      3\u001b[0m     c\u001b[38;5;241m=\u001b[39m\u001b[38;5;28msorted\u001b[39m(list1)\n\u001b[1;32m----> 8\u001b[0m \u001b[38;5;28;01mreturn\u001b[39;00m \u001b[43mc\u001b[49m\n",
      "\u001b[1;31mUnboundLocalError\u001b[0m: local variable 'c' referenced before assignment"
     ]
    }
   ],
   "source": [
    "a=[1,5,6,7,2,3,4,9,0]\n",
    "b=(0,9,8,7,23,4)\n",
    "sort_list(b)"
   ]
  },
  {
   "cell_type": "code",
   "execution_count": 5,
   "id": "606a32f0",
   "metadata": {},
   "outputs": [],
   "source": [
    "# function to print the square star pattern.\n",
    "\n",
    "def square_star(a,b):\n",
    "    for i in range(a):\n",
    "        for j in range(b):\n",
    "            print(\"*\",end=\"  \")\n",
    "        print()\n",
    "    return\n",
    "    "
   ]
  },
  {
   "cell_type": "code",
   "execution_count": 6,
   "id": "8aa4b3d9",
   "metadata": {},
   "outputs": [
    {
     "name": "stdout",
     "output_type": "stream",
     "text": [
      "*  *  *  *  *  *  \n",
      "*  *  *  *  *  *  \n",
      "*  *  *  *  *  *  \n",
      "*  *  *  *  *  *  \n",
      "*  *  *  *  *  *  \n"
     ]
    }
   ],
   "source": [
    "square_star(5,6)"
   ]
  },
  {
   "cell_type": "code",
   "execution_count": null,
   "id": "9dd01baa",
   "metadata": {},
   "outputs": [],
   "source": []
  },
  {
   "cell_type": "code",
   "execution_count": 9,
   "id": "6e8a8764",
   "metadata": {},
   "outputs": [],
   "source": [
    "# right angle triangle pattern\n",
    "def right_angle_triangle(num):\n",
    "    for i in range(num):\n",
    "        for j in range(i+1):\n",
    "            print(\"*\",end=\" \")\n",
    "        print()\n",
    "        \n",
    "    return"
   ]
  },
  {
   "cell_type": "code",
   "execution_count": 10,
   "id": "f13538c6",
   "metadata": {},
   "outputs": [
    {
     "name": "stdout",
     "output_type": "stream",
     "text": [
      "* \n",
      "* * \n",
      "* * * \n",
      "* * * * \n",
      "* * * * * \n"
     ]
    }
   ],
   "source": [
    "right_angle_triangle(5)"
   ]
  },
  {
   "cell_type": "code",
   "execution_count": 18,
   "id": "69d9fa8d",
   "metadata": {},
   "outputs": [],
   "source": [
    "def ri_angle_triangle(num):\n",
    "    for i in range(num):\n",
    "        for j in range(i,num):\n",
    "            print(\"*\",end=\" \")\n",
    "        print()\n",
    "        \n",
    "    return"
   ]
  },
  {
   "cell_type": "code",
   "execution_count": 19,
   "id": "11a2ab79",
   "metadata": {},
   "outputs": [
    {
     "name": "stdout",
     "output_type": "stream",
     "text": [
      "* * * * * \n",
      "* * * * \n",
      "* * * \n",
      "* * \n",
      "* \n"
     ]
    }
   ],
   "source": [
    "ri_angle_triangle(5)"
   ]
  },
  {
   "cell_type": "code",
   "execution_count": null,
   "id": "51f058d5",
   "metadata": {},
   "outputs": [],
   "source": [
    " "
   ]
  }
 ],
 "metadata": {
  "kernelspec": {
   "display_name": "Python 3 (ipykernel)",
   "language": "python",
   "name": "python3"
  },
  "language_info": {
   "codemirror_mode": {
    "name": "ipython",
    "version": 3
   },
   "file_extension": ".py",
   "mimetype": "text/x-python",
   "name": "python",
   "nbconvert_exporter": "python",
   "pygments_lexer": "ipython3",
   "version": "3.10.9"
  }
 },
 "nbformat": 4,
 "nbformat_minor": 5
}
