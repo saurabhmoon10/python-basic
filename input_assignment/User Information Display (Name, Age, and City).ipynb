{
 "cells": [
  {
   "cell_type": "markdown",
   "id": "0a816806",
   "metadata": {},
   "source": [
    "### Write a program that prints the user to enter their name, age, and city. Then, print out a message that includes this information."
   ]
  },
  {
   "cell_type": "code",
   "execution_count": 2,
   "id": "eb1f80fb",
   "metadata": {},
   "outputs": [
    {
     "name": "stdout",
     "output_type": "stream",
     "text": [
      "Enter your name\n",
      "Saurabh\n",
      "Enter your age\n",
      "23\n",
      "Enter the city you lived in\n",
      "Nagpur\n",
      "Saurabh is 23 years old boy,lived in Nagpur.\n"
     ]
    }
   ],
   "source": [
    "try:\n",
    "    # asking user to enter theri name,age and city.\n",
    "    name=input(\"Enter your name\\n\")\n",
    "    age=int(input(\"Enter your age\\n\"))\n",
    "    city=input(\"Enter the city you lived in\\n\")\n",
    "    \n",
    "    print()\n",
    "    print(f\"{name} is {age} years old boy,lived in {city}.\")\n",
    "    \n",
    "except Exception as e:\n",
    "    print(e)"
   ]
  },
  {
   "cell_type": "code",
   "execution_count": null,
   "id": "a28be940",
   "metadata": {},
   "outputs": [],
   "source": []
  }
 ],
 "metadata": {
  "kernelspec": {
   "display_name": "Python 3 (ipykernel)",
   "language": "python",
   "name": "python3"
  },
  "language_info": {
   "codemirror_mode": {
    "name": "ipython",
    "version": 3
   },
   "file_extension": ".py",
   "mimetype": "text/x-python",
   "name": "python",
   "nbconvert_exporter": "python",
   "pygments_lexer": "ipython3",
   "version": "3.11.5"
  }
 },
 "nbformat": 4,
 "nbformat_minor": 5
}
