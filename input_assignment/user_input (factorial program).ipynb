{
 "cells": [
  {
   "cell_type": "markdown",
   "id": "9f971863",
   "metadata": {},
   "source": [
    "### Ask the user to enter a positive integer and calculate its factorial (e.g., 5! = 5 x 4 x 3 x 2 x 1 = 120)."
   ]
  },
  {
   "cell_type": "code",
   "execution_count": 9,
   "id": "edc34e18",
   "metadata": {},
   "outputs": [
    {
     "name": "stdout",
     "output_type": "stream",
     "text": [
      "Enter the value\n",
      "5\n",
      "The factorial of 5! is 120\n"
     ]
    }
   ],
   "source": [
    "try:\n",
    "    #taking import from user\n",
    "    user_input=int(input(\"Enter the value\\n\"))\n",
    "    fact=1\n",
    "    \n",
    "    #using for loop for iterating the value provided by the user.\n",
    "    for i in range(1,user_input+1):\n",
    "        fact=fact*i\n",
    "    print(f\"The factorial of {user_input}! is {fact}.\")\n",
    "    \n",
    "except Exception as e:\n",
    "    print(e)\n",
    "        "
   ]
  },
  {
   "cell_type": "code",
   "execution_count": null,
   "id": "bb0ba1e3",
   "metadata": {},
   "outputs": [],
   "source": []
  }
 ],
 "metadata": {
  "kernelspec": {
   "display_name": "Python 3 (ipykernel)",
   "language": "python",
   "name": "python3"
  },
  "language_info": {
   "codemirror_mode": {
    "name": "ipython",
    "version": 3
   },
   "file_extension": ".py",
   "mimetype": "text/x-python",
   "name": "python",
   "nbconvert_exporter": "python",
   "pygments_lexer": "ipython3",
   "version": "3.11.5"
  }
 },
 "nbformat": 4,
 "nbformat_minor": 5
}
