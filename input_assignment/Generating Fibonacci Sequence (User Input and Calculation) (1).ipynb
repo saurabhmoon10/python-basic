{
 "cells": [
  {
   "cell_type": "code",
   "execution_count": null,
   "id": "057027b5",
   "metadata": {},
   "outputs": [],
   "source": []
  },
  {
   "cell_type": "markdown",
   "id": "33277457",
   "metadata": {},
   "source": [
    "### Find a program that asks the user for a number and generates the first \"n\" numbers in the Fibonacci sequence."
   ]
  },
  {
   "cell_type": "code",
   "execution_count": 16,
   "id": "47efaef2",
   "metadata": {},
   "outputs": [
    {
     "name": "stdout",
     "output_type": "stream",
     "text": [
      "Enter the number of Fibonacci numbers to generate: 3\n",
      "The first 3 numbers in the Fibonacci sequence are:\n",
      "[0, 1, 1]\n"
     ]
    }
   ],
   "source": [
    "try:\n",
    "    # Ask the user for the number of Fibonacci numbers to generate\n",
    "    num = int(input(\"Enter the number of Fibonacci numbers to generate: \"))\n",
    "\n",
    "    # Initialize variables for the first two numbers in the sequence\n",
    "    a, b  = 0, 1\n",
    "\n",
    "    # Generate and display the Fibonacci sequence\n",
    "    fib_sequence = []\n",
    "    for i in range(num):\n",
    "        fib_sequence.append(a)\n",
    "        a, b = b, a + b\n",
    "\n",
    "    print(f\"The first {num} numbers in the Fibonacci sequence are:\")\n",
    "    print(fib_sequence)\n",
    "    \n",
    "except Exception as e:\n",
    "    print(e)"
   ]
  },
  {
   "cell_type": "code",
   "execution_count": null,
   "id": "1246905a",
   "metadata": {},
   "outputs": [],
   "source": []
  }
 ],
 "metadata": {
  "kernelspec": {
   "display_name": "Python 3 (ipykernel)",
   "language": "python",
   "name": "python3"
  },
  "language_info": {
   "codemirror_mode": {
    "name": "ipython",
    "version": 3
   },
   "file_extension": ".py",
   "mimetype": "text/x-python",
   "name": "python",
   "nbconvert_exporter": "python",
   "pygments_lexer": "ipython3",
   "version": "3.11.5"
  }
 },
 "nbformat": 4,
 "nbformat_minor": 5
}
