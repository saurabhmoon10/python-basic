{
 "cells": [
  {
   "cell_type": "markdown",
   "id": "fdd2420e",
   "metadata": {},
   "source": [
    "### Write a program that prompts the user to create a password. Check if the password meets certain criteria (e.g., minimum length, containing both letters and numbers)."
   ]
  },
  {
   "cell_type": "code",
   "execution_count": 1,
   "id": "3ba82517",
   "metadata": {},
   "outputs": [
    {
     "name": "stdout",
     "output_type": "stream",
     "text": [
      "Create a password: Saurabh@12\n",
      "Valid password! Good job!\n"
     ]
    }
   ],
   "source": [
    "try:\n",
    "    # Ask the user to create a password\n",
    "    user_password = input(\"Create a password: \")\n",
    "\n",
    "    # Check if the password meets the criteria\n",
    "    if len(user_password) >= 8 and any(char.isdigit() for char in user_password) and any(char.isalpha() for char in user_password):\n",
    "        print(\"Valid password! Good job!\")\n",
    "    else:\n",
    "        print(\"Invalid password. Password should be at least 8 characters long and contain both letters and numbers.\")\n",
    "        \n",
    "except Exception as e:\n",
    "    print(e)\n"
   ]
  },
  {
   "cell_type": "code",
   "execution_count": null,
   "id": "cf8b2e99",
   "metadata": {},
   "outputs": [],
   "source": []
  }
 ],
 "metadata": {
  "kernelspec": {
   "display_name": "Python 3 (ipykernel)",
   "language": "python",
   "name": "python3"
  },
  "language_info": {
   "codemirror_mode": {
    "name": "ipython",
    "version": 3
   },
   "file_extension": ".py",
   "mimetype": "text/x-python",
   "name": "python",
   "nbconvert_exporter": "python",
   "pygments_lexer": "ipython3",
   "version": "3.11.5"
  }
 },
 "nbformat": 4,
 "nbformat_minor": 5
}
