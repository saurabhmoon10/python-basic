{
 "cells": [
  {
   "cell_type": "markdown",
   "id": "ca26b5bb",
   "metadata": {},
   "source": [
    "### Define a program that asks the user to enter a number and determines whether it's even or odd."
   ]
  },
  {
   "cell_type": "code",
   "execution_count": 4,
   "id": "56fc1811",
   "metadata": {},
   "outputs": [
    {
     "name": "stdout",
     "output_type": "stream",
     "text": [
      "Enter the number\n",
      "3\n",
      "The number 3 is a odd number.\n"
     ]
    }
   ],
   "source": [
    "try:\n",
    "    #asking user for input to check whether it is even number or odd number.\n",
    "    a=int(input(\"Enter the number\\n\"))\n",
    "    \n",
    "    if a%2==0:\n",
    "        print(f\"The number {a} is a even number.\")\n",
    "    else:\n",
    "        print(f\"The number {a} is a odd number.\")\n",
    "        \n",
    "except Exception as e:\n",
    "    print(e)"
   ]
  },
  {
   "cell_type": "code",
   "execution_count": null,
   "id": "7f921512",
   "metadata": {},
   "outputs": [],
   "source": []
  }
 ],
 "metadata": {
  "kernelspec": {
   "display_name": "Python 3 (ipykernel)",
   "language": "python",
   "name": "python3"
  },
  "language_info": {
   "codemirror_mode": {
    "name": "ipython",
    "version": 3
   },
   "file_extension": ".py",
   "mimetype": "text/x-python",
   "name": "python",
   "nbconvert_exporter": "python",
   "pygments_lexer": "ipython3",
   "version": "3.11.5"
  }
 },
 "nbformat": 4,
 "nbformat_minor": 5
}
